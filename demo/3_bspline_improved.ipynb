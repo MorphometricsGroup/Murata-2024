{
 "cells": [
  {
   "cell_type": "markdown",
   "id": "cfae9fb1-0ee8-4442-81d2-17f31204dadc",
   "metadata": {},
   "source": [
    "# Not for demo. But we used this notebook to do an accurate B-spline.\n",
    "\n",
    "## B-splineデモ 02\n",
    "\n",
    "Noshita, Koji <noshita@morphometrics.jp>\n",
    "\n",
    "できるだけシンプルなB-spline fittingによるcurve fragmentの後処理のデモンストレーション\n",
    "\n",
    "切れ込みがあるもの，セレーションのあるものへの適用\n",
    "\n",
    "### 方針\n",
    "\n",
    "* [make_lsq_spline](https://docs.scipy.org/doc/scipy/reference/generated/scipy.interpolate.make_lsq_spline.html)を利用する\n",
    "* 周期性は仮定しない\n",
    "* （曲線上の位置を示す）パラメータへは微小ノイズを与えて同じ値が含まれないようにするハックをおこなう"
   ]
  },
  {
   "cell_type": "code",
   "execution_count": null,
   "id": "3a07df65-890c-4ad8-bed8-63e1f49da6ed",
   "metadata": {
    "tags": []
   },
   "outputs": [],
   "source": [
    "import glob, pickle\n",
    "\n",
    "import numpy as np\n",
    "import scipy as sp\n",
    "import pandas as pd\n",
    "\n",
    "import open3d as o3d\n",
    "\n",
    "from scipy.interpolate import make_lsq_spline, make_smoothing_spline\n",
    "\n",
    "from sklearn.decomposition import PCA\n",
    "\n",
    "import matplotlib.pyplot as plt\n",
    "import seaborn as sns\n",
    "import plotly.express as px\n",
    "import plotly.graph_objects as go"
   ]
  },
  {
   "cell_type": "code",
   "execution_count": null,
   "id": "550dd698-cf00-4a8b-be15-48597725b886",
   "metadata": {
    "tags": []
   },
   "outputs": [],
   "source": [
    "def cvt_polar(x,y):\n",
    "    \"\"\"Convert to polar coordinate system\n",
    "    x, y -> r, theta\n",
    "    \"\"\"\n",
    "    r = np.sqrt(x**2+y**2)\n",
    "    theta = np.sign(y)*np.arccos(x/np.sqrt(x**2+y**2))\n",
    "    return r, theta\n",
    "\n",
    "def generate_knots(start, end, n_interval, d):\n",
    "    \"\"\"Generate knot vector\n",
    "    Parameters\n",
    "    ==============\n",
    "    start: float\n",
    "    end: float\n",
    "        start and end of knots\n",
    "    n_interval: int\n",
    "        number of interval\n",
    "    d: int\n",
    "        degree of B-spline\n",
    "    \n",
    "    Returns\n",
    "    ==============\n",
    "    knots: array, shape(n_interval+2*dim + 1)\n",
    "        knot vector\n",
    "    \n",
    "    \"\"\"\n",
    "    step = (end-start)/n_interval\n",
    "    knots_ = [i for i in np.arange(start, end+step, step)]\n",
    "    knots_p = [knots_[0] for i in range(d)]\n",
    "    knots_a = [knots_[-1] for i in range(d)]\n",
    "    \n",
    "    knots = np.array(knots_p + knots_ + knots_a)\n",
    "    return knots"
   ]
  },
  {
   "cell_type": "markdown",
   "id": "ead482cf-36f9-4eb9-8882-ea81fccafd50",
   "metadata": {},
   "source": [
    "## データ読み込み・確認"
   ]
  },
  {
   "cell_type": "code",
   "execution_count": null,
   "id": "d2ae43b0-66e2-4f5a-93b2-91184aa60f04",
   "metadata": {
    "tags": []
   },
   "outputs": [],
   "source": [
    "# FILE_PATH = \"../data/Bspline_202311/fix_45_maple_supported_curves.pickle\"\n",
    "name = \"rolling_alpha_004\"\n",
    "FILE_PATH = \"data/supported_curve/55_\"+name+\"_supported_curves.pickle\"\n",
    "\n",
    "\n",
    "with open(FILE_PATH, \"rb\") as f:\n",
    "    curve_fragments = pickle.load(f)\n",
    "    curve_fragments = [curve for curves in curve_fragments for i, curve in enumerate(curves) if i%50 == 0]\n",
    "len(curve_fragments)"
   ]
  },
  {
   "cell_type": "code",
   "execution_count": null,
   "id": "1be5d082-02dc-4e71-b8dc-185da5a00087",
   "metadata": {
    "tags": []
   },
   "outputs": [],
   "source": [
    "coord_3d = np.concatenate(curve_fragments)"
   ]
  },
  {
   "cell_type": "code",
   "execution_count": null,
   "id": "663591f2-644a-4218-9de2-f0e6530d4152",
   "metadata": {
    "tags": []
   },
   "outputs": [],
   "source": [
    "x,y,z = coord_3d[0:-1:100].T\n",
    "\n",
    "fig = go.Figure(data=[go.Scatter3d(\n",
    "    x=x,\n",
    "    y=y,\n",
    "    z=z,\n",
    "    mode='markers',\n",
    "    marker=dict(\n",
    "        size=1,\n",
    "        color=z,                \n",
    "        colorscale='Viridis',   \n",
    "        opacity=0.8\n",
    "    )\n",
    ")])\n",
    "\n",
    "fig.update_layout(\n",
    "    margin=dict(l=0, r=0, b=0, t=0), \n",
    "    scene={\"aspectmode\":\"data\"}\n",
    ")"
   ]
  },
  {
   "cell_type": "code",
   "execution_count": null,
   "id": "6447f94f-83dd-4cd6-99c5-33d0ba69927a",
   "metadata": {
    "tags": []
   },
   "outputs": [],
   "source": [
    "# mesh = o3d.io.read_triangle_mesh(\"../data/Bspline_202311/aligned/maple_leaf.ply\")\n",
    "mesh = o3d.io.read_triangle_mesh(\"data/mesh/translate_\"+name+\".ply\")\n",
    "\n",
    "\n",
    "vertices = np.asarray(mesh.vertices)\n",
    "triangles = np.asarray(mesh.triangles)\n",
    "mesh"
   ]
  },
  {
   "cell_type": "code",
   "execution_count": null,
   "id": "9009b4bd-b1a8-4ca6-b4a7-7bf70ce7e787",
   "metadata": {
    "tags": []
   },
   "outputs": [],
   "source": [
    "x_edge,y_edge,z_edge = coord_3d[0:-1:100].T\n",
    "\n",
    "x_surf, y_surf, z_surf = vertices.T\n",
    "\n",
    "I, J, K = triangles.T\n",
    "\n",
    "fig = go.Figure(data=[go.Scatter3d(\n",
    "    x=x_edge,\n",
    "    y=y_edge,\n",
    "    z=z_edge,\n",
    "    mode='markers',\n",
    "    marker=dict(\n",
    "        size=1,\n",
    "        color=z,                \n",
    "        colorscale='Viridis',   \n",
    "        opacity=0.8\n",
    "    )\n",
    "),\n",
    "    go.Mesh3d(\n",
    "            x=x_surf,\n",
    "            y=y_surf,\n",
    "            z=z_surf, \n",
    "            i=I, \n",
    "            j=J, \n",
    "            k=K, \n",
    "            flatshading=True,\n",
    "            # colorscale=colorscale, \n",
    "            intensity=z_surf, \n",
    "            showscale=False)\n",
    "                     ])\n",
    "\n",
    "fig.update_layout(\n",
    "    margin=dict(l=0, r=0, b=0, t=0), \n",
    "    scene={\"aspectmode\":\"data\"}\n",
    ")\n",
    "fig.show()"
   ]
  },
  {
   "cell_type": "code",
   "execution_count": null,
   "id": "cf35adcd-e7e8-4e43-9b1e-ab1231a727d6",
   "metadata": {
    "tags": []
   },
   "outputs": [],
   "source": [
    "plt.hist(x_edge)"
   ]
  },
  {
   "cell_type": "code",
   "execution_count": null,
   "id": "225dbe1b-5b3a-40af-af1f-04473d9d6a07",
   "metadata": {},
   "outputs": [],
   "source": [
    "plt.scatter(x_edge,y_edge+2)"
   ]
  },
  {
   "cell_type": "markdown",
   "id": "59a56030-5c0b-43ae-900d-a89d86776227",
   "metadata": {},
   "source": [
    "## データ前処理"
   ]
  },
  {
   "cell_type": "code",
   "execution_count": null,
   "id": "b2c41d7b-36a8-48d4-8b0a-783a196705d2",
   "metadata": {
    "tags": []
   },
   "outputs": [],
   "source": [
    "pca = PCA(n_components=3)\n",
    "coord_2d = pca.fit_transform(coord_3d)\n",
    "coord_2d = np.array([coord_2d[:,0], coord_2d[:,2]]).T"
   ]
  },
  {
   "cell_type": "code",
   "execution_count": null,
   "id": "377babd2-5d41-483b-864d-783a4f778e8b",
   "metadata": {},
   "outputs": [],
   "source": [
    "coord_2d.shape"
   ]
  },
  {
   "cell_type": "code",
   "execution_count": null,
   "id": "34a59984-d237-4da5-a4f1-61b5b6794712",
   "metadata": {},
   "outputs": [],
   "source": [
    "#x_temp, y_temp = coord_3d[:,0], coord_3d[:,1]+2\n",
    "#coord_2d = np.array([x_temp, y_temp]).T"
   ]
  },
  {
   "cell_type": "code",
   "execution_count": null,
   "id": "9f52782c-eabe-4419-8312-36ebac9d629a",
   "metadata": {
    "tags": []
   },
   "outputs": [],
   "source": [
    "fig, ax = plt.subplots(1, 1)\n",
    "ax.axis('equal')\n",
    "sns.scatterplot(x=coord_2d[:,0], y=coord_2d[:,1], ax=ax)"
   ]
  },
  {
   "cell_type": "code",
   "execution_count": null,
   "id": "528b7424-d745-4e83-a2dd-7b184fcd2041",
   "metadata": {
    "tags": []
   },
   "outputs": [],
   "source": [
    "r, theta = cvt_polar(coord_2d[:,0], coord_2d[:,1])\n",
    "\n",
    "# thetaは-Pi/2から3Pi/2までとする場合\n",
    "# 開始，終了点の曲率を低くするためのハック\n",
    "# theta = np.array([t+2*np.pi if t < -np.pi/2 else t for t in theta])"
   ]
  },
  {
   "cell_type": "code",
   "execution_count": null,
   "id": "654c82ee-a1ff-4ba4-82ff-ae5a93bf279f",
   "metadata": {
    "tags": []
   },
   "outputs": [],
   "source": [
    "fig, ax = plt.subplots(1, 1)\n",
    "ax.axis('equal')\n",
    "sns.scatterplot(x=coord_2d[:,0], y=coord_2d[:,1], hue=theta, ax=ax)"
   ]
  },
  {
   "cell_type": "markdown",
   "id": "39c747d9-3639-4f30-aca0-4c6cf9eaf7f1",
   "metadata": {
    "tags": []
   },
   "source": [
    "## B-spline fitting 閉曲線版推定"
   ]
  },
  {
   "cell_type": "code",
   "execution_count": null,
   "id": "092a646a-328d-43fd-b66d-df485da00be3",
   "metadata": {
    "tags": []
   },
   "outputs": [],
   "source": [
    "from scipy.optimize import curve_fit, least_squares, minimize\n",
    "from scipy.interpolate import BSpline"
   ]
  },
  {
   "cell_type": "code",
   "execution_count": null,
   "id": "9b96606d-989c-4b1a-9775-1f6e74f66dad",
   "metadata": {
    "tags": []
   },
   "outputs": [],
   "source": [
    "# def generate_knots_circular_bspline(start, end, n_interval, d):\n",
    "    \n",
    "#     step = (end-start)/n_interval\n",
    "#     knots_ = [i for i in np.arange(start, end+step, step)]\n",
    "#     knots_p = [knots_[i+len(knots_)-2] - (knots_[-1] - knots_[0]) for i in range(1-d, 1)]\n",
    "#     knots_a = [knots_[i-len(knots_)]+ (knots_[-1]-knots_[0]) for i in range(len(knots_)+1,len(knots_)+d+2)]\n",
    "    \n",
    "#     knots = knots_p + knots_ + knots_a\n",
    "    \n",
    "#     return np.array(knots)\n",
    "\n",
    "def generate_knots_circular_bspline(start, end, n_interval, d):\n",
    "    \n",
    "    step = (end-start)/n_interval\n",
    "    knots_ = [i for i in np.arange(start, end, step)]\n",
    "    knots_p = [knots_[i+len(knots_)-2] - (knots_[-1] - knots_[0]) for i in range(1-d, 1)]\n",
    "    knots_a = [knots_[i-len(knots_)]+ (knots_[-1]-knots_[0]) for i in range(len(knots_)+1,len(knots_)+d+2)]\n",
    "    \n",
    "    knots = knots_p + knots_ + knots_a\n",
    "    \n",
    "    return np.array(knots)"
   ]
  },
  {
   "cell_type": "code",
   "execution_count": null,
   "id": "96cb0aee-6994-4003-ab3f-21fcec144802",
   "metadata": {
    "tags": []
   },
   "outputs": [],
   "source": [
    "degree = 3\n",
    "n_interval = 64\n",
    "knots = generate_knots_circular_bspline(-np.pi, np.pi, n_interval, degree)\n",
    "print(len(knots), knots)\n",
    "\n",
    "# def bspline_wrapper(theta, c1, c2, c3, c4, c5, c6, c7, c8, c9, c10, c11, c12, c13, c14, c15, c16, c17, c18, c19):\n",
    "#     bspline = BSpline(knots, \n",
    "#                       [c1, c2, c3, c4, c5, c6, c7, c8, c9, c10, c11, c12, c13, c14, c15, c16, c17, c18, c19, 0], \n",
    "#                       degree, extrapolate=\"periodic\")\n",
    "#     return bspline(theta)\n",
    "\n",
    "# def bspline_wrapper(theta, c1, c2, c3, c4, c5, c6, c7, c8, c9, c10, c11, c12, c13, c14, c15, c16, c17, c18, c19, c20):\n",
    "#     bspline = BSpline(knots, \n",
    "#                       [c1, c2, c3, c4, c5, c6, c7, c8, c9, c10, c11, c12, c13, c14, c15, c16, c17, c18, c19, c20], \n",
    "#                       degree, extrapolate=\"periodic\")\n",
    "#     return bspline(theta)\n",
    "# def bspline_wrapper(theta, \n",
    "#                     c1, c2, c3, c4, c5, c6, c7, c8, c9, c10, \n",
    "#                     c11, c12, c13, c14, c15, c16, c17, c18, c19, c20, \n",
    "#                     c21, c22, c23, c24, c25, c26, c27, c28, c29, c30,\n",
    "#                     c31, c32, c33, c34, c35, c36, c37, c38, c39\n",
    "#                    ):\n",
    "#     bspline = BSpline(knots, \n",
    "#                       [c1, c2, c3, c4, c5, c6, c7, c8, c9, c10, \n",
    "#                     c11, c12, c13, c14, c15, c16, c17, c18, c19, c20, \n",
    "#                     c21, c22, c23, c24, c25, c26, c27, c28, c29, c30,\n",
    "#                     c31, c32, c33, c34, c35, c36, c37, c38, c39], \n",
    "#                       degree, extrapolate=\"periodic\")\n",
    "#     return bspline(theta)\n",
    "\n",
    "def generate_bspline_wrapper(knots, degree):\n",
    "    str_def = \"\"\"\n",
    "def bspline_wrapper(theta, {c}):\n",
    "    bspline = BSpline({knots}, [{c}], {degree}, extrapolate=\"periodic\")\n",
    "    return bspline(theta)\n",
    "\"\"\"\n",
    "    \n",
    "    n_c = len(knots)\n",
    "    knots_str = np.array2string(knots, precision=10^4, max_line_width=np.inf,separator=\",\")\n",
    "    c_str = \", \".join([\"c\"+str(i) for i in range(n_c)])\n",
    "    exec(str_def.format(c=c_str,  knots = knots_str, degree=degree), globals())\n",
    "    \n",
    "    return bspline_wrapper\n",
    "\n",
    "bspline_wrapper = generate_bspline_wrapper(knots, degree)\n",
    "bspline_wrapper"
   ]
  },
  {
   "cell_type": "code",
   "execution_count": null,
   "id": "b89cd37a-b0ed-4c45-9d28-d98c5e969dfc",
   "metadata": {
    "tags": []
   },
   "outputs": [],
   "source": [
    "theta_r = theta + (10**-8)*np.random.random(len(theta))\n",
    "idx_sorted = np.argsort(theta_r)\n",
    "theta_sorted = theta_r[idx_sorted]\n",
    "coord_3d_sorted = coord_3d[idx_sorted]\n",
    "\n",
    "print(\"original: \", theta.shape, \"sorted: \", np.unique(theta_sorted).shape)"
   ]
  },
  {
   "cell_type": "code",
   "execution_count": null,
   "id": "6fde1899-9b50-4efd-8eb3-1611659fc2b1",
   "metadata": {
    "tags": []
   },
   "outputs": [],
   "source": [
    "popt_x, pcov_x = curve_fit(bspline_wrapper, theta_sorted, coord_3d_sorted[:,0], bounds=(-50,50), ftol=10**-6)\n",
    "print(\"done: x\")\n",
    "popt_y, pcov_y = curve_fit(bspline_wrapper, theta_sorted, coord_3d_sorted[:,1], bounds=(-50,50), ftol=10**-6)\n",
    "print(\"done: y\")\n",
    "popt_z, pcov_z = curve_fit(bspline_wrapper, theta_sorted, coord_3d_sorted[:,2], bounds=(-50,50), ftol=10**-6)\n",
    "print(\"done: z\")"
   ]
  },
  {
   "cell_type": "code",
   "execution_count": null,
   "id": "a50215cc-c2b0-4633-a188-c750db023e7c",
   "metadata": {
    "tags": []
   },
   "outputs": [],
   "source": [
    "popt_x"
   ]
  },
  {
   "cell_type": "code",
   "execution_count": null,
   "id": "67024ec1-2df5-4cc1-9100-060dadc7d2c8",
   "metadata": {
    "tags": []
   },
   "outputs": [],
   "source": [
    "pcov_x"
   ]
  },
  {
   "cell_type": "code",
   "execution_count": null,
   "id": "1a75cdb6-aca1-4da6-ad78-182257f76e6e",
   "metadata": {
    "tags": []
   },
   "outputs": [],
   "source": [
    "popt_y"
   ]
  },
  {
   "cell_type": "code",
   "execution_count": null,
   "id": "a5061ec4-d995-4b71-8771-b5e359ea36f0",
   "metadata": {
    "tags": []
   },
   "outputs": [],
   "source": [
    "pcov_y"
   ]
  },
  {
   "cell_type": "code",
   "execution_count": null,
   "id": "762120a1-f233-415e-903e-83be031ea043",
   "metadata": {
    "tags": []
   },
   "outputs": [],
   "source": [
    "popt_z"
   ]
  },
  {
   "cell_type": "markdown",
   "id": "10dfab66-e892-4f46-a870-d9333f80af04",
   "metadata": {},
   "source": [
    "### 推定結果に基づく座標値"
   ]
  },
  {
   "cell_type": "code",
   "execution_count": null,
   "id": "8febd10c-a871-4576-9dcb-84ad29d5331d",
   "metadata": {
    "tags": []
   },
   "outputs": [],
   "source": [
    "theta_recon = np.linspace(-np.pi, np.pi, 3600)\n",
    "coord_3d_recon = np.stack([\n",
    "    bspline_wrapper(theta_recon, *popt_x), \n",
    "    bspline_wrapper(theta_recon, *popt_y), \n",
    "    bspline_wrapper(theta_recon, *popt_z), \n",
    "]).T"
   ]
  },
  {
   "cell_type": "code",
   "execution_count": null,
   "id": "fece16a1-7ed7-451b-a7bd-a77e318ad45b",
   "metadata": {
    "tags": []
   },
   "outputs": [],
   "source": [
    "coord_3d_recon[0]"
   ]
  },
  {
   "cell_type": "code",
   "execution_count": null,
   "id": "a9102d91-72bd-481d-aff6-a3db400c8807",
   "metadata": {
    "tags": []
   },
   "outputs": [],
   "source": [
    "coord_3d_recon[-1]"
   ]
  },
  {
   "cell_type": "code",
   "execution_count": null,
   "id": "dac6f8f5-da7c-4d4b-abd6-5e1b9c285b5a",
   "metadata": {
    "tags": []
   },
   "outputs": [],
   "source": [
    "sns.scatterplot(x=theta_recon, y=coord_3d_recon[:,0])\n",
    "sns.scatterplot(x=theta_recon, y=coord_3d_recon[:,1])\n",
    "sns.scatterplot(x=theta_recon, y=coord_3d_recon[:,2])"
   ]
  },
  {
   "cell_type": "code",
   "execution_count": null,
   "id": "3f69fc27-f831-4034-b8da-2f4e306a2630",
   "metadata": {
    "tags": []
   },
   "outputs": [],
   "source": [
    "# FILE_PATH_COORD_RECON = \"../data/Bspline_202311/leaf_lobed_nIntervals_64.csv\"\n",
    "# FILE_PATH_COEF = \"../data/Bspline_202311/leaf_lobed_coef_nIntervals_64.csv\"\n",
    "\n",
    "FILE_PATH_COORD_RECON = \"data/result/\"+name+\"_nIntervals_64.csv\"\n",
    "FILE_PATH_COEF = \"data/result/\"+name+\"_coef_nIntervals_64.csv\"\n",
    "\n",
    "np.savetxt(FILE_PATH_COORD_RECON, coord_3d_recon)\n",
    "pd.DataFrame(np.stack([popt_x, popt_y, popt_z],1), columns=[\"c_x\", \"c_y\", \"c_z\"]).to_csv(FILE_PATH_COEF, index=False)"
   ]
  },
  {
   "cell_type": "markdown",
   "id": "28aaed91-d941-4dee-b64b-0ef607b5fd89",
   "metadata": {},
   "source": [
    "## 可視化"
   ]
  },
  {
   "cell_type": "code",
   "execution_count": null,
   "id": "84d6ea60-dfca-4a00-92ae-dffc07370884",
   "metadata": {
    "tags": []
   },
   "outputs": [],
   "source": [
    "x,y,z = coord_3d[0:-1:100].T\n",
    "\n",
    "x_recon,y_recon,z_recon = coord_3d_recon.T\n",
    "x_recon = np.append(x_recon, x_recon[0])\n",
    "y_recon = np.append(y_recon, y_recon[0])\n",
    "z_recon = np.append(z_recon, z_recon[0])\n",
    "\n",
    "fig = go.Figure(data=[go.Scatter3d(\n",
    "    x=x,\n",
    "    y=y,\n",
    "    z=z,\n",
    "    mode='markers',\n",
    "    marker=dict(\n",
    "        size=1,\n",
    "        color=z,                \n",
    "        colorscale='Viridis',   \n",
    "        opacity=0.8\n",
    "    )\n",
    "),go.Scatter3d(\n",
    "    x=x_recon, y=y_recon, z=z_recon,\n",
    "    marker=dict(\n",
    "        size=1,\n",
    "        colorscale='Viridis',\n",
    "    ),\n",
    "    line=dict(\n",
    "        color=\"red\",\n",
    "        width=10\n",
    "    )\n",
    ")])\n",
    "\n",
    "fig.update_layout(\n",
    "    margin=dict(l=0, r=0, b=0, t=0), \n",
    "    scene={\"aspectmode\":\"data\"}\n",
    ")"
   ]
  },
  {
   "cell_type": "code",
   "execution_count": null,
   "id": "8d7218c6-6654-47b9-a69b-8b7295274803",
   "metadata": {},
   "outputs": [],
   "source": []
  },
  {
   "cell_type": "code",
   "execution_count": null,
   "id": "a8827e41-ee9d-4d4a-bf64-0979628c87b4",
   "metadata": {
    "tags": []
   },
   "outputs": [],
   "source": [
    "x_surf, y_surf, z_surf = vertices.T\n",
    "I, J, K = triangles.T\n",
    "\n",
    "fig = go.Figure(data=[\n",
    "    go.Mesh3d(\n",
    "            x=x_surf,\n",
    "            y=y_surf,\n",
    "            z=z_surf, \n",
    "            i=I, \n",
    "            j=J, \n",
    "            k=K, \n",
    "            color=\"lime\",\n",
    "            # flatshading=True,\n",
    "            # colorscale=colorscale, \n",
    "            # intensity=z_surf, \n",
    "            opacity=0.7,\n",
    "            showscale=False)\n",
    "                     ])\n",
    "\n",
    "fig.update_scenes(xaxis_visible=False, yaxis_visible=False,zaxis_visible=False)\n",
    "fig.update_layout(\n",
    "    margin=dict(l=0, r=0, b=0, t=0), \n",
    "    scene={\"aspectmode\":\"data\"},\n",
    "    scene_camera = dict(eye=dict(x=-3, y=-3, z=3)),\n",
    "    plot_bgcolor = \"rgba(0, 0, 0, 0)\",\n",
    "    paper_bgcolor = \"rgba(0, 0, 0, 0)\",\n",
    ")\n",
    "fig.show()\n",
    "fig.write_image(\"data/result/\"+name+\".png\", scale=6)"
   ]
  },
  {
   "cell_type": "code",
   "execution_count": null,
   "id": "b6f40526-1949-4568-9a80-57fc4bc458e2",
   "metadata": {
    "tags": []
   },
   "outputs": [],
   "source": [
    "# curve_fragments[0][0]\n",
    "len(curve_fragments[0])"
   ]
  },
  {
   "cell_type": "code",
   "execution_count": null,
   "id": "502db3cd-c683-4374-9a1e-cf38190b2dd8",
   "metadata": {
    "tags": []
   },
   "outputs": [],
   "source": [
    "x_recon,y_recon,z_recon = coord_3d_recon.T\n",
    "# x_recon = np.append(x_recon, x_recon[0])\n",
    "# y_recon = np.append(y_recon, y_recon[0])\n",
    "# z_recon = np.append(z_recon, z_recon[0])\n",
    "\n",
    "x_surf, y_surf, z_surf = vertices.T\n",
    "I, J, K = triangles.T\n",
    "\n",
    "fig = go.Figure(data=[\n",
    "    go.Mesh3d(\n",
    "            x=x_surf,\n",
    "            y=y_surf,\n",
    "            z=z_surf, \n",
    "            i=I, \n",
    "            j=J, \n",
    "            k=K, \n",
    "            color=\"lime\",\n",
    "            # flatshading=True,\n",
    "            # colorscale=colorscale, \n",
    "            # intensity=z_surf, \n",
    "            opacity=0.7,\n",
    "            showscale=False),\n",
    "    go.Scatter3d(\n",
    "    x=x_recon,\n",
    "    y=y_recon,\n",
    "    z=z_recon,\n",
    "    mode='lines',\n",
    "    line=dict(\n",
    "        width=12,\n",
    "        color=\"purple\",                \n",
    "    )\n",
    ")\n",
    "                     ])\n",
    "\n",
    "fig.update_scenes(xaxis_visible=False, yaxis_visible=False,zaxis_visible=False)\n",
    "fig.update_layout(\n",
    "    margin=dict(l=0, r=0, b=0, t=0), \n",
    "    scene={\"aspectmode\":\"data\"},\n",
    "    scene_camera = dict(eye=dict(x=-3, y=-3, z=3)),\n",
    "    plot_bgcolor = \"rgba(0, 0, 0, 0)\",\n",
    "    paper_bgcolor = \"rgba(0, 0, 0, 0)\",\n",
    ")\n",
    "fig.show()\n",
    "fig.write_image(\"data/result/\"+name+\"_bspline.png\", scale=6)"
   ]
  },
  {
   "cell_type": "code",
   "execution_count": null,
   "id": "cbe15acf-cc1b-4115-98a9-dbc166295e5e",
   "metadata": {
    "tags": []
   },
   "outputs": [],
   "source": [
    "x,y,z = coord_3d_recon.T\n",
    "\n",
    "fig = go.Figure(data=[go.Scatter3d(\n",
    "    x=x, y=y, z=z,\n",
    "    marker=dict(\n",
    "        size=1,\n",
    "        colorscale='Viridis',\n",
    "    ),\n",
    "    line=dict(\n",
    "        color=\"red\",\n",
    "        width=10\n",
    "    )\n",
    ")\n",
    "                     ])\n",
    "\n",
    "fig.update_layout(\n",
    "    margin=dict(l=0, r=0, b=0, t=0), \n",
    "    scene={\"aspectmode\":\"data\"}\n",
    ")"
   ]
  },
  {
   "cell_type": "code",
   "execution_count": null,
   "id": "465c9521-3566-48c2-9b69-f6643c5851f1",
   "metadata": {},
   "outputs": [],
   "source": []
  },
  {
   "cell_type": "code",
   "execution_count": null,
   "id": "98faa6fb-bdbe-4b9e-b975-df899bf0cef4",
   "metadata": {
    "tags": []
   },
   "outputs": [],
   "source": [
    "x,y,z = coord_3d_recon.T\n",
    "\n",
    "fig = go.Figure(data=[go.Scatter3d(\n",
    "    x=x,\n",
    "    y=y,\n",
    "    z=z,\n",
    "    mode='markers',\n",
    "    marker=dict(\n",
    "        size=2,\n",
    "        color=theta_recon,                \n",
    "        colorscale='Viridis',   \n",
    "        opacity=0.8\n",
    "    )\n",
    ")])\n",
    "\n",
    "fig.update_layout(\n",
    "    margin=dict(l=0, r=0, b=0, t=0), \n",
    "    scene={\"aspectmode\":\"data\"}\n",
    ")"
   ]
  },
  {
   "cell_type": "markdown",
   "id": "fa6c12eb-2b41-4a37-bbf5-9ccf7c769ead",
   "metadata": {
    "tags": []
   },
   "source": [
    "## 差の計算\n",
    "[Shapely](https://shapely.readthedocs.io/en/stable/)を使って，Fréchet距離を計算する"
   ]
  },
  {
   "cell_type": "code",
   "execution_count": null,
   "id": "51e61f80-e036-4ca1-9755-0ff71253ad4b",
   "metadata": {
    "tags": []
   },
   "outputs": [],
   "source": [
    "from shapely import linearrings, frechet_distance, hausdorff_distance"
   ]
  },
  {
   "cell_type": "code",
   "execution_count": null,
   "id": "5d7db9ab-d4b1-4545-8265-d3608f4cdd3b",
   "metadata": {
    "tags": []
   },
   "outputs": [],
   "source": [
    "poly1 = linearrings(curve_list[0])\n",
    "poly2 = linearrings(curve_list[1])"
   ]
  },
  {
   "cell_type": "code",
   "execution_count": null,
   "id": "8cf0d5ae-c995-4921-84cd-f6987dd91649",
   "metadata": {
    "tags": []
   },
   "outputs": [],
   "source": [
    "frechet_distance(poly1, poly2)"
   ]
  },
  {
   "cell_type": "code",
   "execution_count": null,
   "id": "4473f6f5-df93-4d86-b2ac-06702451a1f9",
   "metadata": {
    "tags": []
   },
   "outputs": [],
   "source": [
    "frechet_distance(poly2, poly1)"
   ]
  },
  {
   "cell_type": "code",
   "execution_count": null,
   "id": "395bb0f7-d1cd-4efd-a4c8-887917f42472",
   "metadata": {
    "tags": []
   },
   "outputs": [],
   "source": [
    "hausdorff_distance(poly1, poly2)"
   ]
  },
  {
   "cell_type": "code",
   "execution_count": null,
   "id": "e7ed3fd2-b0b1-40ad-91d0-bfdd4987bbde",
   "metadata": {},
   "outputs": [],
   "source": []
  }
 ],
 "metadata": {
  "kernelspec": {
   "display_name": "Python 3 (ipykernel)",
   "language": "python",
   "name": "python3"
  },
  "language_info": {
   "codemirror_mode": {
    "name": "ipython",
    "version": 3
   },
   "file_extension": ".py",
   "mimetype": "text/x-python",
   "name": "python",
   "nbconvert_exporter": "python",
   "pygments_lexer": "ipython3",
   "version": "3.7.13"
  }
 },
 "nbformat": 4,
 "nbformat_minor": 5
}
