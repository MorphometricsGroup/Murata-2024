{
 "cells": [
  {
   "cell_type": "code",
   "execution_count": null,
   "id": "d3911894",
   "metadata": {},
   "outputs": [],
   "source": [
    "import glob, pickle\n",
    "import pathlib, os\n",
    "\n",
    "import numpy as np\n",
    "import scipy as sp\n",
    "import pandas as pd\n",
    "\n",
    "from scipy.interpolate import make_lsq_spline\n",
    "import open3d as o3d\n",
    "from sklearn.decomposition import PCA\n",
    "\n",
    "import matplotlib.pyplot as plt\n",
    "import seaborn as sns\n",
    "import plotly.express as px\n",
    "import plotly.graph_objects as go"
   ]
  },
  {
   "cell_type": "code",
   "execution_count": null,
   "id": "afa39a4a",
   "metadata": {},
   "outputs": [],
   "source": [
    "file_path = \"SPLINED_CURVE_PATH\""
   ]
  },
  {
   "cell_type": "code",
   "execution_count": null,
   "id": "8bbcdc5d",
   "metadata": {},
   "outputs": [],
   "source": [
    "file_path = \"data/splined_curve/demo_splined_curve.pickle\""
   ]
  },
  {
   "cell_type": "code",
   "execution_count": null,
   "id": "07d1b631",
   "metadata": {},
   "outputs": [],
   "source": [
    "with open(file_path, \"rb\") as f:\n",
    "    coord_3d_recons = pickle.load(f)"
   ]
  },
  {
   "cell_type": "code",
   "execution_count": null,
   "id": "2f24373b",
   "metadata": {},
   "outputs": [],
   "source": [
    "%matplotlib inline\n",
    "fig = plt.figure(figsize = (12, 12))\n",
    "fig.patch.set_alpha(0.)\n",
    "ax = fig.add_subplot(111, projection='3d')\n",
    "\n",
    "ax.set_xlabel(\"x\", size = 14)\n",
    "ax.set_ylabel(\"z\", size = 14)\n",
    "ax.set_zlabel(\"y\", size = 14)\n",
    "ax.set_box_aspect((1,1,1))\n",
    "ax.view_init(elev=30, azim=-90)\n",
    "\n",
    "ax.axis(\"off\")\n",
    "\n",
    "for i in range(len(coord_3d_recons)):\n",
    "    x_q, y_q, z_q = coord_3d_recons[i][:,0], coord_3d_recons[i][:,1], coord_3d_recons[i][:,2]\n",
    "    ax.plot(x_q, y_q, z_q,\"-\",lw=3)#,color=\"#920092\")\n",
    "\n",
    "plt.show()"
   ]
  },
  {
   "cell_type": "code",
   "execution_count": null,
   "id": "a6d6e632",
   "metadata": {},
   "outputs": [],
   "source": []
  }
 ],
 "metadata": {
  "kernelspec": {
   "display_name": "Python 3 (ipykernel)",
   "language": "python",
   "name": "python3"
  },
  "language_info": {
   "codemirror_mode": {
    "name": "ipython",
    "version": 3
   },
   "file_extension": ".py",
   "mimetype": "text/x-python",
   "name": "python",
   "nbconvert_exporter": "python",
   "pygments_lexer": "ipython3",
   "version": "3.7.13"
  }
 },
 "nbformat": 4,
 "nbformat_minor": 5
}
