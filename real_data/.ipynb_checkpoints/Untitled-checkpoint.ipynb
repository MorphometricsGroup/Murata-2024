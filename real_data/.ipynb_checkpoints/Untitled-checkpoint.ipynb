{
 "cells": [
  {
   "cell_type": "code",
   "execution_count": 1,
   "id": "e2864617",
   "metadata": {},
   "outputs": [],
   "source": [
    "import glob\n",
    "import pathlib\n",
    "import numpy as np\n",
    "import pickle"
   ]
  },
  {
   "cell_type": "code",
   "execution_count": 2,
   "id": "ef20cabc",
   "metadata": {},
   "outputs": [],
   "source": [
    "p = pathlib.Path('temp/')\n",
    "l = list(p.glob(\"*.TDlines\"))"
   ]
  },
  {
   "cell_type": "code",
   "execution_count": 18,
   "id": "e5046f8e",
   "metadata": {},
   "outputs": [],
   "source": [
    "l = [i.stem for i in l]"
   ]
  },
  {
   "cell_type": "code",
   "execution_count": 24,
   "id": "c4d2e178",
   "metadata": {},
   "outputs": [],
   "source": [
    "sl = [i.split(\"_\") for i in l]"
   ]
  },
  {
   "cell_type": "code",
   "execution_count": 45,
   "id": "06a32b24",
   "metadata": {},
   "outputs": [],
   "source": [
    "ol = []\n",
    "for j in range(265):\n",
    "    templ = []\n",
    "    templ2 = []\n",
    "    for i in sl:\n",
    "        if int(i[0]) == j:\n",
    "            templ.append(int(i[1]))\n",
    "            templ2.append(i)\n",
    "\n",
    "    il = np.argsort(templ)\n",
    "    ol += list(np.array(templ2)[il])\n"
   ]
  },
  {
   "cell_type": "code",
   "execution_count": 52,
   "id": "56b8a921",
   "metadata": {},
   "outputs": [],
   "source": [
    "A = [((int(i[0]), int(i[1])), i[2]) for i in ol]"
   ]
  },
  {
   "cell_type": "code",
   "execution_count": 53,
   "id": "f9996dd4",
   "metadata": {},
   "outputs": [],
   "source": [
    "with open('tag.pickle', 'wb') as f:\n",
    "    pickle.dump(A, f)"
   ]
  },
  {
   "cell_type": "code",
   "execution_count": null,
   "id": "800d95ef",
   "metadata": {},
   "outputs": [],
   "source": []
  }
 ],
 "metadata": {
  "kernelspec": {
   "display_name": "Python 3",
   "language": "python",
   "name": "python3"
  },
  "language_info": {
   "codemirror_mode": {
    "name": "ipython",
    "version": 3
   },
   "file_extension": ".py",
   "mimetype": "text/x-python",
   "name": "python",
   "nbconvert_exporter": "python",
   "pygments_lexer": "ipython3",
   "version": "3.7.10"
  }
 },
 "nbformat": 4,
 "nbformat_minor": 5
}
