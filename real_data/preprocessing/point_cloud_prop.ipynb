{
 "cells": [
  {
   "cell_type": "code",
   "execution_count": 1,
   "id": "a6ac361d",
   "metadata": {},
   "outputs": [
    {
     "name": "stdout",
     "output_type": "stream",
     "text": [
      "Jupyter environment detected. Enabling Open3D WebVisualizer.\n",
      "[Open3D INFO] WebRTC GUI backend enabled.\n",
      "[Open3D INFO] WebRTCWindowSystem: HTTP handshake server disabled.\n"
     ]
    }
   ],
   "source": [
    "import pickle\n",
    "import itertools\n",
    "import open3d as o3d\n",
    "import numpy as np\n",
    "import matplotlib.pyplot as plt\n",
    "import os\n",
    "import cv2\n",
    "import pathlib"
   ]
  },
  {
   "cell_type": "code",
   "execution_count": 40,
   "id": "db831c07",
   "metadata": {},
   "outputs": [],
   "source": [
    "import pickle\n",
    "\n",
    "with open('pt_coord.pickle', 'rb') as f:\n",
    "    pt_list = pickle.load(f)"
   ]
  },
  {
   "cell_type": "code",
   "execution_count": 41,
   "id": "9fbc2acb",
   "metadata": {},
   "outputs": [],
   "source": [
    "pt_list_np = np.asarray(pt_list)\n",
    "pcd = o3d.geometry.PointCloud()\n",
    "pcd.points = o3d.utility.Vector3dVector(pt_list_np)"
   ]
  },
  {
   "cell_type": "code",
   "execution_count": 42,
   "id": "3592ef7a",
   "metadata": {},
   "outputs": [],
   "source": [
    "x_sd = np.sqrt(np.sum(np.square(pt_list_np[:,0] - np.average(pt_list_np[:,0])))/pt_list_np[:,0].size)\n",
    "x_ave = np.average(pt_list_np[:,0])\n",
    "x_idx = np.all(np.stack((pt_list_np[:,0] < x_ave + 3 * x_sd, pt_list_np[:,0] > x_ave - 3 * x_sd),axis=1),axis=1)\n",
    "\n",
    "y_sd = np.sqrt(np.sum(np.square(pt_list_np[:,1] - np.average(pt_list_np[:,1])))/pt_list_np[:,1].size)\n",
    "y_ave = np.average(pt_list_np[:,1])\n",
    "y_idx = np.all(np.stack((pt_list_np[:,1] < y_ave + 3 * y_sd, pt_list_np[:,1] > y_ave - 3 * y_sd),axis=1),axis=1)\n",
    "\n",
    "z_sd = np.sqrt(np.sum(np.square(pt_list_np[:,2] - np.average(pt_list_np[:,2])))/pt_list_np[:,2].size)\n",
    "z_ave = np.average(pt_list_np[:,2])\n",
    "z_idx = np.all(np.stack((pt_list_np[:,2] < z_ave + 3 * z_sd, pt_list_np[:,2] > z_ave - 3 * z_sd),axis=1),axis=1)"
   ]
  },
  {
   "cell_type": "code",
   "execution_count": 43,
   "id": "90230ab1",
   "metadata": {},
   "outputs": [],
   "source": [
    "pt_list_np = pt_list_np[np.all(np.stack((x_idx, y_idx, z_idx),axis=1), axis=1)]\n",
    "(np.array([True, False]))\n",
    "pcd.points = o3d.utility.Vector3dVector(pt_list_np)"
   ]
  },
  {
   "cell_type": "code",
   "execution_count": 44,
   "id": "d9f0574d",
   "metadata": {},
   "outputs": [],
   "source": [
    "pts = np.asarray(pcd.points)\n",
    "pli = np.array([True, False,False])\n",
    "idx = np.tile(pli, pts.shape[0]//3)\n",
    "idx = np.append(idx, [pli[i] for i in range(pts.shape[0]%3)])\n",
    "\n",
    "pcd.points = o3d.utility.Vector3dVector(pts[idx])"
   ]
  },
  {
   "cell_type": "code",
   "execution_count": 45,
   "id": "8d8d671f",
   "metadata": {},
   "outputs": [],
   "source": [
    "o3d.visualization.draw_geometries([pcd])"
   ]
  },
  {
   "cell_type": "code",
   "execution_count": 46,
   "id": "2c5823f3",
   "metadata": {},
   "outputs": [
    {
     "name": "stdout",
     "output_type": "stream",
     "text": [
      "[Open3D DEBUG] Precompute neighbors.\n",
      "[Open3D DEBUG] Done Precompute neighbors.\n",
      "[Open3D DEBUG] Compute Clusters\n",
      "[Open3D DEBUG] Done Compute Clusters: 7\n",
      "point cloud has 7 clusters\n"
     ]
    }
   ],
   "source": [
    "# クラスタリング\n",
    "with o3d.utility.VerbosityContextManager(o3d.utility.VerbosityLevel.Debug) as cm:\n",
    "    labels = np.array(pcd.cluster_dbscan(eps=0.1, min_points=100))\n",
    "\n",
    "max_label = labels.max()\n",
    "print(f\"point cloud has {max_label + 1} clusters\")\n",
    "colors = plt.get_cmap(\"tab20\")(labels / (max_label if max_label > 0 else 1))\n",
    "colors[labels < 0] = 0\n",
    "pcd.colors = o3d.utility.Vector3dVector(colors[:, :3])\n",
    "o3d.visualization.draw_geometries([pcd])"
   ]
  },
  {
   "cell_type": "code",
   "execution_count": 61,
   "id": "b39ac473",
   "metadata": {},
   "outputs": [],
   "source": [
    "pcd_np = np.asarray(pcd.points)\n"
   ]
  },
  {
   "cell_type": "code",
   "execution_count": 62,
   "id": "8449ca50",
   "metadata": {},
   "outputs": [],
   "source": [
    "noise_list = []\n",
    "for i in range(np.max(labels)+1):\n",
    "    if np.sum(labels == i)>100:\n",
    "        noise_list.append(i)\n",
    "noise_list = np.asarray(noise_list)"
   ]
  },
  {
   "cell_type": "code",
   "execution_count": 63,
   "id": "4406d07c",
   "metadata": {},
   "outputs": [],
   "source": [
    "t_list = np.zeros(len(labels),dtype=np.bool8)\n",
    "for i in noise_list:\n",
    "    t_list += labels == i"
   ]
  },
  {
   "cell_type": "code",
   "execution_count": 64,
   "id": "778c362c",
   "metadata": {},
   "outputs": [],
   "source": [
    "denoise_pcd_np = pcd_np[t_list]\n",
    "denoise_colors = colors[t_list]\n",
    "denoise_labels = labels[t_list]"
   ]
  },
  {
   "cell_type": "code",
   "execution_count": 65,
   "id": "c3df9aef",
   "metadata": {},
   "outputs": [],
   "source": [
    "denoise_pcd = o3d.geometry.PointCloud()\n",
    "denoise_pcd.points = o3d.utility.Vector3dVector(denoise_pcd_np)\n",
    "#denoise_pcd.colors = o3d.utility.Vector3dVector(denoise_colors[:, :3])"
   ]
  },
  {
   "cell_type": "code",
   "execution_count": 66,
   "id": "69826d29",
   "metadata": {},
   "outputs": [],
   "source": [
    "o3d.visualization.draw_geometries([denoise_pcd])"
   ]
  },
  {
   "cell_type": "code",
   "execution_count": 67,
   "id": "18fe2a66",
   "metadata": {},
   "outputs": [
    {
     "name": "stdout",
     "output_type": "stream",
     "text": [
      "[Open3D DEBUG] Precompute neighbors.\n",
      "[Open3D DEBUG] Done Precompute neighbors.\n",
      "[Open3D DEBUG] Compute Clusters\n",
      "[Open3D DEBUG] Done Compute Clusters: 7\n",
      "point cloud has 7 clusters\n",
      "[Open3D WARNING] GLFW Error: WGL: Failed to make context current: 要求された変換操作はサポートされていません。 \n"
     ]
    }
   ],
   "source": [
    "# クラスタリング\n",
    "with o3d.utility.VerbosityContextManager(o3d.utility.VerbosityLevel.Debug) as cm:\n",
    "    labels = np.array(denoise_pcd.cluster_dbscan(eps=0.1, min_points=100))\n",
    "\n",
    "max_label = labels.max()\n",
    "print(f\"point cloud has {max_label + 1} clusters\")\n",
    "colors = plt.get_cmap(\"tab20\")(labels / (max_label if max_label > 0 else 1))\n",
    "colors[labels < 0] = 0\n",
    "denoise_pcd.colors = o3d.utility.Vector3dVector(colors[:, :3])\n",
    "o3d.visualization.draw_geometries([denoise_pcd])"
   ]
  },
  {
   "cell_type": "code",
   "execution_count": 68,
   "id": "a87cdffe",
   "metadata": {},
   "outputs": [
    {
     "data": {
      "text/plain": [
       "True"
      ]
     },
     "execution_count": 68,
     "metadata": {},
     "output_type": "execute_result"
    }
   ],
   "source": [
    "o3d.io.write_point_cloud(\"denoise.ply\", denoise_pcd)"
   ]
  },
  {
   "cell_type": "code",
   "execution_count": null,
   "id": "15984b99",
   "metadata": {},
   "outputs": [],
   "source": []
  }
 ],
 "metadata": {
  "kernelspec": {
   "display_name": "Python 3",
   "language": "python",
   "name": "python3"
  },
  "language_info": {
   "codemirror_mode": {
    "name": "ipython",
    "version": 3
   },
   "file_extension": ".py",
   "mimetype": "text/x-python",
   "name": "python",
   "nbconvert_exporter": "python",
   "pygments_lexer": "ipython3",
   "version": "3.7.10"
  }
 },
 "nbformat": 4,
 "nbformat_minor": 5
}
