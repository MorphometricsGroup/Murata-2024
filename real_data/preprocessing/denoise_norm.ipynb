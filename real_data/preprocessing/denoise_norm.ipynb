{
 "cells": [
  {
   "cell_type": "code",
   "execution_count": 1,
   "id": "4fd5227f",
   "metadata": {},
   "outputs": [
    {
     "name": "stdout",
     "output_type": "stream",
     "text": [
      "Jupyter environment detected. Enabling Open3D WebVisualizer.\n",
      "[Open3D INFO] WebRTC GUI backend enabled.\n",
      "[Open3D INFO] WebRTCWindowSystem: HTTP handshake server disabled.\n"
     ]
    }
   ],
   "source": [
    "import pickle\n",
    "import itertools\n",
    "import open3d as o3d\n",
    "import numpy as np\n",
    "import matplotlib.pyplot as plt\n",
    "import os\n",
    "import cv2\n",
    "import pathlib"
   ]
  },
  {
   "cell_type": "code",
   "execution_count": 6,
   "id": "de4079b7",
   "metadata": {},
   "outputs": [],
   "source": [
    "pcd = o3d.io.read_point_cloud(\"polygon/GmJMC025_02_ds.ply\")\n",
    "pt_list_np = np.asarray(pcd.points)\n",
    "pt_color = np.asarray(pcd.colors)"
   ]
  },
  {
   "cell_type": "code",
   "execution_count": 7,
   "id": "0099955d",
   "metadata": {},
   "outputs": [],
   "source": [
    "o3d.visualization.draw_geometries([pcd])"
   ]
  },
  {
   "cell_type": "code",
   "execution_count": 11,
   "id": "96380fd9",
   "metadata": {},
   "outputs": [
    {
     "data": {
      "text/plain": [
       "1.000000803329"
      ]
     },
     "execution_count": 11,
     "metadata": {},
     "output_type": "execute_result"
    }
   ],
   "source": [
    "x_sd = np.sqrt(np.sum(np.square(pt_list_np[:,0] - np.average(pt_list_np[:,0])))/pt_list_np[:,0].size)\n",
    "x_ave = np.average(pt_list_np[:,0])\n",
    "x_idx = np.all(np.stack((pt_list_np[:,0] < x_ave + 3 * x_sd, pt_list_np[:,0] > x_ave - 3 * x_sd),axis=1),axis=1)\n",
    "\n",
    "y_sd = np.sqrt(np.sum(np.square(pt_list_np[:,1] - np.average(pt_list_np[:,1])))/pt_list_np[:,1].size)\n",
    "y_ave = np.average(pt_list_np[:,1])\n",
    "y_idx = np.all(np.stack((pt_list_np[:,1] < y_ave + 3 * y_sd, pt_list_np[:,1] > y_ave - 3 * y_sd),axis=1),axis=1)\n",
    "\n",
    "z_sd = np.sqrt(np.sum(np.square(pt_list_np[:,2] - np.average(pt_list_np[:,2])))/pt_list_np[:,2].size)\n",
    "z_ave = np.average(pt_list_np[:,2])\n",
    "z_idx = np.all(np.stack((pt_list_np[:,2] < z_ave + 3 * z_sd, pt_list_np[:,2] > z_ave - 3 * z_sd),axis=1),axis=1)"
   ]
  },
  {
   "cell_type": "code",
   "execution_count": null,
   "id": "ba69b139",
   "metadata": {},
   "outputs": [],
   "source": [
    "pt_list_np = pt_list_np[np.all(np.stack((x_idx, y_idx, z_idx),axis=1), axis=1)]\n",
    "pt_color = pt_color[np.all(np.stack((x_idx, y_idx, z_idx),axis=1), axis=1)]\n",
    "#(np.array([True, False]))\n",
    "pcd.points = o3d.utility.Vector3dVector(pt_list_np)\n",
    "pcd.colors = o3d.utility.Vector3dVector(pt_color)"
   ]
  },
  {
   "cell_type": "code",
   "execution_count": null,
   "id": "e465a76f",
   "metadata": {},
   "outputs": [],
   "source": [
    "pcd.estimate_normals()\n",
    "o3d.io.write_point_cloud(\"denoise_colored.ply\", pcd)"
   ]
  }
 ],
 "metadata": {
  "kernelspec": {
   "display_name": "Python 3",
   "language": "python",
   "name": "python3"
  },
  "language_info": {
   "codemirror_mode": {
    "name": "ipython",
    "version": 3
   },
   "file_extension": ".py",
   "mimetype": "text/x-python",
   "name": "python",
   "nbconvert_exporter": "python",
   "pygments_lexer": "ipython3",
   "version": "3.7.10"
  }
 },
 "nbformat": 4,
 "nbformat_minor": 5
}
