{
 "cells": [
  {
   "cell_type": "code",
   "execution_count": 60,
   "id": "03ce1b6b",
   "metadata": {},
   "outputs": [],
   "source": [
    "import pickle\n",
    "import itertools\n",
    "import open3d as o3d\n",
    "import numpy as np\n",
    "import matplotlib.pyplot as plt\n",
    "import os\n",
    "import cv2\n",
    "import pathlib"
   ]
  },
  {
   "cell_type": "code",
   "execution_count": 61,
   "id": "742380ff",
   "metadata": {},
   "outputs": [],
   "source": [
    "dataset_name = \"kannyou\""
   ]
  },
  {
   "cell_type": "code",
   "execution_count": 62,
   "id": "b50b13c7",
   "metadata": {},
   "outputs": [],
   "source": [
    "## mask.csvように書き換える\n",
    "class metashape_Camera:\n",
    "    def __init__(self, val):\n",
    "        self.img_num = val\n",
    "        inner_para_path = pathlib.Path(\"../view_mats/{}_view_mat/inner_para.csv\".format(dataset_name))\n",
    "        self.A = np.loadtxt(str(inner_para_path), delimiter=\",\")\n",
    "\n",
    "    def img_load(self):\n",
    "        folder_path = \"../images/{}\".format(dataset_name)\n",
    "        file_path = os.path.join(folder_path, str(self.img_num) + \".JPG\")\n",
    "        img = cv2.imread(file_path, 1)# BGRで読み込み\n",
    "        img = cv2.cvtColor(img, cv2.COLOR_BGR2RGB)\n",
    "        #img = cv2.flip(img, 1) # 反転 unity用?\n",
    "        self.img = img # 画像(ndarray)\n",
    "        self.img_shape = img.shape\n",
    "\n",
    "    def mask_load(self):\n",
    "        folder = pathlib.Path(\"../masks/{}_mask\".format(dataset_name))\n",
    "        masks_path = list(folder.glob(str(self.img_num)+\"_\"+\"*\"+\".png\"))\n",
    "        if masks_path == []:\n",
    "            zero_mask = np.zeros(self.img_shape).astype(\"int8\")\n",
    "            mask_path = \"../masks/{}_mask/\".format(dataset_name) + str(self.img_num)+\"_\"+\"0\"+\".png\"\n",
    "            cv2.imwrite(mask_path, zero_mask)\n",
    "            masks_path = [mask_path]\n",
    "\n",
    "        mask_list = []\n",
    "        for mask_path in masks_path:\n",
    "            mask = cv2.imread(str(mask_path), cv2.IMREAD_GRAYSCALE)\n",
    "            mask_list.append(mask)\n",
    "        self.masks = np.asarray(mask_list).transpose(1, 2, 0)\n",
    "        \n",
    "    def para_load(self, viwe_mat_path=\"../view_mats/{}_view_mat/\".format(dataset_name)):\n",
    "        folder_path = pathlib.Path(viwe_mat_path)\n",
    "        file_path = os.path.join(folder_path, str(self.img_num)+\".csv\")\n",
    "        self.Rt = np.loadtxt(file_path, delimiter=\",\")\n",
    "        self.Rt = np.linalg.pinv(self.Rt)\n",
    "        self.P = np.dot(self.A, self.Rt[0:3,0:4])\n",
    "        self.cam_world_cood = -np.dot(self.Rt[0:3,0:3].T, self.Rt[0:3,3])\n",
    "        \n",
    "def cood_to_mask(csv_path, im_shape):\n",
    "    idx = np.loadtxt(str(csv_path), delimiter=\",\")\n",
    "    idx = idx.astype(np.int64)\n",
    "    \n",
    "    mask = np.zeros(im_shape, dtype=np.uint8)\n",
    "    \n",
    "    if idx.size == 0:\n",
    "        return mask\n",
    "    \n",
    "    mask[idx[0],idx[1]] = 255\n",
    "    return mask\n",
    "\n",
    "def normalization(vec3):\n",
    "    return np.array([vec3[:,0]/vec3[:,2], vec3[:,1]/vec3[:,2]]).T"
   ]
  },
  {
   "cell_type": "code",
   "execution_count": 63,
   "id": "503e482f",
   "metadata": {},
   "outputs": [],
   "source": [
    "def norm(vec):\n",
    "    s_vec = np.square(vec)\n",
    "    sume = np.sum(s_vec)\n",
    "    ss = np.sqrt(sume)\n",
    "    return vec/ss"
   ]
  },
  {
   "cell_type": "code",
   "execution_count": 64,
   "id": "16340222",
   "metadata": {},
   "outputs": [],
   "source": [
    "pcd = o3d.io.read_point_cloud(\"polygon/{}/{}_ds_denoise.ply\".format(dataset_name, dataset_name))\n",
    "\n",
    "#labels = np.array(pcd.cluster_dbscan(eps=0.1, min_points=100))\n",
    "with open(r\"polygon/{}/{}_point_cloud_label.pickle\".format(dataset_name, dataset_name), 'rb') as f:\n",
    "    labels = pickle.load(f)\n",
    "\n",
    "max_label = labels.max()\n",
    "colors = plt.get_cmap(\"tab20\")(labels / (max_label if max_label > 0 else 1))\n",
    "colors[labels < 0] = 0\n",
    "pcd.colors = o3d.utility.Vector3dVector(colors[:, :3])\n",
    "\n",
    "LABELS = labels\n",
    "PCD = pcd\n",
    "\n",
    "class LabelProp:\n",
    "    \n",
    "    def __init__(self, val, pcd, labels):\n",
    "        self.num = val\n",
    "        self.LABELS = labels\n",
    "        self.PCD = pcd\n",
    "        \n",
    "    def cam_load(self):\n",
    "        test = metashape_Camera(self.num)\n",
    "        test.img_load()\n",
    "        test.mask_load()\n",
    "        test.para_load()\n",
    "        self.cam = test\n",
    "    \n",
    "    def point_cloud_load(self):\n",
    "        #pcd = o3d.io.read_point_cloud(\"denoise.ply\")\n",
    "\n",
    "        #with o3d.utility.VerbosityContextManager(o3d.utility.VerbosityLevel.Debug) as cm:\n",
    "        #labels = np.array(pcd.cluster_dbscan(eps=0.1, min_points=100))\n",
    "\n",
    "        #max_label = labels.max()\n",
    "        #colors = plt.get_cmap(\"tab20\")(labels / (max_label if max_label > 0 else 1))\n",
    "        #colors[labels < 0] = 0\n",
    "        #pcd.colors = o3d.utility.Vector3dVector(colors[:, :3])\n",
    "        \n",
    "        self.pcd = self.PCD\n",
    "        self.labels = self.LABELS\n",
    "        u, counts = np.unique(self.labels, return_counts=True)\n",
    "        self.pt_counts = counts\n",
    "    \n",
    "    def pc_prop(self):\n",
    "        # 点群加工\n",
    "        camera = self.cam.cam_world_cood\n",
    "        diameter = np.linalg.norm(\n",
    "            np.asarray(self.pcd.get_max_bound()) - np.asarray(self.pcd.get_min_bound()))\n",
    "\n",
    "        #camera = cam_world_cood\n",
    "        radius = diameter*1000\n",
    "        \n",
    "        self.pre_pt = pcd.points\n",
    "        self.pre_pt = np.concatenate([np.asarray(self.pre_pt), np.ones((np.asarray(self.pre_pt).shape[0],1))], axis=1)\n",
    "\n",
    "        _, pt_map = self.pcd.hidden_point_removal(camera, radius)\n",
    "        self.pcd = self.pcd.select_by_index(sorted(pt_map))\n",
    "\n",
    "        self.TD_points = np.concatenate([np.asarray(self.pcd.points), np.ones((np.asarray(self.pcd.points).shape[0],1))], axis=1)\n",
    "        self.pre_labels = self.labels\n",
    "        self.labels = self.labels[np.array(sorted(pt_map))]\n",
    "        \n",
    "#    def pc_labeling_menber(self):\n",
    "#        repro_points = normalization((self.cam.P@self.TD_points.T).T)\n",
    "#        repro_points = np.round(repro_points).astype(np.int64)\n",
    "#        \n",
    "#        idx = (repro_points[:,0]>0) & (repro_points[:,0]<self.cam.img_shape[1]) & (repro_points[:,1]>0) & (repro_points[:,1]<self.cam.img_shape[0])\n",
    "#        \n",
    "#        self.repro_points = repro_points[idx]\n",
    "#        self.labels = self.labels[idx]\n",
    "        \n",
    "    def pc_labeling_menber(self):\n",
    "        self.repro_points, self.labels = pc_labeling(self.TD_points, self.cam.P, self.cam.img_shape, self.labels)\n",
    "        self.pre_repro_pt, self.pre_labels = pc_labeling(self.pre_pt, self.cam.P, self.cam.img_shape, self.pre_labels)\n",
    "        \n",
    "    def labeling(self):\n",
    "        overrap_list = np.zeros((labels.max().astype(int)+1 , self.cam.masks.shape[2]))\n",
    "        for j in np.unique(self.labels):\n",
    "            temp_overrap_list = []\n",
    "            zero_mask = np.zeros([self.cam.masks.shape[0],self.cam.masks.shape[1]])\n",
    "            zero_mask[self.repro_points[self.labels==j][:,1], self.repro_points[self.labels==j][:,0]] = 1\n",
    "            for i in range(self.cam.masks.shape[2]):\n",
    "                temp_overrap_list.append(np.sum((zero_mask>0) * (self.cam.masks[:,:,i]>0)))\n",
    "            overrap_list[int(j),:] = np.array(temp_overrap_list)\n",
    "        all_zero_idx = np.all(overrap_list==0, axis=0)\n",
    "        label = np.argmax(overrap_list, axis=0).astype(\"float64\")\n",
    "        self.repro_point_num = np.max(overrap_list, axis=1)\n",
    "        label[all_zero_idx] = np.nan\n",
    "        self.output_label = label\n",
    "        \n",
    "    def calc_occlusion(self):\n",
    "        counts = self.pt_counts\n",
    "        occlusion = self.repro_point_num/counts\n",
    "        self.occlusion = occlusion\n",
    "        \n",
    "        \n",
    "def pc_labeling(TD_points, P_mat, img_shape, labels):\n",
    "    repro_points = normalization((P_mat@TD_points.T).T)\n",
    "    repro_points = np.round(repro_points).astype(np.int64)    \n",
    "    idx = (repro_points[:,0]>0) & (repro_points[:,0]<img_shape[1]) & (repro_points[:,1]>0) & (repro_points[:,1]<img_shape[0])\n",
    "    repro_points = repro_points[idx]\n",
    "    labels = labels[idx]\n",
    "    return repro_points, labels\n",
    "\n",
    "def prop_all(num, pcd, labels):\n",
    "    lp = LabelProp(num, pcd, labels)\n",
    "    lp.cam_load()\n",
    "    lp.point_cloud_load()\n",
    "    lp.pc_prop()\n",
    "    lp.pc_labeling_menber()\n",
    "    lp.labeling()\n",
    "    lp.calc_occlusion()\n",
    "    return lp.output_label, lp.occlusion"
   ]
  },
  {
   "cell_type": "code",
   "execution_count": 65,
   "id": "396e5928",
   "metadata": {
    "scrolled": true
   },
   "outputs": [
    {
     "name": "stdout",
     "output_type": "stream",
     "text": [
      "0\n",
      "1\n",
      "2\n",
      "3\n",
      "4\n",
      "5\n",
      "6\n",
      "7\n",
      "8\n",
      "9\n",
      "10\n",
      "11\n",
      "12\n",
      "13\n",
      "14\n",
      "15\n",
      "16\n",
      "17\n",
      "18\n",
      "19\n",
      "20\n",
      "21\n",
      "22\n",
      "23\n",
      "24\n",
      "25\n",
      "26\n",
      "27\n",
      "28\n",
      "29\n",
      "30\n",
      "31\n",
      "32\n",
      "33\n",
      "34\n",
      "35\n",
      "36\n",
      "37\n",
      "38\n",
      "39\n",
      "40\n",
      "41\n",
      "42\n",
      "43\n",
      "44\n",
      "45\n",
      "46\n",
      "47\n",
      "48\n",
      "49\n",
      "50\n",
      "51\n",
      "52\n",
      "53\n",
      "54\n",
      "55\n",
      "56\n",
      "57\n",
      "58\n",
      "59\n",
      "60\n",
      "61\n",
      "62\n",
      "63\n",
      "64\n",
      "65\n",
      "66\n",
      "67\n",
      "68\n",
      "69\n",
      "70\n",
      "71\n",
      "72\n",
      "73\n",
      "74\n",
      "75\n",
      "76\n",
      "77\n",
      "78\n",
      "79\n",
      "80\n",
      "81\n",
      "82\n",
      "83\n",
      "84\n",
      "85\n",
      "86\n",
      "87\n",
      "88\n",
      "89\n",
      "90\n",
      "91\n",
      "92\n",
      "93\n",
      "94\n",
      "95\n",
      "96\n",
      "97\n",
      "98\n",
      "99\n",
      "100\n",
      "101\n",
      "102\n",
      "103\n",
      "104\n",
      "105\n",
      "106\n",
      "107\n",
      "108\n",
      "109\n",
      "110\n",
      "111\n",
      "112\n",
      "113\n",
      "114\n",
      "115\n",
      "116\n",
      "117\n",
      "118\n",
      "119\n"
     ]
    }
   ],
   "source": [
    "l = []\n",
    "o = []\n",
    "for i in range(120): \n",
    "    label, occlusion = prop_all(i, pcd, labels)\n",
    "    l.append(label)\n",
    "    o.append(occlusion)\n",
    "    print(i)\n",
    "\n",
    "\n",
    "with open(\"../labels/{}_label.pickle\".format(dataset_name), 'wb') as f:\n",
    "    pickle.dump(l, f)\n",
    "        \n",
    "with open(\"../labels/{}_occlusion.pickle\".format(dataset_name), 'wb') as f:\n",
    "    pickle.dump(o, f)"
   ]
  },
  {
   "cell_type": "code",
   "execution_count": 66,
   "id": "11c3b533",
   "metadata": {},
   "outputs": [
    {
     "data": {
      "text/plain": [
       "[array([ 0.,  2., 15.]),\n",
       " array([15.,  0.,  2.]),\n",
       " array([ 2.,  0., 15.]),\n",
       " array([15.,  2.,  0.]),\n",
       " array([ 0., 15.,  2.]),\n",
       " array([ 2.,  0., 15.]),\n",
       " array([ 2., 15.,  0.]),\n",
       " array([ 0., 15.,  2.]),\n",
       " array([15.,  0.,  2.]),\n",
       " array([ 0.,  2., 15.]),\n",
       " array([15.,  0.,  2.]),\n",
       " array([ 2.,  0., 15.]),\n",
       " array([15.,  2.,  0.]),\n",
       " array([ 2.,  0., 15.]),\n",
       " array([15.,  2.,  0.]),\n",
       " array([ 2., 15.,  0.]),\n",
       " array([ 0., 15.,  2.]),\n",
       " array([0., 2., 2.]),\n",
       " array([2., 0., 2.]),\n",
       " array([ 2.,  0., nan]),\n",
       " array([0., 2., 2.]),\n",
       " array([ 0.,  2., 15.]),\n",
       " array([15.,  2.,  0.]),\n",
       " array([15.,  2.,  2.]),\n",
       " array([ 2., 15.,  0.]),\n",
       " array([15.,  0.,  2.]),\n",
       " array([15.,  2.,  0.]),\n",
       " array([15.,  0.,  2.]),\n",
       " array([15.,  0.,  2.]),\n",
       " array([ 2.,  0., 15.]),\n",
       " array([ 2.,  0., 15.]),\n",
       " array([ 2.,  0., 15.]),\n",
       " array([ 2.,  0., 15.]),\n",
       " array([ 2., 15.,  0.]),\n",
       " array([ 0.,  2., 15.]),\n",
       " array([15.,  0.,  2.]),\n",
       " array([ 0.,  2., 15.]),\n",
       " array([ 0., 15.,  2.]),\n",
       " array([ 0., 15.,  2.]),\n",
       " array([ 0., 15.,  2.]),\n",
       " array([15.,  2.,  0.]),\n",
       " array([ 2.,  0., 15.]),\n",
       " array([ 2.,  0., 15.]),\n",
       " array([ 2., 15.,  0.]),\n",
       " array([ 2., 15.,  0.]),\n",
       " array([15.,  0.,  2.]),\n",
       " array([15.,  0.,  2.]),\n",
       " array([15.,  2.,  0.]),\n",
       " array([2., 0., 2.]),\n",
       " array([0., 2., 2.]),\n",
       " array([0., 2., 2.]),\n",
       " array([2., 2., 0.]),\n",
       " array([ 0., 15.,  2.]),\n",
       " array([ 0.,  2., 15.]),\n",
       " array([ 0.,  2., 15.]),\n",
       " array([ 2.,  0., 15.]),\n",
       " array([15.,  2.,  0.]),\n",
       " array([ 0., 15.,  2.]),\n",
       " array([15.,  2.,  0.]),\n",
       " array([ 2.,  0., 15.]),\n",
       " array([15.,  0.,  2.]),\n",
       " array([15.,  2.,  0.]),\n",
       " array([ 2., 15.,  0.]),\n",
       " array([ 0.,  2., 15.]),\n",
       " array([ 2.,  0., 15.]),\n",
       " array([ 2., 15.,  0.]),\n",
       " array([ 2.,  0., 15.]),\n",
       " array([15.,  2.,  0.]),\n",
       " array([ 2., 15.,  0.]),\n",
       " array([ 2.,  0., 15.]),\n",
       " array([ 0.,  2., 15.]),\n",
       " array([15.,  0.,  2.]),\n",
       " array([15.,  2.,  0.]),\n",
       " array([ 2.,  0., 15.]),\n",
       " array([ 2.,  0., 15.]),\n",
       " array([0., 2., 0.]),\n",
       " array([0., 0., 2.]),\n",
       " array([15.,  0.,  2.]),\n",
       " array([15.,  2.,  0.]),\n",
       " array([2., 2., 0.]),\n",
       " array([ 2., 15.,  0.]),\n",
       " array([15.,  2.,  0.]),\n",
       " array([ 2., 15.,  0.]),\n",
       " array([ 2., 15.,  0.]),\n",
       " array([ 2., 15.,  0.]),\n",
       " array([15.,  0.,  2.]),\n",
       " array([ 2., 15.,  0.]),\n",
       " array([15.,  0.,  2.]),\n",
       " array([ 0., 15.,  2.]),\n",
       " array([ 2., 15.,  0.]),\n",
       " array([ 2.,  0., 15.]),\n",
       " array([15.,  2.,  0.]),\n",
       " array([15.,  0.,  2.]),\n",
       " array([ 2., 15.,  0.]),\n",
       " array([ 2., 15.,  0.]),\n",
       " array([15.,  2.,  0.]),\n",
       " array([ 2.,  0., 15.]),\n",
       " array([ 0.,  2., 15.]),\n",
       " array([ 2., 15.,  0.]),\n",
       " array([ 0., 15.,  2.]),\n",
       " array([ 0., 15.,  2.]),\n",
       " array([ 0., 15.,  2.]),\n",
       " array([ 2.,  0., 15.]),\n",
       " array([ 2., 15.,  0.]),\n",
       " array([ 0.,  2., 15.]),\n",
       " array([ 0., 15.,  2.]),\n",
       " array([ 2., 15.,  0.]),\n",
       " array([ 0., 15.,  2.]),\n",
       " array([15.,  2.,  0.]),\n",
       " array([ 0., 15.,  2.]),\n",
       " array([15.,  0.,  2.]),\n",
       " array([ 2.,  0., 15.]),\n",
       " array([ 0.,  2., 15.]),\n",
       " array([15.,  2.,  0.]),\n",
       " array([ 2., 15.,  0.]),\n",
       " array([ 0., 15.,  2.]),\n",
       " array([ 2.,  0., 15.]),\n",
       " array([ 2., 15.,  0.]),\n",
       " array([15.,  2.,  0.]),\n",
       " array([ 2.,  0., 15.])]"
      ]
     },
     "execution_count": 66,
     "metadata": {},
     "output_type": "execute_result"
    }
   ],
   "source": [
    "l"
   ]
  },
  {
   "cell_type": "code",
   "execution_count": null,
   "id": "ee032403",
   "metadata": {},
   "outputs": [],
   "source": []
  },
  {
   "cell_type": "code",
   "execution_count": 49,
   "id": "51f84801",
   "metadata": {},
   "outputs": [],
   "source": [
    "i = 2\n",
    "test = metashape_Camera(i)\n",
    "test.img_load()\n",
    "test.mask_load\n",
    "#test.contour_extraction()\n",
    "test.para_load()"
   ]
  },
  {
   "cell_type": "code",
   "execution_count": 51,
   "id": "6953567e",
   "metadata": {},
   "outputs": [],
   "source": [
    "# クラスタリング\n",
    "pcd = o3d.io.read_point_cloud(\"polygon/{}/{}_ds_denoise.ply\".format(dataset_name, dataset_name))\n",
    "with open(r\"polygon/{}/{}_point_cloud_label.pickle\".format(dataset_name, dataset_name), 'rb') as f:\n",
    "    labels = pickle.load(f)\n",
    "\n",
    "\n",
    "max_label = labels.max()\n",
    "colors = plt.get_cmap(\"tab20\")(labels / (max_label if max_label > 0 else 1))\n",
    "colors[labels < 0] = 0\n",
    "pcd.colors = o3d.utility.Vector3dVector(colors[:, :3])\n",
    "#o3d.visualization.draw_geometries([pcd])"
   ]
  },
  {
   "cell_type": "code",
   "execution_count": 52,
   "id": "f272a8b6",
   "metadata": {},
   "outputs": [],
   "source": [
    "camera = test.cam_world_cood\n",
    "diameter = np.linalg.norm(\n",
    "    np.asarray(pcd.get_max_bound()) - np.asarray(pcd.get_min_bound()))\n",
    "\n",
    "#camera = cam_world_cood\n",
    "radius = diameter*10000\n",
    "\n",
    "_, pt_map = pcd.hidden_point_removal(camera, radius)\n",
    "pcd = pcd.select_by_index(sorted(pt_map))\n",
    "\n",
    "TD_points = np.concatenate([np.asarray(pcd.points), np.ones((np.asarray(pcd.points).shape[0],1))], axis=1)\n",
    "\n",
    "labels = labels[np.array(sorted(pt_map))]\n",
    "#o3d.visualization.draw_geometries([pcd])"
   ]
  },
  {
   "cell_type": "code",
   "execution_count": 53,
   "id": "a94e958b",
   "metadata": {},
   "outputs": [
    {
     "data": {
      "text/plain": [
       "array([[ 0.18540536, -0.19622807, -2.5173974 ,  1.        ],\n",
       "       [ 0.15701497, -0.20704629, -2.50192213,  1.        ],\n",
       "       [ 0.15068108, -0.19495052, -2.48607278,  1.        ],\n",
       "       ...,\n",
       "       [-0.0035588 ,  0.14003479, -2.36294937,  1.        ],\n",
       "       [-0.0146537 ,  0.00956939, -2.29321933,  1.        ],\n",
       "       [-0.04897052,  0.01889233, -2.29118299,  1.        ]])"
      ]
     },
     "execution_count": 53,
     "metadata": {},
     "output_type": "execute_result"
    }
   ],
   "source": [
    "TD_points"
   ]
  },
  {
   "cell_type": "code",
   "execution_count": 54,
   "id": "b732321b",
   "metadata": {},
   "outputs": [],
   "source": [
    "repro_points = normalization((test.P@TD_points.T).T)\n",
    "repro_points = np.round(repro_points).astype(np.int64)\n"
   ]
  },
  {
   "cell_type": "code",
   "execution_count": 55,
   "id": "fc7ef6d5",
   "metadata": {},
   "outputs": [
    {
     "data": {
      "text/plain": [
       "array([[2862, 2138],\n",
       "       [2811, 2172],\n",
       "       [2800, 2150],\n",
       "       ...,\n",
       "       [2395, 1436],\n",
       "       [2429, 1741],\n",
       "       [2345, 1729]], dtype=int64)"
      ]
     },
     "execution_count": 55,
     "metadata": {},
     "output_type": "execute_result"
    }
   ],
   "source": [
    "repro_points"
   ]
  },
  {
   "cell_type": "code",
   "execution_count": 56,
   "id": "f53ee69c",
   "metadata": {},
   "outputs": [],
   "source": [
    "idx = (repro_points[:,0]>0) & (repro_points[:,0]<test.img_shape[1]) & (repro_points[:,1]>0) & (repro_points[:,1]<test.img_shape[0])"
   ]
  },
  {
   "cell_type": "code",
   "execution_count": 57,
   "id": "aaf71ef5",
   "metadata": {},
   "outputs": [
    {
     "data": {
      "text/plain": [
       "array([[2862, 2138],\n",
       "       [2811, 2172],\n",
       "       [2800, 2150],\n",
       "       ...,\n",
       "       [2395, 1436],\n",
       "       [2429, 1741],\n",
       "       [2345, 1729]], dtype=int64)"
      ]
     },
     "execution_count": 57,
     "metadata": {},
     "output_type": "execute_result"
    }
   ],
   "source": [
    "repro_points"
   ]
  },
  {
   "cell_type": "code",
   "execution_count": 58,
   "id": "47a7f033",
   "metadata": {},
   "outputs": [],
   "source": [
    "repro_points = repro_points[idx]\n",
    "labels = labels[idx]"
   ]
  },
  {
   "cell_type": "code",
   "execution_count": 59,
   "id": "a77f3954",
   "metadata": {},
   "outputs": [
    {
     "data": {
      "text/plain": [
       "<matplotlib.image.AxesImage at 0x1b824e4e308>"
      ]
     },
     "execution_count": 59,
     "metadata": {},
     "output_type": "execute_result"
    },
    {
     "data": {
      "image/png": "[encoded data removed]",
      "text/plain": [
       "<Figure size 640x480 with 1 Axes>"
      ]
     },
     "metadata": {},
     "output_type": "display_data"
    }
   ],
   "source": [
    "zero_mask = np.zeros([test.img_shape[0],test.img_shape[1]])\n",
    "zero_mask[repro_points[:,1], repro_points[:,0]] = 1\n",
    "kernel = np.ones((5,5),np.uint8)\n",
    "dilation = cv2.dilate(zero_mask*255,kernel,iterations = 5)\n",
    "plt.imshow(dilation)"
   ]
  },
  {
   "cell_type": "code",
   "execution_count": 14,
   "id": "f08def1b",
   "metadata": {},
   "outputs": [
    {
     "data": {
      "text/plain": [
       "[array([nan, nan, nan]),\n",
       " array([nan, nan, nan]),\n",
       " array([nan, nan, nan]),\n",
       " array([nan, nan, nan]),\n",
       " array([nan, nan, nan]),\n",
       " array([nan, nan, nan]),\n",
       " array([nan, nan, nan]),\n",
       " array([nan, nan, nan]),\n",
       " array([nan, nan, nan]),\n",
       " array([nan, nan, nan]),\n",
       " array([nan, nan, nan]),\n",
       " array([nan, nan, nan]),\n",
       " array([nan, nan, nan]),\n",
       " array([nan, nan, nan]),\n",
       " array([nan, nan, nan]),\n",
       " array([nan, nan, nan]),\n",
       " array([nan, nan, nan]),\n",
       " array([nan, nan, nan]),\n",
       " array([nan, nan, nan]),\n",
       " array([nan, nan, nan]),\n",
       " array([nan, nan, nan]),\n",
       " array([nan, nan, nan]),\n",
       " array([nan, nan, nan]),\n",
       " array([nan, nan, nan]),\n",
       " array([nan, nan, nan]),\n",
       " array([nan, nan, nan]),\n",
       " array([nan, nan, nan]),\n",
       " array([nan, nan, nan]),\n",
       " array([nan, nan, nan]),\n",
       " array([nan, nan, nan]),\n",
       " array([nan, nan, nan]),\n",
       " array([nan, nan, nan]),\n",
       " array([nan, nan, nan]),\n",
       " array([nan, nan, nan]),\n",
       " array([nan, nan, nan]),\n",
       " array([nan, nan, nan]),\n",
       " array([nan, nan, nan]),\n",
       " array([nan, nan, nan]),\n",
       " array([nan, nan, nan]),\n",
       " array([nan, nan, nan]),\n",
       " array([nan, nan, nan]),\n",
       " array([nan, nan, nan]),\n",
       " array([nan, nan, nan]),\n",
       " array([nan, nan, nan]),\n",
       " array([nan, nan, nan]),\n",
       " array([nan, nan, nan]),\n",
       " array([nan, nan, nan]),\n",
       " array([nan, nan, nan]),\n",
       " array([nan, nan, nan]),\n",
       " array([nan, nan, nan]),\n",
       " array([nan, nan, nan]),\n",
       " array([nan, nan, nan]),\n",
       " array([nan, nan, nan]),\n",
       " array([nan, nan, nan]),\n",
       " array([nan, nan, nan]),\n",
       " array([nan, nan, nan]),\n",
       " array([nan, nan, nan]),\n",
       " array([nan, nan, nan]),\n",
       " array([nan, nan, nan]),\n",
       " array([nan, nan, nan]),\n",
       " array([nan, nan, nan]),\n",
       " array([nan, nan, nan]),\n",
       " array([nan, nan, nan]),\n",
       " array([nan, nan, nan]),\n",
       " array([nan, nan, nan]),\n",
       " array([nan, nan, nan]),\n",
       " array([nan, nan, nan]),\n",
       " array([nan, nan, nan]),\n",
       " array([nan, nan, nan]),\n",
       " array([nan, nan, nan]),\n",
       " array([nan, nan, nan]),\n",
       " array([nan, nan, nan]),\n",
       " array([nan, nan, nan]),\n",
       " array([nan, nan, nan]),\n",
       " array([nan, nan, nan]),\n",
       " array([nan, nan, nan]),\n",
       " array([nan, nan, nan]),\n",
       " array([nan, nan, nan]),\n",
       " array([nan, nan, nan]),\n",
       " array([nan, nan, nan]),\n",
       " array([nan, nan, nan]),\n",
       " array([nan, nan, nan]),\n",
       " array([nan, nan, nan]),\n",
       " array([nan, nan, nan]),\n",
       " array([nan, nan, nan]),\n",
       " array([nan, nan, nan]),\n",
       " array([nan, nan, nan]),\n",
       " array([nan, nan, nan]),\n",
       " array([nan, nan, nan]),\n",
       " array([nan, nan, nan]),\n",
       " array([nan, nan, nan]),\n",
       " array([nan, nan, nan]),\n",
       " array([nan, nan, nan]),\n",
       " array([nan, nan, nan]),\n",
       " array([nan, nan, nan]),\n",
       " array([nan, nan, nan]),\n",
       " array([nan, nan, nan]),\n",
       " array([nan, nan, nan]),\n",
       " array([nan, nan, nan]),\n",
       " array([nan, nan, nan]),\n",
       " array([nan, nan, nan]),\n",
       " array([nan, nan, nan]),\n",
       " array([nan, nan, nan]),\n",
       " array([nan, nan, nan]),\n",
       " array([nan, nan, nan]),\n",
       " array([nan, nan, nan]),\n",
       " array([nan, nan, nan]),\n",
       " array([nan, nan, nan]),\n",
       " array([nan, nan, nan]),\n",
       " array([nan, nan, nan]),\n",
       " array([nan, nan, nan]),\n",
       " array([nan, nan, nan]),\n",
       " array([nan, nan, nan]),\n",
       " array([nan, nan, nan]),\n",
       " array([nan, nan, nan]),\n",
       " array([nan, nan, nan]),\n",
       " array([nan, nan, nan]),\n",
       " array([nan, nan, nan]),\n",
       " array([nan, nan, nan]),\n",
       " array([nan, nan, nan])]"
      ]
     },
     "execution_count": 14,
     "metadata": {},
     "output_type": "execute_result"
    }
   ],
   "source": [
    "l"
   ]
  },
  {
   "cell_type": "code",
   "execution_count": 11,
   "id": "f633aba1",
   "metadata": {},
   "outputs": [],
   "source": [
    "with open(\"../labels/{}_label.pickle\".format(dataset_name), 'wb') as f:\n",
    "    pickle.dump(l, f)\n",
    "        \n",
    "with open(\"../labels/{}_occlusion.pickle\".format(dataset_name), 'wb') as f:\n",
    "    pickle.dump(o, f)"
   ]
  },
  {
   "cell_type": "code",
   "execution_count": null,
   "id": "a223b9f1",
   "metadata": {},
   "outputs": [],
   "source": []
  },
  {
   "cell_type": "code",
   "execution_count": null,
   "id": "adc2e6ab",
   "metadata": {},
   "outputs": [],
   "source": []
  },
  {
   "cell_type": "code",
   "execution_count": 6,
   "id": "d5071937",
   "metadata": {},
   "outputs": [],
   "source": [
    "with open(\"../labels/new_GmJMC025_02_occlusion.pickle\", 'rb') as f:\n",
    "    A = pickle.load(f)"
   ]
  },
  {
   "cell_type": "code",
   "execution_count": 19,
   "id": "d6c0dad6",
   "metadata": {},
   "outputs": [],
   "source": [
    "lab_sup = [[31, 65], [33, 30], [34, 25], [35, 54], [37, 45], [38, 30], [45, 40]]"
   ]
  },
  {
   "cell_type": "code",
   "execution_count": 21,
   "id": "fe2068a8",
   "metadata": {},
   "outputs": [],
   "source": [
    "for i in range(len(lab_sup)):\n",
    "    occ = np.average(A,axis=0)[lab_sup[i][0]]\n",
    "    lab_sup[i].append(occ)"
   ]
  },
  {
   "cell_type": "code",
   "execution_count": 22,
   "id": "e3650cbd",
   "metadata": {},
   "outputs": [
    {
     "data": {
      "text/plain": [
       "[[31, 65, 0.16552331309580878],\n",
       " [33, 30, 0.1428033521279061],\n",
       " [34, 25, 0.11937498377087066],\n",
       " [35, 54, 0.1634298093150961],\n",
       " [37, 45, 0.1495980987187017],\n",
       " [38, 30, 0.1322910359542139],\n",
       " [45, 40, 0.1704730229120474]]"
      ]
     },
     "execution_count": 22,
     "metadata": {},
     "output_type": "execute_result"
    }
   ],
   "source": [
    "lab_sup"
   ]
  },
  {
   "cell_type": "code",
   "execution_count": 23,
   "id": "cf1a61f5",
   "metadata": {},
   "outputs": [],
   "source": [
    "with open(\"real_opt_sup_th.pickle\", 'wb') as f:\n",
    "    pickle.dump(lab_sup, f)"
   ]
  },
  {
   "cell_type": "code",
   "execution_count": null,
   "id": "10737cf8",
   "metadata": {},
   "outputs": [],
   "source": []
  },
  {
   "cell_type": "code",
   "execution_count": 7,
   "id": "26ef821d",
   "metadata": {},
   "outputs": [],
   "source": [
    "with open(\"../labels/new_GmJMC025_02_label.pickle\", 'rb') as f:\n",
    "    B = pickle.load(f)"
   ]
  },
  {
   "cell_type": "code",
   "execution_count": 8,
   "id": "4aef38b8",
   "metadata": {},
   "outputs": [
    {
     "data": {
      "text/plain": [
       "(array([34.,  3.,  2.,  0.,  0.,  0.,  0.,  2.,  2.,  3.]),\n",
       " array([0.        , 0.0170473 , 0.0340946 , 0.05114191, 0.06818921,\n",
       "        0.08523651, 0.10228381, 0.11933112, 0.13637842, 0.15342572,\n",
       "        0.17047302]),\n",
       " <BarContainer object of 10 artists>)"
      ]
     },
     "execution_count": 8,
     "metadata": {},
     "output_type": "execute_result"
    },
    {
     "data": {
      "image/png": "[encoded data removed]",
      "text/plain": [
       "<Figure size 640x480 with 1 Axes>"
      ]
     },
     "metadata": {},
     "output_type": "display_data"
    }
   ],
   "source": [
    "plt.hist(np.average(np.stack(A), axis=0))"
   ]
  },
  {
   "cell_type": "code",
   "execution_count": 9,
   "id": "9d670701",
   "metadata": {},
   "outputs": [],
   "source": [
    "u, counts = np.unique(np.concatenate(B), return_counts=True)"
   ]
  },
  {
   "cell_type": "code",
   "execution_count": 10,
   "id": "1901340b",
   "metadata": {},
   "outputs": [
    {
     "data": {
      "text/plain": [
       "array([ 52,  45,  79,  17,  19,   3,  12,  14,   4, 136,  22, 303, 209,\n",
       "       242, 235, 241, 183,   5, 198,  31], dtype=int64)"
      ]
     },
     "execution_count": 10,
     "metadata": {},
     "output_type": "execute_result"
    }
   ],
   "source": [
    "counts"
   ]
  },
  {
   "cell_type": "code",
   "execution_count": 11,
   "id": "bcedea9d",
   "metadata": {},
   "outputs": [
    {
     "data": {
      "text/plain": [
       "array([ 0.,  1.,  3.,  4.,  7.,  8., 11., 12., 13., 15., 21., 31., 33.,\n",
       "       34., 35., 37., 38., 39., 45., nan])"
      ]
     },
     "execution_count": 11,
     "metadata": {},
     "output_type": "execute_result"
    }
   ],
   "source": [
    "u"
   ]
  },
  {
   "cell_type": "code",
   "execution_count": null,
   "id": "2f6b3ce7",
   "metadata": {},
   "outputs": [],
   "source": []
  }
 ],
 "metadata": {
  "kernelspec": {
   "display_name": "Python 3 (ipykernel)",
   "language": "python",
   "name": "python3"
  },
  "language_info": {
   "codemirror_mode": {
    "name": "ipython",
    "version": 3
   },
   "file_extension": ".py",
   "mimetype": "text/x-python",
   "name": "python",
   "nbconvert_exporter": "python",
   "pygments_lexer": "ipython3",
   "version": "3.7.13"
  }
 },
 "nbformat": 4,
 "nbformat_minor": 5
}
