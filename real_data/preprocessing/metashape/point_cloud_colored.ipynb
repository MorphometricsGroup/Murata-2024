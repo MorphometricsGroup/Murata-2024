{
 "cells": [
  {
   "cell_type": "code",
   "execution_count": 12,
   "id": "a77b542b",
   "metadata": {},
   "outputs": [
    {
     "name": "stdout",
     "output_type": "stream",
     "text": [
      "Jupyter environment detected. Enabling Open3D WebVisualizer.\n",
      "[Open3D INFO] WebRTC GUI backend enabled.\n",
      "[Open3D INFO] WebRTCWindowSystem: HTTP handshake server disabled.\n"
     ]
    }
   ],
   "source": [
    "import numpy as np\n",
    "import open3d as o3d"
   ]
  },
  {
   "cell_type": "code",
   "execution_count": 8,
   "id": "809edf0c",
   "metadata": {},
   "outputs": [],
   "source": [
    "pts = np.loadtxt('coord.csv', delimiter=',')\n",
    "colors = np.loadtxt(\"colors.csv\", delimiter=\",\")"
   ]
  },
  {
   "cell_type": "code",
   "execution_count": 9,
   "id": "8a56f073",
   "metadata": {},
   "outputs": [
    {
     "data": {
      "text/plain": [
       "array([[ 2.58452082, -0.58748198, -3.93725348,  1.        ],\n",
       "       [ 1.470999  ,  0.03743017, -4.47813845,  1.        ],\n",
       "       [ 1.14165032, -0.62996578, -4.28696203,  1.        ],\n",
       "       ...,\n",
       "       [ 1.20881999,  0.53202325, -6.40393019,  1.        ],\n",
       "       [ 1.28310037,  0.0849859 , -6.13700533,  1.        ],\n",
       "       [ 1.5298351 ,  0.09735398, -5.77844191,  1.        ]])"
      ]
     },
     "execution_count": 9,
     "metadata": {},
     "output_type": "execute_result"
    }
   ],
   "source": [
    "pts"
   ]
  },
  {
   "cell_type": "code",
   "execution_count": 10,
   "id": "cd8797d0",
   "metadata": {},
   "outputs": [
    {
     "data": {
      "text/plain": [
       "array([[138., 137., 137.],\n",
       "       [100., 132.,  90.],\n",
       "       [ 97.,  92.,  86.],\n",
       "       ...,\n",
       "       [153., 153., 159.],\n",
       "       [154., 153., 151.],\n",
       "       [161., 162., 163.]])"
      ]
     },
     "execution_count": 10,
     "metadata": {},
     "output_type": "execute_result"
    }
   ],
   "source": [
    "colors"
   ]
  },
  {
   "cell_type": "code",
   "execution_count": 17,
   "id": "a1b07c65",
   "metadata": {},
   "outputs": [],
   "source": [
    "pcd = o3d.geometry.PointCloud()\n",
    "pcd.points = o3d.utility.Vector3dVector(pts[:,:3])"
   ]
  },
  {
   "cell_type": "code",
   "execution_count": 20,
   "id": "7e5f2349",
   "metadata": {},
   "outputs": [],
   "source": [
    "pcd.colors = o3d.utility.Vector3dVector(colors/255)"
   ]
  },
  {
   "cell_type": "code",
   "execution_count": 21,
   "id": "9f654f06",
   "metadata": {},
   "outputs": [],
   "source": [
    "geoms = [pcd]\n",
    "o3d.visualization.draw_geometries(geoms)"
   ]
  },
  {
   "cell_type": "code",
   "execution_count": 22,
   "id": "a7647301",
   "metadata": {},
   "outputs": [
    {
     "data": {
      "text/plain": [
       "True"
      ]
     },
     "execution_count": 22,
     "metadata": {},
     "output_type": "execute_result"
    }
   ],
   "source": [
    "o3d.io.write_point_cloud(\"colored.ply\", pcd)"
   ]
  },
  {
   "cell_type": "code",
   "execution_count": null,
   "id": "fe82b98d",
   "metadata": {},
   "outputs": [],
   "source": []
  },
  {
   "cell_type": "code",
   "execution_count": null,
   "id": "d5bfad75",
   "metadata": {},
   "outputs": [],
   "source": []
  },
  {
   "cell_type": "code",
   "execution_count": null,
   "id": "1fc27c99",
   "metadata": {},
   "outputs": [],
   "source": []
  },
  {
   "cell_type": "code",
   "execution_count": null,
   "id": "f8c4e58f",
   "metadata": {},
   "outputs": [],
   "source": []
  },
  {
   "cell_type": "code",
   "execution_count": null,
   "id": "d151baeb",
   "metadata": {},
   "outputs": [],
   "source": []
  }
 ],
 "metadata": {
  "kernelspec": {
   "display_name": "Python 3",
   "language": "python",
   "name": "python3"
  },
  "language_info": {
   "codemirror_mode": {
    "name": "ipython",
    "version": 3
   },
   "file_extension": ".py",
   "mimetype": "text/x-python",
   "name": "python",
   "nbconvert_exporter": "python",
   "pygments_lexer": "ipython3",
   "version": "3.7.10"
  }
 },
 "nbformat": 4,
 "nbformat_minor": 5
}
