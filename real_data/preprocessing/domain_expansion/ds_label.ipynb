{
 "cells": [
  {
   "cell_type": "code",
   "execution_count": 218,
   "id": "f4c86edc",
   "metadata": {},
   "outputs": [],
   "source": [
    "import pickle\n",
    "import itertools\n",
    "import open3d as o3d\n",
    "import numpy as np\n",
    "import matplotlib.pyplot as plt\n",
    "import os\n",
    "import cv2\n",
    "import pathlib\n",
    "import csv"
   ]
  },
  {
   "cell_type": "code",
   "execution_count": 219,
   "id": "73485ac9",
   "metadata": {},
   "outputs": [],
   "source": [
    "pcd = o3d.io.read_point_cloud(\"GmJMC025_02_ds.ply\")\n",
    "pt_list_np = np.asarray(pcd.points)\n"
   ]
  },
  {
   "cell_type": "code",
   "execution_count": 220,
   "id": "d3b1eecb",
   "metadata": {},
   "outputs": [
    {
     "name": "stdout",
     "output_type": "stream",
     "text": [
      "[Open3D DEBUG] Precompute neighbors.\n",
      "[Open3D DEBUG] Done Precompute neighbors.\n",
      "[Open3D DEBUG] Compute Clusters\n",
      "[Open3D DEBUG] Done Compute Clusters: 9\n",
      "point cloud has 9 clusters\n"
     ]
    }
   ],
   "source": [
    "with o3d.utility.VerbosityContextManager(o3d.utility.VerbosityLevel.Debug) as cm:\n",
    "    dbscan_labels = np.array(pcd.cluster_dbscan(eps=0.1, min_points=100))\n",
    "\n",
    "max_label = dbscan_labels.max()\n",
    "print(f\"point cloud has {max_label + 1} clusters\")\n",
    "colors = plt.get_cmap(\"tab20\")(dbscan_labels / (max_label if max_label > 0 else 1))\n",
    "colors[dbscan_labels < 0] = 0\n",
    "pcd.colors = o3d.utility.Vector3dVector(colors[:, :3])\n",
    "#o3d.visualization.draw_geometries([pcd])"
   ]
  },
  {
   "cell_type": "code",
   "execution_count": 221,
   "id": "209aba6e",
   "metadata": {},
   "outputs": [],
   "source": [
    "pcd.points = o3d.utility.Vector3dVector(pt_list_np[dbscan_labels != -1])\n",
    "#o3d.visualization.draw_geometries([pcd])"
   ]
  },
  {
   "cell_type": "code",
   "execution_count": 222,
   "id": "a28c5bad",
   "metadata": {},
   "outputs": [],
   "source": [
    "idx_l = []\n",
    "with open(\"GmJMC025_02_ds.csv\") as f:\n",
    "    reader = csv.reader(f)\n",
    "    for row in reader:\n",
    "        row = list(map(int, row[0].split(\" \")[:-1]))\n",
    "        idx_l.append(row)"
   ]
  },
  {
   "cell_type": "code",
   "execution_count": 223,
   "id": "a90d4ff1",
   "metadata": {},
   "outputs": [],
   "source": [
    "labels = np.zeros(len(pt_list_np))"
   ]
  },
  {
   "cell_type": "code",
   "execution_count": 224,
   "id": "7b10745d",
   "metadata": {},
   "outputs": [],
   "source": [
    "for i, idx in enumerate(idx_l):\n",
    "    labels[idx] = i+1"
   ]
  },
  {
   "cell_type": "code",
   "execution_count": 225,
   "id": "6eab1db3",
   "metadata": {},
   "outputs": [],
   "source": [
    "labels = labels[dbscan_labels != -1]"
   ]
  },
  {
   "cell_type": "code",
   "execution_count": 226,
   "id": "9b48c630",
   "metadata": {},
   "outputs": [],
   "source": [
    "for i, label in enumerate(np.unique(labels)):\n",
    "    labels[labels == label] = i"
   ]
  },
  {
   "cell_type": "code",
   "execution_count": 227,
   "id": "b64b6cd0",
   "metadata": {},
   "outputs": [],
   "source": [
    "max_label = labels.max()\n",
    "colors = plt.get_cmap(\"tab20\")(labels / (max_label if max_label > 0 else 1))\n",
    "colors[labels < 0] = 0\n",
    "pcd.colors = o3d.utility.Vector3dVector(colors[:, :3])\n"
   ]
  },
  {
   "cell_type": "code",
   "execution_count": 230,
   "id": "206eb8f7",
   "metadata": {},
   "outputs": [],
   "source": [
    "o3d.visualization.draw_geometries([pcd])"
   ]
  },
  {
   "cell_type": "code",
   "execution_count": 100,
   "id": "c4c876bb",
   "metadata": {},
   "outputs": [
    {
     "data": {
      "text/plain": [
       "True"
      ]
     },
     "execution_count": 100,
     "metadata": {},
     "output_type": "execute_result"
    }
   ],
   "source": [
    "o3d.io.write_point_cloud(\"GmJMC025_02_ds_denoise.ply\", pcd)"
   ]
  },
  {
   "cell_type": "code",
   "execution_count": 98,
   "id": "0b9112b9",
   "metadata": {},
   "outputs": [],
   "source": [
    "with open('point_cloud_label.pickle', 'wb') as f:\n",
    "    pickle.dump(labels, f)"
   ]
  },
  {
   "cell_type": "code",
   "execution_count": 3,
   "id": "654df48c",
   "metadata": {},
   "outputs": [
    {
     "name": "stdout",
     "output_type": "stream",
     "text": [
      "[Open3D WARNING] GLFW Error: WGL: Failed to make context current: 要求された変換操作はサポートされていません。 \n"
     ]
    }
   ],
   "source": [
    "pcd = o3d.io.read_point_cloud(\"GmJMC025_02_ds_denoise.ply\")\n",
    "o3d.visualization.draw_geometries([pcd])\n"
   ]
  },
  {
   "cell_type": "code",
   "execution_count": null,
   "id": "d4f26b4b",
   "metadata": {},
   "outputs": [],
   "source": []
  }
 ],
 "metadata": {
  "kernelspec": {
   "display_name": "Python 3",
   "language": "python",
   "name": "python3"
  },
  "language_info": {
   "codemirror_mode": {
    "name": "ipython",
    "version": 3
   },
   "file_extension": ".py",
   "mimetype": "text/x-python",
   "name": "python",
   "nbconvert_exporter": "python",
   "pygments_lexer": "ipython3",
   "version": "3.7.10"
  }
 },
 "nbformat": 4,
 "nbformat_minor": 5
}
