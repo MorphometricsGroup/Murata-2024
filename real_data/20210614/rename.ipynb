{
 "cells": [
  {
   "cell_type": "code",
   "execution_count": 14,
   "id": "0af7c80d",
   "metadata": {},
   "outputs": [],
   "source": [
    "import pathlib\n",
    "import os"
   ]
  },
  {
   "cell_type": "code",
   "execution_count": 15,
   "id": "a00e2392",
   "metadata": {},
   "outputs": [],
   "source": [
    "img = pathlib.Path(\"GmJMC025_02\")\n",
    "mask = pathlib.Path(\"GmJMC025_02_mask\")\n",
    "csv = pathlib.Path(\"view_mat\")\n",
    "\n",
    "img_path = list(img.glob(\"*\"))"
   ]
  },
  {
   "cell_type": "code",
   "execution_count": 16,
   "id": "ae5f5976",
   "metadata": {},
   "outputs": [],
   "source": [
    "for i, im in enumerate(img_path):\n",
    "    name = im.stem\n",
    "    csv_path = pathlib.Path(os.path.join(str(csv), name+\".csv\"))\n",
    "    mask_path = list(mask.glob(name+\"*\"))\n",
    "    im.rename(pathlib.Path(os.path.join(str(img),str(i)+\".JPG\")))\n",
    "    csv_path.rename(pathlib.Path(os.path.join(str(csv),str(i)+\".csv\")))\n",
    "    for j, ma in enumerate(mask_path):\n",
    "        ma.rename(pathlib.Path(os.path.join(str(mask),str(i)+\"_\"+str(j)+\".csv\")))"
   ]
  },
  {
   "cell_type": "code",
   "execution_count": 7,
   "id": "1cc607bb",
   "metadata": {},
   "outputs": [
    {
     "data": {
      "text/plain": [
       "'SSP_001_00001_08_71074003452'"
      ]
     },
     "execution_count": 7,
     "metadata": {},
     "output_type": "execute_result"
    }
   ],
   "source": [
    "name"
   ]
  },
  {
   "cell_type": "code",
   "execution_count": null,
   "id": "6ee2a27c",
   "metadata": {},
   "outputs": [],
   "source": []
  }
 ],
 "metadata": {
  "kernelspec": {
   "display_name": "Python 3",
   "language": "python",
   "name": "python3"
  },
  "language_info": {
   "codemirror_mode": {
    "name": "ipython",
    "version": 3
   },
   "file_extension": ".py",
   "mimetype": "text/x-python",
   "name": "python",
   "nbconvert_exporter": "python",
   "pygments_lexer": "ipython3",
   "version": "3.7.10"
  }
 },
 "nbformat": 4,
 "nbformat_minor": 5
}
