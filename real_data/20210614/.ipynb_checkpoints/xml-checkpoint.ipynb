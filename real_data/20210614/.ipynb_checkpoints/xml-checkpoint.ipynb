{
 "cells": [
  {
   "cell_type": "code",
   "execution_count": 67,
   "id": "aa11b3a8",
   "metadata": {},
   "outputs": [],
   "source": [
    "import xml.etree.ElementTree as ET\n",
    "import numpy as np\n",
    "import os"
   ]
  },
  {
   "cell_type": "code",
   "execution_count": 75,
   "id": "b036d93c",
   "metadata": {},
   "outputs": [],
   "source": [
    "tree = ET.parse('025_02.xml')\n",
    "root = tree.getroot()\n",
    "chunk = root.find(\"chunk\")\n",
    "cameras = chunk.find(\"cameras\")\n",
    "sensors = chunk.find(\"sensors\")\n",
    "sensor = sensors.find(\"sensor\")\n",
    "calibration = sensor.find(\"calibration\")"
   ]
  },
  {
   "cell_type": "code",
   "execution_count": 77,
   "id": "61fffc05",
   "metadata": {},
   "outputs": [
    {
     "name": "stdout",
     "output_type": "stream",
     "text": [
      "resolution\n",
      "None\n",
      "f\n",
      "4252.2033032805448\n",
      "cx\n",
      "0.68995900213829531\n",
      "cy\n",
      "16.041396975230562\n",
      "k1\n",
      "-0.16479184671580493\n",
      "k2\n",
      "0.1495790587417524\n",
      "k3\n",
      "-0.039640156618938029\n",
      "p1\n",
      "0.00043241717865885235\n",
      "p2\n",
      "2.219388172639825e-05\n"
     ]
    }
   ],
   "source": [
    "for i in calibration:\n",
    "    print(i.tag)\n",
    "    print(i.text)"
   ]
  },
  {
   "cell_type": "code",
   "execution_count": 80,
   "id": "1c451904",
   "metadata": {},
   "outputs": [],
   "source": [
    "f = calibration.find(\"f\").text\n",
    "cx = calibration.find(\"cx\").text\n",
    "cy = calibration.find(\"cy\").text"
   ]
  },
  {
   "cell_type": "code",
   "execution_count": 81,
   "id": "f1ac3950",
   "metadata": {},
   "outputs": [],
   "source": [
    "A = np.array([[f, 0, cx],\n",
    "              [0, f, cy],\n",
    "              [0, 0, 1]],dtype=np.float64)"
   ]
  },
  {
   "cell_type": "code",
   "execution_count": 84,
   "id": "2ae29898",
   "metadata": {},
   "outputs": [],
   "source": [
    "np.savetxt(\"view_mat/inner_para.csv\", A, delimiter=',')"
   ]
  },
  {
   "cell_type": "code",
   "execution_count": 74,
   "id": "0a9447c6",
   "metadata": {},
   "outputs": [
    {
     "name": "stdout",
     "output_type": "stream",
     "text": [
      "resolution\n",
      "property\n",
      "property\n",
      "property\n",
      "property\n",
      "bands\n",
      "data_type\n",
      "calibration\n",
      "covariance\n"
     ]
    }
   ],
   "source": [
    "for i in sensors:\n",
    "    for j in i:\n",
    "        print(j.tag)"
   ]
  },
  {
   "cell_type": "code",
   "execution_count": 34,
   "id": "173f40af",
   "metadata": {},
   "outputs": [
    {
     "name": "stdout",
     "output_type": "stream",
     "text": [
      "sensors\n",
      "components\n",
      "cameras\n",
      "transform\n",
      "reference\n",
      "region\n",
      "settings\n",
      "meta\n"
     ]
    }
   ],
   "source": [
    "for i in chunk:\n",
    "    print(i.tag)"
   ]
  },
  {
   "cell_type": "code",
   "execution_count": 71,
   "id": "ed3d095a",
   "metadata": {},
   "outputs": [],
   "source": [
    "pre_path = \"view_mat\"\n",
    "for camera in cameras:\n",
    "    name = camera.attrib[\"label\"]\n",
    "    l = camera.find(\"transform\").text.split()\n",
    "    pro_mat = np.array(l, dtype=np.float64).reshape((4,4))\n",
    "    np.savetxt(os.path.join(pre_path, name+\".csv\"), pro_mat, delimiter=',')"
   ]
  },
  {
   "cell_type": "code",
   "execution_count": 64,
   "id": "2f36093e",
   "metadata": {},
   "outputs": [
    {
     "data": {
      "text/plain": [
       "array([[-0.78769576, -0.59690329,  0.15245279,  0.71085502],\n",
       "       [-0.25614251,  0.09225659, -0.96222645,  2.73482222],\n",
       "       [ 0.56029136, -0.79699133, -0.22556243, -3.93907169],\n",
       "       [ 0.        ,  0.        ,  0.        ,  1.        ]])"
      ]
     },
     "execution_count": 64,
     "metadata": {},
     "output_type": "execute_result"
    }
   ],
   "source": [
    "pro_mat"
   ]
  },
  {
   "cell_type": "code",
   "execution_count": null,
   "id": "ccf5d0fd",
   "metadata": {},
   "outputs": [],
   "source": []
  }
 ],
 "metadata": {
  "kernelspec": {
   "display_name": "Python 3",
   "language": "python",
   "name": "python3"
  },
  "language_info": {
   "codemirror_mode": {
    "name": "ipython",
    "version": 3
   },
   "file_extension": ".py",
   "mimetype": "text/x-python",
   "name": "python",
   "nbconvert_exporter": "python",
   "pygments_lexer": "ipython3",
   "version": "3.7.10"
  }
 },
 "nbformat": 4,
 "nbformat_minor": 5
}
