{
 "cells": [
  {
   "cell_type": "code",
   "execution_count": 46,
   "id": "9312702c",
   "metadata": {},
   "outputs": [],
   "source": [
    "import pickle\n",
    "import itertools\n",
    "import open3d as o3d\n",
    "import numpy as np\n",
    "from scipy import interpolate\n",
    "import numpy as np\n",
    "import matplotlib.pyplot as plt\n",
    "from matplotlib.animation import FuncAnimation\n",
    "from mpl_toolkits.mplot3d import Axes3D\n",
    "import pandas as pd\n",
    "\n",
    "import glob, pickle, os\n",
    "\n",
    "import numpy as np\n",
    "import scipy as sp\n",
    "import pandas as pd\n",
    "\n",
    "from sklearn.decomposition import PCA\n",
    "\n",
    "import matplotlib.pyplot as plt\n",
    "import seaborn as sns\n",
    "import plotly.express as px\n",
    "import plotly\n",
    "import plotly.graph_objects as go\n",
    "import plotly.io as pio\n",
    "from mayavi import mlab\n",
    "import cv2"
   ]
  },
  {
   "cell_type": "code",
   "execution_count": 47,
   "id": "484015ad",
   "metadata": {},
   "outputs": [],
   "source": [
    "inds = [\"exp2021_005_GmJMC112_01_MVI_01\",\n",
    "       \"exp2021_005_GmJMC112_01_MVI_02\",\n",
    "       \"exp2021_005_GmJMC112_01_MVI_04\"]"
   ]
  },
  {
   "cell_type": "code",
   "execution_count": 49,
   "id": "9bedef2e",
   "metadata": {},
   "outputs": [],
   "source": [
    "def make_path(ind):\n",
    "    curves_list = [\"marged_curve/marged_\"+ind+\"_opt_curves_bottom.pkl\",\n",
    "                   \"marged_curve/marged_\"+ind+\"_opt_curves_middle.pkl\",\n",
    "                   \"marged_curve/marged_\"+ind+\"_opt_curves_upper.pkl\"]\n",
    "    inner_para_file = \"../view_mats/\"+ind+\"_view_mat/inner_para.csv\"\n",
    "    return curves_list, inner_para_file\n",
    "    \n",
    "def load_curves(path):\n",
    "    with open(path, \"rb\") as pickle_file:\n",
    "        mc = pickle.load(pickle_file)\n",
    "    return mc\n"
   ]
  },
  {
   "cell_type": "code",
   "execution_count": 50,
   "id": "a2e3f783",
   "metadata": {},
   "outputs": [],
   "source": [
    "for ind in inds:\n",
    "    curves_list, inner_para_file = make_path(ind)\n",
    "    A = load_innner_para(inner_para_file)\n",
    "    for curve in curves_list:\n",
    "        mc = load_curves(curve)\n",
    "        labels = np.repeat(np.arange(len(mc)), 360)\n",
    "        colors = plt.get_cmap(\"tab20\")(labels)\n",
    "        pts = np.concatenate(mc)\n",
    "        pcd = o3d.geometry.PointCloud()\n",
    "        pcd.points = o3d.utility.Vector3dVector(pts)\n",
    "        pcd.colors = o3d.utility.Vector3dVector(colors[:, :3])\n",
    "        o3d.io.write_point_cloud(\"{}.ply\".format(curve), pcd)"
   ]
  },
  {
   "cell_type": "code",
   "execution_count": null,
   "id": "a266065c",
   "metadata": {},
   "outputs": [],
   "source": []
  },
  {
   "cell_type": "code",
   "execution_count": null,
   "id": "48355f0e",
   "metadata": {},
   "outputs": [],
   "source": []
  },
  {
   "cell_type": "code",
   "execution_count": null,
   "id": "b1d6a12a",
   "metadata": {},
   "outputs": [],
   "source": []
  },
  {
   "cell_type": "code",
   "execution_count": null,
   "id": "db312af0",
   "metadata": {},
   "outputs": [],
   "source": []
  },
  {
   "cell_type": "code",
   "execution_count": null,
   "id": "d2b9ae22",
   "metadata": {},
   "outputs": [],
   "source": []
  },
  {
   "cell_type": "code",
   "execution_count": null,
   "id": "6c5459a5",
   "metadata": {},
   "outputs": [],
   "source": []
  }
 ],
 "metadata": {
  "kernelspec": {
   "display_name": "Python 3 (ipykernel)",
   "language": "python",
   "name": "python3"
  },
  "language_info": {
   "codemirror_mode": {
    "name": "ipython",
    "version": 3
   },
   "file_extension": ".py",
   "mimetype": "text/x-python",
   "name": "python",
   "nbconvert_exporter": "python",
   "pygments_lexer": "ipython3",
   "version": "3.7.13"
  }
 },
 "nbformat": 4,
 "nbformat_minor": 5
}
