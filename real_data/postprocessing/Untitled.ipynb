{
 "cells": [
  {
   "cell_type": "code",
   "execution_count": 9,
   "id": "6e10e633",
   "metadata": {},
   "outputs": [],
   "source": [
    "import cv2\n",
    "import numpy as np\n",
    "import matplotlib.pyplot as plt"
   ]
  },
  {
   "cell_type": "code",
   "execution_count": 2,
   "id": "e4c83e8e",
   "metadata": {},
   "outputs": [],
   "source": [
    "im_gray = cv2.imread(\"real_vis.png\", cv2.IMREAD_GRAYSCALE)"
   ]
  },
  {
   "cell_type": "code",
   "execution_count": 8,
   "id": "422991a1",
   "metadata": {},
   "outputs": [],
   "source": [
    "im_gray = np.abs(im_gray-255)"
   ]
  },
  {
   "cell_type": "code",
   "execution_count": 19,
   "id": "26aee9e4",
   "metadata": {},
   "outputs": [],
   "source": [
    "im_bi = np.bool_(im_gray).astype(\"int16\")"
   ]
  },
  {
   "cell_type": "code",
   "execution_count": 20,
   "id": "ac0e8ebc",
   "metadata": {},
   "outputs": [
    {
     "data": {
      "text/plain": [
       "array([[0, 0, 0, ..., 0, 0, 0],\n",
       "       [0, 0, 0, ..., 0, 0, 0],\n",
       "       [0, 0, 0, ..., 0, 0, 0],\n",
       "       ...,\n",
       "       [0, 0, 0, ..., 0, 0, 0],\n",
       "       [0, 0, 0, ..., 0, 0, 0],\n",
       "       [0, 0, 0, ..., 0, 0, 0]], dtype=int16)"
      ]
     },
     "execution_count": 20,
     "metadata": {},
     "output_type": "execute_result"
    }
   ],
   "source": [
    "im_bi"
   ]
  },
  {
   "cell_type": "code",
   "execution_count": 69,
   "id": "a2a5e050",
   "metadata": {},
   "outputs": [],
   "source": [
    "kernel = np.ones((3,3),np.uint8)\n",
    "dilation = cv2.dilate(im_bi, kernel, iterations = 1)"
   ]
  },
  {
   "cell_type": "code",
   "execution_count": 70,
   "id": "7332ce60",
   "metadata": {},
   "outputs": [],
   "source": [
    "dilation[dilation==0] = 255\n",
    "dilation[dilation==1] = 0"
   ]
  },
  {
   "cell_type": "code",
   "execution_count": 71,
   "id": "4649fef0",
   "metadata": {},
   "outputs": [],
   "source": [
    "g_dilation = np.copy(dilation)\n",
    "g_dilation[:,:] = 255"
   ]
  },
  {
   "cell_type": "code",
   "execution_count": 72,
   "id": "589c986c",
   "metadata": {},
   "outputs": [],
   "source": [
    "p_img = np.stack([dilation, g_dilation, dilation],axis=2)"
   ]
  },
  {
   "cell_type": "code",
   "execution_count": 73,
   "id": "3ec283d6",
   "metadata": {
    "scrolled": true
   },
   "outputs": [
    {
     "data": {
      "text/plain": [
       "array([[[255, 255, 255],\n",
       "        [255, 255, 255],\n",
       "        [255, 255, 255],\n",
       "        ...,\n",
       "        [255, 255, 255],\n",
       "        [255, 255, 255],\n",
       "        [255, 255, 255]],\n",
       "\n",
       "       [[255, 255, 255],\n",
       "        [255, 255, 255],\n",
       "        [255, 255, 255],\n",
       "        ...,\n",
       "        [255, 255, 255],\n",
       "        [255, 255, 255],\n",
       "        [255, 255, 255]],\n",
       "\n",
       "       [[255, 255, 255],\n",
       "        [255, 255, 255],\n",
       "        [255, 255, 255],\n",
       "        ...,\n",
       "        [255, 255, 255],\n",
       "        [255, 255, 255],\n",
       "        [255, 255, 255]],\n",
       "\n",
       "       ...,\n",
       "\n",
       "       [[255, 255, 255],\n",
       "        [255, 255, 255],\n",
       "        [255, 255, 255],\n",
       "        ...,\n",
       "        [255, 255, 255],\n",
       "        [255, 255, 255],\n",
       "        [255, 255, 255]],\n",
       "\n",
       "       [[255, 255, 255],\n",
       "        [255, 255, 255],\n",
       "        [255, 255, 255],\n",
       "        ...,\n",
       "        [255, 255, 255],\n",
       "        [255, 255, 255],\n",
       "        [255, 255, 255]],\n",
       "\n",
       "       [[255, 255, 255],\n",
       "        [255, 255, 255],\n",
       "        [255, 255, 255],\n",
       "        ...,\n",
       "        [255, 255, 255],\n",
       "        [255, 255, 255],\n",
       "        [255, 255, 255]]], dtype=int16)"
      ]
     },
     "execution_count": 73,
     "metadata": {},
     "output_type": "execute_result"
    }
   ],
   "source": [
    "p_img"
   ]
  },
  {
   "cell_type": "code",
   "execution_count": 74,
   "id": "2762dc0a",
   "metadata": {},
   "outputs": [
    {
     "data": {
      "text/plain": [
       "True"
      ]
     },
     "execution_count": 74,
     "metadata": {},
     "output_type": "execute_result"
    }
   ],
   "source": [
    "cv2.imwrite('p_img.png', p_img)"
   ]
  },
  {
   "cell_type": "code",
   "execution_count": null,
   "id": "422b3953",
   "metadata": {},
   "outputs": [],
   "source": []
  }
 ],
 "metadata": {
  "kernelspec": {
   "display_name": "Python 3 (ipykernel)",
   "language": "python",
   "name": "python3"
  },
  "language_info": {
   "codemirror_mode": {
    "name": "ipython",
    "version": 3
   },
   "file_extension": ".py",
   "mimetype": "text/x-python",
   "name": "python",
   "nbconvert_exporter": "python",
   "pygments_lexer": "ipython3",
   "version": "3.7.13"
  }
 },
 "nbformat": 4,
 "nbformat_minor": 5
}
