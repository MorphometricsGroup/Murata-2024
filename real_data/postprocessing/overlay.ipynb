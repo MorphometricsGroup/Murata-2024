{
 "cells": [
  {
   "cell_type": "code",
   "execution_count": 1,
   "id": "5d7783ea",
   "metadata": {},
   "outputs": [
    {
     "name": "stdout",
     "output_type": "stream",
     "text": [
      "Jupyter environment detected. Enabling Open3D WebVisualizer.\n",
      "[Open3D INFO] WebRTC GUI backend enabled.\n",
      "[Open3D INFO] WebRTCWindowSystem: HTTP handshake server disabled.\n"
     ]
    }
   ],
   "source": [
    "import pickle\n",
    "import itertools\n",
    "import open3d as o3d\n",
    "import numpy as np"
   ]
  },
  {
   "cell_type": "code",
   "execution_count": 162,
   "id": "60bf8d3c",
   "metadata": {},
   "outputs": [],
   "source": [
    "with open(\"annotation_one_1_2.curve\", \"rb\") as pickle_file:\n",
    "    curve_fragment = pickle.load(pickle_file)"
   ]
  },
  {
   "cell_type": "code",
   "execution_count": 163,
   "id": "477abd5d",
   "metadata": {},
   "outputs": [
    {
     "ename": "IndexError",
     "evalue": "list index out of range",
     "output_type": "error",
     "traceback": [
      "\u001b[1;31m---------------------------------------------------------------------------\u001b[0m",
      "\u001b[1;31mIndexError\u001b[0m                                Traceback (most recent call last)",
      "\u001b[1;32m<ipython-input-163-2667c1ea317d>\u001b[0m in \u001b[0;36m<module>\u001b[1;34m\u001b[0m\n\u001b[0;32m     23\u001b[0m             \u001b[0mcfs\u001b[0m\u001b[1;33m[\u001b[0m\u001b[1;36m8\u001b[0m\u001b[1;33m]\u001b[0m \u001b[1;33m+=\u001b[0m \u001b[0mcols\u001b[0m\u001b[1;33m[\u001b[0m\u001b[0mi\u001b[0m\u001b[1;33m]\u001b[0m\u001b[1;33m\u001b[0m\u001b[1;33m\u001b[0m\u001b[0m\n\u001b[0;32m     24\u001b[0m         \u001b[1;32mif\u001b[0m \u001b[0mi\u001b[0m \u001b[1;33m==\u001b[0m \u001b[1;36m10\u001b[0m\u001b[1;33m:\u001b[0m\u001b[1;33m\u001b[0m\u001b[1;33m\u001b[0m\u001b[0m\n\u001b[1;32m---> 25\u001b[1;33m             \u001b[0mcfs\u001b[0m\u001b[1;33m[\u001b[0m\u001b[1;36m10\u001b[0m\u001b[1;33m]\u001b[0m \u001b[1;33m+=\u001b[0m \u001b[0mcols\u001b[0m\u001b[1;33m[\u001b[0m\u001b[0mi\u001b[0m\u001b[1;33m]\u001b[0m\u001b[1;33m\u001b[0m\u001b[1;33m\u001b[0m\u001b[0m\n\u001b[0m\u001b[0;32m     26\u001b[0m         \u001b[1;32mif\u001b[0m \u001b[0mi\u001b[0m \u001b[1;33m==\u001b[0m \u001b[1;36m11\u001b[0m\u001b[1;33m:\u001b[0m\u001b[1;33m\u001b[0m\u001b[1;33m\u001b[0m\u001b[0m\n\u001b[0;32m     27\u001b[0m             \u001b[0mcfs\u001b[0m\u001b[1;33m[\u001b[0m\u001b[1;36m11\u001b[0m\u001b[1;33m]\u001b[0m \u001b[1;33m+=\u001b[0m \u001b[0mcols\u001b[0m\u001b[1;33m[\u001b[0m\u001b[0mi\u001b[0m\u001b[1;33m]\u001b[0m\u001b[1;33m\u001b[0m\u001b[1;33m\u001b[0m\u001b[0m\n",
      "\u001b[1;31mIndexError\u001b[0m: list index out of range"
     ]
    }
   ],
   "source": [
    "cfs = [[],[],[],[],[],[],[],[],[]]\n",
    "for cols in curve_fragment:\n",
    "    for i in range(len(cols)):\n",
    "        if i == 0:\n",
    "            cfs[0] += cols[i]\n",
    "        if i == 1:\n",
    "            cfs[1] += cols[i]\n",
    "        if i == 2:\n",
    "            cfs[2] += cols[i]\n",
    "        if i == 3:\n",
    "            cfs[3] += cols[i]\n",
    "        if i == 4:\n",
    "            cfs[4] += cols[i]\n",
    "        if i == 5:\n",
    "            cfs[5] += cols[i]\n",
    "        if i == 6:\n",
    "            cfs[6] += cols[i]\n",
    "        if i == 7:\n",
    "            cfs[7] += cols[i]\n",
    "        if i == 8:\n",
    "            cfs[8] += cols[i]\n",
    "        if i == 9:\n",
    "            cfs[8] += cols[i]\n",
    "        if i == 10:\n",
    "            cfs[10] += cols[i]\n",
    "        if i == 11:\n",
    "            cfs[11] += cols[i]\n",
    "        if i == 12:\n",
    "            cfs[12] += cols[i]"
   ]
  },
  {
   "cell_type": "code",
   "execution_count": 164,
   "id": "e1787817",
   "metadata": {},
   "outputs": [],
   "source": [
    "_cfs = []\n",
    "for i in cfs:\n",
    "    if len(i) != 0:\n",
    "        _cfs += i\n",
    "cfs = _cfs"
   ]
  },
  {
   "cell_type": "code",
   "execution_count": 165,
   "id": "5f4c0c88",
   "metadata": {},
   "outputs": [
    {
     "data": {
      "text/plain": [
       "0"
      ]
     },
     "execution_count": 165,
     "metadata": {},
     "output_type": "execute_result"
    }
   ],
   "source": [
    "len(cfs)"
   ]
  },
  {
   "cell_type": "code",
   "execution_count": 166,
   "id": "2eaea178",
   "metadata": {},
   "outputs": [],
   "source": [
    "_cfs = []\n",
    "for i in range(len(cfs)):\n",
    "    if i%10 == 0:\n",
    "        _cfs += cfs[i].tolist()\n",
    "cfs = _cfs"
   ]
  },
  {
   "cell_type": "code",
   "execution_count": 167,
   "id": "1bd637f0",
   "metadata": {},
   "outputs": [],
   "source": [
    "pcd = o3d.io.read_point_cloud(\"polygon/GmJMC025_02_ds_denoise-Copy1.ply\")"
   ]
  },
  {
   "cell_type": "code",
   "execution_count": 168,
   "id": "9d9251e5",
   "metadata": {},
   "outputs": [],
   "source": [
    "geoms = [pcd]\n",
    "#geoms.append(edges_to_lineset(mesh, edges, (1, 0, 0)))"
   ]
  },
  {
   "cell_type": "code",
   "execution_count": 169,
   "id": "6318827d",
   "metadata": {},
   "outputs": [],
   "source": [
    "#o3d.visualization.draw_geometries(geoms)"
   ]
  },
  {
   "cell_type": "code",
   "execution_count": 170,
   "id": "f6edc205",
   "metadata": {},
   "outputs": [],
   "source": [
    "def rotation_mat(angle):\n",
    "    Rx = np.array([[1,0,0],\n",
    "                 [0, np.cos(angle[0]), -np.sin(angle[0])],\n",
    "                 [0, np.sin(angle[0]), np.cos(angle[0])]])\n",
    "\n",
    "    Ry = np.array([[np.cos(angle[1]), 0, np.sin(angle[1])],\n",
    "                 [0,1,0],\n",
    "                 [-np.sin(angle[1]), 0, np.cos(angle[1])]])\n",
    "\n",
    "    Rz = np.array([[np.cos(angle[2]), -np.sin(angle[2]), 0],\n",
    "                 [np.sin(angle[2]), np.cos(angle[2]), 0],\n",
    "                 [0,0,1]])\n",
    "    return Rz@Rx@Ry\n",
    "\n",
    "angle = [np.pi, np.pi, 0] # pcd.rotate()\n",
    "#angle = [-np.pi/2, np.pi/2, np.pi/2]\n",
    "R = rotation_mat(angle)\n",
    "R_mirror = np.array([[-1,0,0],\n",
    "                    [0,1,0],\n",
    "                    [0,0,1]])"
   ]
  },
  {
   "cell_type": "code",
   "execution_count": 171,
   "id": "b662de1c",
   "metadata": {},
   "outputs": [
    {
     "data": {
      "text/plain": [
       "array([[0.7372549 , 0.74117647, 0.13333333],\n",
       "       [0.89019608, 0.46666667, 0.76078431],\n",
       "       [0.85882353, 0.85882353, 0.55294118],\n",
       "       ...,\n",
       "       [0.7372549 , 0.74117647, 0.13333333],\n",
       "       [0.85882353, 0.85882353, 0.55294118],\n",
       "       [0.85882353, 0.85882353, 0.55294118]])"
      ]
     },
     "execution_count": 171,
     "metadata": {},
     "output_type": "execute_result"
    }
   ],
   "source": [
    "np.asarray(pcd.colors)"
   ]
  },
  {
   "cell_type": "code",
   "execution_count": 172,
   "id": "672defe5",
   "metadata": {},
   "outputs": [
    {
     "data": {
      "text/plain": [
       "[]"
      ]
     },
     "execution_count": 172,
     "metadata": {},
     "output_type": "execute_result"
    }
   ],
   "source": [
    "cfs"
   ]
  },
  {
   "cell_type": "code",
   "execution_count": 173,
   "id": "0c7f6dca",
   "metadata": {},
   "outputs": [],
   "source": [
    "curve_fragment = np.array((curve_fragment[0],curve_fragment[2],curve_fragment[1]))"
   ]
  },
  {
   "cell_type": "code",
   "execution_count": 174,
   "id": "280541f4",
   "metadata": {},
   "outputs": [],
   "source": [
    "flatten_curve_frag = curve_fragment.T#list(itertools.chain.from_iterable(cfs[1])))\n",
    "#flatten_curve_frag = (np.linalg.inv(R_mirror)@np.linalg.inv(R)@flatten_curve_frag.T).T\n",
    "#flatten_curve_frag = np.array(cfs)\n",
    "point_num = flatten_curve_frag.shape[0]\n",
    "curve_pcd = o3d.geometry.PointCloud()\n",
    "curve_pcd.points = o3d.utility.Vector3dVector(flatten_curve_frag)\n",
    "curve_pcd.colors = o3d.utility.Vector3dVector(np.repeat(np.array((0, 1, 0)).reshape(1,-1), point_num, axis=0))\n",
    "geoms.append(curve_pcd)"
   ]
  },
  {
   "cell_type": "code",
   "execution_count": 175,
   "id": "399994e9",
   "metadata": {},
   "outputs": [],
   "source": [
    "o3d.visualization.draw_geometries(geoms)"
   ]
  },
  {
   "cell_type": "code",
   "execution_count": null,
   "id": "7b2c9c8d",
   "metadata": {},
   "outputs": [],
   "source": []
  }
 ],
 "metadata": {
  "kernelspec": {
   "display_name": "Python 3",
   "language": "python",
   "name": "python3"
  },
  "language_info": {
   "codemirror_mode": {
    "name": "ipython",
    "version": 3
   },
   "file_extension": ".py",
   "mimetype": "text/x-python",
   "name": "python",
   "nbconvert_exporter": "python",
   "pygments_lexer": "ipython3",
   "version": "3.7.10"
  }
 },
 "nbformat": 4,
 "nbformat_minor": 5
}
