{
 "cells": [
  {
   "cell_type": "code",
   "execution_count": 11,
   "id": "5d7783ea",
   "metadata": {},
   "outputs": [],
   "source": [
    "import pickle\n",
    "import itertools\n",
    "import open3d as o3d\n",
    "import numpy as np"
   ]
  },
  {
   "cell_type": "code",
   "execution_count": 12,
   "id": "60bf8d3c",
   "metadata": {},
   "outputs": [],
   "source": [
    "with open(\"real_leafs.curves\", \"rb\") as pickle_file:\n",
    "    curve_fragment = pickle.load(pickle_file)"
   ]
  },
  {
   "cell_type": "code",
   "execution_count": 13,
   "id": "477abd5d",
   "metadata": {},
   "outputs": [],
   "source": [
    "cfs = [[],[],[],[],[],[],[],[],[]]\n",
    "for cols in curve_fragment:\n",
    "    for i in range(len(cols)):\n",
    "        if i == 0:\n",
    "            cfs[0] += cols[i]\n",
    "        if i == 1:\n",
    "            cfs[1] += cols[i]\n",
    "        if i == 2:\n",
    "            cfs[2] += cols[i]\n",
    "        if i == 3:\n",
    "            cfs[3] += cols[i]\n",
    "        if i == 4:\n",
    "            cfs[4] += cols[i]\n",
    "        if i == 5:\n",
    "            cfs[5] += cols[i]\n",
    "        if i == 6:\n",
    "            cfs[6] += cols[i]\n",
    "        if i == 7:\n",
    "            cfs[7] += cols[i]\n",
    "        if i == 8:\n",
    "            cfs[8] += cols[i]\n",
    "        if i == 9:\n",
    "            cfs[8] += cols[i]\n",
    "        if i == 10:\n",
    "            cfs[10] += cols[i]\n",
    "        if i == 11:\n",
    "            cfs[11] += cols[i]\n",
    "        if i == 12:\n",
    "            cfs[12] += cols[i]"
   ]
  },
  {
   "cell_type": "code",
   "execution_count": 14,
   "id": "e1787817",
   "metadata": {},
   "outputs": [],
   "source": [
    "_cfs = []\n",
    "for i in cfs:\n",
    "    if len(i) != 0:\n",
    "        _cfs += i\n",
    "cfs = _cfs"
   ]
  },
  {
   "cell_type": "code",
   "execution_count": 15,
   "id": "2eaea178",
   "metadata": {},
   "outputs": [],
   "source": [
    "_cfs = []\n",
    "for i in range(len(cfs)):\n",
    "    if i%10 == 0:\n",
    "        _cfs += cfs[i].tolist()\n",
    "cfs = _cfs"
   ]
  },
  {
   "cell_type": "code",
   "execution_count": 16,
   "id": "1bd637f0",
   "metadata": {},
   "outputs": [],
   "source": [
    "pcd = o3d.io.read_point_cloud(\"polygon/denoise.ply\")"
   ]
  },
  {
   "cell_type": "code",
   "execution_count": 17,
   "id": "9d9251e5",
   "metadata": {},
   "outputs": [],
   "source": [
    "geoms = [pcd]\n",
    "#geoms.append(edges_to_lineset(mesh, edges, (1, 0, 0)))"
   ]
  },
  {
   "cell_type": "code",
   "execution_count": 18,
   "id": "6318827d",
   "metadata": {},
   "outputs": [],
   "source": [
    "o3d.visualization.draw_geometries(geoms)"
   ]
  },
  {
   "cell_type": "code",
   "execution_count": 9,
   "id": "280541f4",
   "metadata": {},
   "outputs": [],
   "source": [
    "flatten_curve_frag = np.array(cfs)#list(itertools.chain.from_iterable(cfs[1])))\n",
    "#flatten_curve_frag = (np.linalg.inv(R_mirror)@np.linalg.inv(R)@flatten_curve_frag.T).T\n",
    "\n",
    "point_num = flatten_curve_frag.shape[0]\n",
    "curve_pcd = o3d.geometry.PointCloud()\n",
    "curve_pcd.points = o3d.utility.Vector3dVector(flatten_curve_frag)\n",
    "curve_pcd.colors = o3d.utility.Vector3dVector(np.repeat(np.array((0, 1, 0)).reshape(1,-1), point_num, axis=0))\n",
    "#pcd.rotate(R_mirror,(0,0,0))\n",
    "#pcd.rotate(R,(0,0,0))\n",
    "#pcd.scale(10,(0,0,0))\n",
    "geoms.append(curve_pcd)"
   ]
  },
  {
   "cell_type": "code",
   "execution_count": 10,
   "id": "399994e9",
   "metadata": {},
   "outputs": [],
   "source": [
    "o3d.visualization.draw_geometries(geoms)"
   ]
  },
  {
   "cell_type": "code",
   "execution_count": 13,
   "id": "9c73d2c8",
   "metadata": {},
   "outputs": [
    {
     "data": {
      "text/plain": [
       "array([[ 1.65974092,  0.07870425, -4.6960659 ],\n",
       "       [ 1.62660539,  0.09169241, -4.68499184],\n",
       "       [ 1.53852677,  0.08381261, -4.64570951],\n",
       "       ...,\n",
       "       [ 1.10726655, -0.65992391, -4.45274067],\n",
       "       [ 1.09081459, -0.70570552, -4.36616755],\n",
       "       [ 1.5758909 ,  0.09200782, -4.70345402]])"
      ]
     },
     "execution_count": 13,
     "metadata": {},
     "output_type": "execute_result"
    }
   ],
   "source": [
    "np.asarray(pcd.points)"
   ]
  },
  {
   "cell_type": "code",
   "execution_count": null,
   "id": "14388a6d",
   "metadata": {},
   "outputs": [],
   "source": []
  }
 ],
 "metadata": {
  "kernelspec": {
   "display_name": "Python 3",
   "language": "python",
   "name": "python3"
  },
  "language_info": {
   "codemirror_mode": {
    "name": "ipython",
    "version": 3
   },
   "file_extension": ".py",
   "mimetype": "text/x-python",
   "name": "python",
   "nbconvert_exporter": "python",
   "pygments_lexer": "ipython3",
   "version": "3.7.10"
  }
 },
 "nbformat": 4,
 "nbformat_minor": 5
}
