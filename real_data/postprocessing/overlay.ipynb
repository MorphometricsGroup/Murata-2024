{
 "cells": [
  {
   "cell_type": "code",
   "execution_count": 4,
   "id": "5d7783ea",
   "metadata": {},
   "outputs": [
    {
     "name": "stdout",
     "output_type": "stream",
     "text": [
      "Jupyter environment detected. Enabling Open3D WebVisualizer.\n",
      "[Open3D INFO] WebRTC GUI backend enabled.\n",
      "[Open3D INFO] WebRTCWindowSystem: HTTP handshake server disabled.\n"
     ]
    }
   ],
   "source": [
    "import pickle\n",
    "import itertools\n",
    "import open3d as o3d\n",
    "import numpy as np"
   ]
  },
  {
   "cell_type": "code",
   "execution_count": 5,
   "id": "60bf8d3c",
   "metadata": {},
   "outputs": [],
   "source": [
    "with open(\"curves/anotation_new_label_140.curves\", \"rb\") as pickle_file:\n",
    "    curve_fragment = pickle.load(pickle_file)"
   ]
  },
  {
   "cell_type": "code",
   "execution_count": 9,
   "id": "477abd5d",
   "metadata": {},
   "outputs": [],
   "source": [
    "cfs = [[] for i in range(46)]\n",
    "\n",
    "for cols in curve_fragment:\n",
    "    for i in range(len(cols)):\n",
    "        cfs[i] += cols[i]"
   ]
  },
  {
   "cell_type": "code",
   "execution_count": 10,
   "id": "e1787817",
   "metadata": {},
   "outputs": [],
   "source": [
    "_cfs = []\n",
    "for i in cfs:\n",
    "    if len(i) != 0:\n",
    "        _cfs += i\n",
    "cfs = _cfs"
   ]
  },
  {
   "cell_type": "code",
   "execution_count": 11,
   "id": "5f4c0c88",
   "metadata": {},
   "outputs": [
    {
     "data": {
      "text/plain": [
       "190958"
      ]
     },
     "execution_count": 11,
     "metadata": {},
     "output_type": "execute_result"
    }
   ],
   "source": [
    "len(cfs)"
   ]
  },
  {
   "cell_type": "code",
   "execution_count": 12,
   "id": "2eaea178",
   "metadata": {},
   "outputs": [],
   "source": [
    "_cfs = []\n",
    "for i in range(len(cfs)):\n",
    "    if i%10 == 0:\n",
    "        _cfs += cfs[i].tolist()\n",
    "cfs = _cfs"
   ]
  },
  {
   "cell_type": "code",
   "execution_count": 13,
   "id": "1bd637f0",
   "metadata": {},
   "outputs": [],
   "source": [
    "pcd = o3d.io.read_point_cloud(\"polygon/GmJMC025_02_ds_denoise-Copy1.ply\")"
   ]
  },
  {
   "cell_type": "code",
   "execution_count": 14,
   "id": "9d9251e5",
   "metadata": {},
   "outputs": [],
   "source": [
    "geoms = [pcd]\n",
    "#geoms.append(edges_to_lineset(mesh, edges, (1, 0, 0)))"
   ]
  },
  {
   "cell_type": "code",
   "execution_count": 15,
   "id": "6318827d",
   "metadata": {},
   "outputs": [],
   "source": [
    "#o3d.visualization.draw_geometries(geoms)"
   ]
  },
  {
   "cell_type": "code",
   "execution_count": 16,
   "id": "f6edc205",
   "metadata": {},
   "outputs": [],
   "source": [
    "def rotation_mat(angle):\n",
    "    Rx = np.array([[1,0,0],\n",
    "                 [0, np.cos(angle[0]), -np.sin(angle[0])],\n",
    "                 [0, np.sin(angle[0]), np.cos(angle[0])]])\n",
    "\n",
    "    Ry = np.array([[np.cos(angle[1]), 0, np.sin(angle[1])],\n",
    "                 [0,1,0],\n",
    "                 [-np.sin(angle[1]), 0, np.cos(angle[1])]])\n",
    "\n",
    "    Rz = np.array([[np.cos(angle[2]), -np.sin(angle[2]), 0],\n",
    "                 [np.sin(angle[2]), np.cos(angle[2]), 0],\n",
    "                 [0,0,1]])\n",
    "    return Rz@Rx@Ry\n",
    "\n",
    "angle = [np.pi, np.pi, 0] # pcd.rotate()\n",
    "#angle = [-np.pi/2, np.pi/2, np.pi/2]\n",
    "R = rotation_mat(angle)\n",
    "R_mirror = np.array([[-1,0,0],\n",
    "                    [0,1,0],\n",
    "                    [0,0,1]])"
   ]
  },
  {
   "cell_type": "code",
   "execution_count": 17,
   "id": "b662de1c",
   "metadata": {},
   "outputs": [
    {
     "data": {
      "text/plain": [
       "array([[0.7372549 , 0.74117647, 0.13333333],\n",
       "       [0.89019608, 0.46666667, 0.76078431],\n",
       "       [0.85882353, 0.85882353, 0.55294118],\n",
       "       ...,\n",
       "       [0.7372549 , 0.74117647, 0.13333333],\n",
       "       [0.85882353, 0.85882353, 0.55294118],\n",
       "       [0.85882353, 0.85882353, 0.55294118]])"
      ]
     },
     "execution_count": 17,
     "metadata": {},
     "output_type": "execute_result"
    }
   ],
   "source": [
    "np.asarray(pcd.colors)"
   ]
  },
  {
   "cell_type": "code",
   "execution_count": 19,
   "id": "0c7f6dca",
   "metadata": {},
   "outputs": [
    {
     "name": "stderr",
     "output_type": "stream",
     "text": [
      "C:\\Users\\murata\\anaconda3\\envs\\py37cv\\lib\\site-packages\\ipykernel_launcher.py:1: VisibleDeprecationWarning: Creating an ndarray from ragged nested sequences (which is a list-or-tuple of lists-or-tuples-or ndarrays with different lengths or shapes) is deprecated. If you meant to do this, you must specify 'dtype=object' when creating the ndarray.\n",
      "  \"\"\"Entry point for launching an IPython kernel.\n"
     ]
    }
   ],
   "source": [
    "curve_fragment = np.array((curve_fragment[0],curve_fragment[2],curve_fragment[1]))"
   ]
  },
  {
   "cell_type": "code",
   "execution_count": 23,
   "id": "280541f4",
   "metadata": {},
   "outputs": [],
   "source": [
    "flatten_curve_frag = list(itertools.chain.from_iterable(cfs))\n",
    "#flatten_curve_frag = (np.linalg.inv(R_mirror)@np.linalg.inv(R)@flatten_curve_frag.T).T\n",
    "flatten_curve_frag = np.array(cfs)\n",
    "point_num = flatten_curve_frag.shape[0]\n",
    "curve_pcd = o3d.geometry.PointCloud()\n",
    "curve_pcd.points = o3d.utility.Vector3dVector(flatten_curve_frag)\n",
    "curve_pcd.colors = o3d.utility.Vector3dVector(np.repeat(np.array((0, 1, 0)).reshape(1,-1), point_num, axis=0))\n",
    "geoms.append(curve_pcd)"
   ]
  },
  {
   "cell_type": "code",
   "execution_count": 24,
   "id": "399994e9",
   "metadata": {},
   "outputs": [],
   "source": [
    "o3d.visualization.draw_geometries(geoms)"
   ]
  },
  {
   "cell_type": "code",
   "execution_count": null,
   "id": "7b2c9c8d",
   "metadata": {},
   "outputs": [],
   "source": []
  }
 ],
 "metadata": {
  "kernelspec": {
   "display_name": "Python 3 (ipykernel)",
   "language": "python",
   "name": "python3"
  },
  "language_info": {
   "codemirror_mode": {
    "name": "ipython",
    "version": 3
   },
   "file_extension": ".py",
   "mimetype": "text/x-python",
   "name": "python",
   "nbconvert_exporter": "python",
   "pygments_lexer": "ipython3",
   "version": "3.7.13"
  }
 },
 "nbformat": 4,
 "nbformat_minor": 5
}
