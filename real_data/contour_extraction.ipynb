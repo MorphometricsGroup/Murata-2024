{
 "cells": [
  {
   "cell_type": "code",
   "execution_count": null,
   "metadata": {
    "code_folding": []
   },
   "outputs": [],
   "source": [
    "import os, sys\n",
    "import pathlib\n",
    "import time\n",
    "import pickle\n",
    "\n",
    "import numpy as np\n",
    "import cv2\n",
    "\n",
    "from scipy.linalg import null_space\n",
    "# import sympy\n",
    "\n",
    "import matplotlib.pyplot as plt"
   ]
  },
  {
   "cell_type": "code",
   "execution_count": null,
   "metadata": {},
   "outputs": [],
   "source": [
    "sys.path"
   ]
  },
  {
   "cell_type": "code",
   "execution_count": null,
   "metadata": {},
   "outputs": [],
   "source": [
    "%load_ext autoreload\n",
    "%autoreload 2\n",
    "\n",
    "if not os.path.abspath(\"../\") in sys.path:\n",
    "    sys.path.append(os.path.abspath(\"../\"))\n",
    "    sys.path.append(os.path.abspath(\"../src\"))\n",
    "\n",
    "from src import normalization\n",
    "from src import Camera, metashape_Camera\n",
    "from src import camera_correspondence, FF_mat, epipole_angle, pair_and_key_gen, coll_dict_gen\n",
    "from src import pt_pair, FR_frags, FR_check\n",
    "from src import min_dist, tri, reprojection_gen, gen_support_dict, gen_support\n",
    "from src import all_D, frag_list_fraged, all_sep"
   ]
  },
  {
   "cell_type": "markdown",
   "metadata": {},
   "source": [
    "## パイプライン"
   ]
  },
  {
   "cell_type": "code",
   "execution_count": null,
   "metadata": {},
   "outputs": [],
   "source": [
    "cam_list = [metashape_Camera(i) for i in range(0,264,20)]\n",
    "for i in range(len(cam_list)):\n",
    "    cam_list[i].img_load()\n",
    "    cam_list[i].contour_load()\n",
    "    cam_list[i].label_load()\n",
    "    cam_list[i].correspondence_contour()\n",
    "    cam_list[i].para_load()\n",
    "    "
   ]
  },
  {
   "cell_type": "code",
   "execution_count": null,
   "metadata": {},
   "outputs": [],
   "source": [
    "# エピポール取得\n",
    "cam_pairs = camera_correspondence(cam_list)\n",
    "\n",
    "epipole_dict = {i:[] for i in range(len(cam_list))}\n",
    "cam_pairs_F = {}\n",
    "for i in cam_pairs:\n",
    "    epipole1, epipole2, F = FF_mat(cam_list[i[0]].A, cam_list[i[1]].A, cam_list[i[0]].Rt, cam_list[i[1]].Rt)\n",
    "    epipole_dict[i[0]].append(normalization(epipole1))\n",
    "    epipole_dict[i[1]].append(normalization(epipole2))\n",
    "    cam_pairs_F[i] = F"
   ]
  },
  {
   "cell_type": "code",
   "execution_count": null,
   "metadata": {
    "scrolled": true
   },
   "outputs": [],
   "source": [
    "# フラグメントのリストを作る\n",
    "for i in range(len(cam_list)):\n",
    "    im_del_list = all_D(epipole_angle(i, epipole_dict, cam_list=cam_list))# im_del_list[color][contour][del_idx]\n",
    "    newCon = all_sep(cam_list[i].contour_list, im_del_list)# newCon[color][fragment][coordination]\n",
    "    cam_list[i].frag_list = frag_list_fraged(newCon)"
   ]
  },
  {
   "cell_type": "code",
   "execution_count": null,
   "metadata": {},
   "outputs": [],
   "source": [
    "#cnum = 3\n",
    "#new_img = np.zeros((cam_list[0].img.shape[0],cam_list[0].img.shape[1]),dtype=np.bool8)\n",
    "\n",
    "#for j in range(len(cam_list[cnum].frag_list)):\n",
    "#    for i in range(len(cam_list[cnum].frag_list[j])):\n",
    "#        curve = cam_list[cnum].frag_list[j][i][~np.isnan(cam_list[cnum].frag_list[j][i])].reshape((-1,2)).astype(int)\n",
    "#        new_img[curve[:,1],curve[:,0]]=True"
   ]
  },
  {
   "cell_type": "code",
   "execution_count": null,
   "metadata": {},
   "outputs": [],
   "source": [
    "#%matplotlib inline\n",
    "#fig = plt.figure(figsize = (20, 20))\n",
    "#fig.patch.set_alpha(0.)\n",
    "## 3DAxesを追加\n",
    "#ax = fig.add_subplot(111)\n",
    "#plt.imshow(new_img)"
   ]
  },
  {
   "cell_type": "markdown",
   "metadata": {},
   "source": [
    "## ペア生成"
   ]
  },
  {
   "cell_type": "code",
   "execution_count": null,
   "metadata": {},
   "outputs": [],
   "source": [
    "%%time\n",
    "import joblib\n",
    "result = joblib.Parallel(n_jobs=-1)(joblib.delayed(pair_and_key_gen)(i, cam_list=cam_list, cam_pairs_F=cam_pairs_F) for i in cam_pairs_F)"
   ]
  },
  {
   "cell_type": "code",
   "execution_count": null,
   "metadata": {},
   "outputs": [],
   "source": [
    "pair_list = {}\n",
    "for i in result:\n",
    "    pair_list.update(i)"
   ]
  },
  {
   "cell_type": "code",
   "execution_count": null,
   "metadata": {},
   "outputs": [],
   "source": [
    "#pair_list[key][color][curve][pair]"
   ]
  },
  {
   "cell_type": "code",
   "execution_count": null,
   "metadata": {},
   "outputs": [],
   "source": [
    "%%time\n",
    "result = joblib.Parallel(n_jobs=-1)(joblib.delayed(coll_dict_gen)(\n",
    "    i, pair_list=pair_list, cam_list=cam_list, cam_pairs_F=cam_pairs_F\n",
    ") for i in pair_list)\n"
   ]
  },
  {
   "cell_type": "code",
   "execution_count": null,
   "metadata": {},
   "outputs": [],
   "source": [
    "coll_dict = {}\n",
    "for i in result:\n",
    "    coll_dict.update(i)"
   ]
  },
  {
   "cell_type": "code",
   "execution_count": null,
   "metadata": {},
   "outputs": [],
   "source": [
    "# 点の一対一対応\n",
    "pair_pt = {}\n",
    "for i in coll_dict:\n",
    "    im_list = []\n",
    "    for col in coll_dict[i]:\n",
    "        col_list = []\n",
    "        for frag in col:\n",
    "            f_list = []\n",
    "            for each_frag in frag:\n",
    "                new_pair = pt_pair(each_frag)\n",
    "                f_list.append(new_pair)\n",
    "            col_list.append(f_list)\n",
    "        im_list.append(col_list)\n",
    "    pair_pt[i] = im_list"
   ]
  },
  {
   "cell_type": "code",
   "execution_count": null,
   "metadata": {},
   "outputs": [],
   "source": [
    "# 座標でdictを作る\n",
    "coordinate_dict = {}\n",
    "for i in pair_list:\n",
    "    pair_coordinate = []\n",
    "    part, counterpart = FR_frags(i,cam_list=cam_list)\n",
    "    for part_col, cpart_col, pair_col, PtPair_col in zip(part, counterpart, pair_list[i], pair_pt[i]):\n",
    "        col_list = []\n",
    "        for part_frag, pair, pt_idx in zip(part_col, pair_col, PtPair_col):\n",
    "            for each_pair, each_pt_idx in zip(pair, pt_idx):\n",
    "                if each_pt_idx[0].size != 0:\n",
    "                    col_list.append((np.array([part_frag[each_pt_idx[0]], cpart_col[each_pair][each_pt_idx[1]]])))\n",
    "        pair_coordinate.append(col_list)\n",
    "    coordinate_dict[i] = pair_coordinate"
   ]
  },
  {
   "cell_type": "code",
   "execution_count": null,
   "metadata": {
    "scrolled": true
   },
   "outputs": [],
   "source": [
    "TDlines = {}\n",
    "for i, j in enumerate(coordinate_dict):\n",
    "    if j[1] == \"F\":\n",
    "        continue\n",
    "    pts = coordinate_dict[j]\n",
    "    P1_ori, P2_ori, F_ori = FR_check(j)\n",
    "    #pt, sep_list = connect_points(pts)\n",
    "    temp_TDlines = []\n",
    "    for pts_col in pts:\n",
    "        col_list = []\n",
    "        for pt in pts_col:\n",
    "            pt = np.transpose(pt, (1, 0, 2))\n",
    "            F = np.broadcast_to(F_ori, (pt.shape[0], 3, 3))\n",
    "            P1 = np.broadcast_to(P1_ori, (pt.shape[0], 3, 4))\n",
    "            P2 = np.broadcast_to(P2_ori, (pt.shape[0], 3, 4))\n",
    "            newcoords = np.array(\n",
    "                list(map(min_dist, F, pt[:, 1, :], pt[:, 0, :])))\n",
    "            tri_pt = np.array(\n",
    "                list(map(tri, P1, P2, newcoords[:, 1, :], newcoords[:, 0, :])))\n",
    "            #pts_array = sep_array(tri_pt, sep_list)\n",
    "            col_list.append(tri_pt)\n",
    "        temp_TDlines.append(col_list)\n",
    "\n",
    "    with open(r\"temp/{0}_{1}_{2}.TDlines\".format(j[0][0], j[0][1], j[1]), \"wb\") as f:\n",
    "        pickle.dump(temp_TDlines, f)\n",
    "    #TDlines[j] = temp_TDlines\n",
    "    print((i+1)/len(coordinate_dict)*100)\n"
   ]
  },
  {
   "cell_type": "code",
   "execution_count": null,
   "metadata": {},
   "outputs": [],
   "source": [
    "tags = []\n",
    "for i in coordinate_dict:\n",
    "    tags.append(i)"
   ]
  },
  {
   "cell_type": "code",
   "execution_count": null,
   "metadata": {
    "scrolled": false
   },
   "outputs": [],
   "source": [
    "%%time\n",
    "import joblib\n",
    "result = joblib.Parallel(n_jobs=-1,verbose=10)(joblib.delayed(reprojection_gen)(tag, cam_list=cam_list) for tag in tags)"
   ]
  },
  {
   "cell_type": "code",
   "execution_count": null,
   "metadata": {},
   "outputs": [],
   "source": [
    "size_list = []\n",
    "for tag in tags:\n",
    "    size_list.append(os.path.getsize(\"temp/{0}_{1}_{2}.TDlines\".format(tag[0][0],tag[0][1],tag[1])))\n",
    "\n",
    "large_tags = np.array(tags)[np.where(\n",
    "    np.array(size_list) >= sum(size_list)/len(size_list))]\n",
    "\n",
    "small_tags = np.array(tags)[np.where(np.array(size_list)<sum(size_list)/len(size_list))]"
   ]
  },
  {
   "cell_type": "code",
   "execution_count": null,
   "metadata": {
    "scrolled": true
   },
   "outputs": [],
   "source": [
    "%%time\n",
    "import joblib\n",
    "result = joblib.Parallel(n_jobs=-1,verbose=10)(joblib.delayed(gen_support)(small_tags, cam_list=cam_list) for tag in tags)"
   ]
  },
  {
   "cell_type": "code",
   "execution_count": null,
   "metadata": {},
   "outputs": [],
   "source": [
    "import joblib\n",
    "% % time\n",
    "result = joblib.Parallel(n_jobs=4, verbose=10)(\n",
    "    joblib.delayed(gen_support)(large_tags) for tag in large_tags)\n"
   ]
  },
  {
   "cell_type": "code",
   "execution_count": null,
   "metadata": {},
   "outputs": [],
   "source": [
    "sup_th = 5# サポート数\n",
    "curve_fragment = []\n",
    "for tag in TDlines:\n",
    "    if tag[1] == \"R\":\n",
    "        continue\n",
    "    lines_list = TDlines[tag]\n",
    "    with open(r\"temp/{0}_{1}_{2}.support_dict\".format(tag[0][0],tag[0][1],tag[1]), 'rb') as f:\n",
    "        support_list, support_ac = pickle.load(f)\n",
    "    #support_list, support_ac = support_dict[tag][0], support_dict[tag][1]\n",
    "    tag_list = []\n",
    "    for col, sup_col, ac_col in zip(lines_list, support_list, support_ac):\n",
    "        col_curve_fragment = []\n",
    "        for frag, sup, sup_ac in zip(col, sup_col, ac_col):\n",
    "            if sup > sup_th:\n",
    "                frag = np.reshape(frag,(-1, 3))\n",
    "                frag = np.array([i for i,j in zip(frag, sup_ac >sup_th) if j])\n",
    "                col_curve_fragment.append(frag)\n",
    "        tag_list.append(col_curve_fragment)\n",
    "    curve_fragment.append(tag_list)"
   ]
  },
  {
   "cell_type": "code",
   "execution_count": null,
   "metadata": {},
   "outputs": [],
   "source": [
    "cfs = [[],[],[],[],[],[],[],[],[],[],[],[],[]]\n",
    "for cols in curve_fragment:\n",
    "    for i in range(len(cols)):\n",
    "        if i == 0:\n",
    "            cfs[0] += cols[i]\n",
    "        if i == 1:\n",
    "            cfs[1] += cols[i]\n",
    "        if i == 2:\n",
    "            cfs[2] += cols[i]\n",
    "        if i == 3:\n",
    "            cfs[3] += cols[i]\n",
    "        if i == 4:\n",
    "            cfs[4] += cols[i]\n",
    "        if i == 5:\n",
    "            cfs[5] += cols[i]\n",
    "        if i == 6:\n",
    "            cfs[6] += cols[i]\n",
    "        if i == 7:\n",
    "            cfs[7] += cols[i]\n",
    "        if i == 8:\n",
    "            cfs[8] += cols[i]\n",
    "        if i == 9:\n",
    "            cfs[9] += cols[i]\n",
    "        if i == 10:\n",
    "            cfs[10] += cols[i]\n",
    "        if i == 11:\n",
    "            cfs[11] += cols[i]\n",
    "        if i == 12:\n",
    "            cfs[12] += cols[i]"
   ]
  },
  {
   "cell_type": "code",
   "execution_count": null,
   "metadata": {
    "scrolled": false
   },
   "outputs": [],
   "source": [
    "from scipy import interpolate\n",
    "import numpy as np\n",
    "import matplotlib.pyplot as plt\n",
    "from matplotlib.animation import FuncAnimation\n",
    "from mpl_toolkits.mplot3d import Axes3D\n",
    "%matplotlib notebook\n",
    "\n",
    "def plot_graph():\n",
    "    color_arr = np.array([[255,0,0],[0,255,0],[0,0,255],\n",
    "                             [255,255,0],[255,0,255],[0,255,255],\n",
    "                             [127,127,127],[127,0,127],[0,127,127]],dtype = np.int16)\n",
    "    j = 0\n",
    "    for i in range(len(cfs)):\n",
    "        for frag in cfs[i]:\n",
    "            if frag.size == 0:\n",
    "                continue\n",
    "            #print(frag)\n",
    "            \n",
    "            \n",
    "            x = frag[:,0]\n",
    "            y = frag[:,1]\n",
    "            z = frag[:,2]\n",
    "            data = [x,y,z]\n",
    "            try:\n",
    "                tck, u= interpolate.splprep(data, k=3)\n",
    "            except ValueError:\n",
    "                pass\n",
    "            except TypeError:\n",
    "                pass\n",
    "            new = interpolate.splev(u, tck, der=0)\n",
    "            c = color_arr[i]/255\n",
    "            if j % 100 == 0:\n",
    "                ax.plot(new[0], new[2], new[1],\"-\",color=c)\n",
    "            \n",
    "            j+=1\n",
    "            \n",
    "        \n",
    "%matplotlib notebook\n",
    "fig = plt.figure(figsize = (12, 12))\n",
    "fig.patch.set_alpha(0.)\n",
    "# 3DAxesを追加\n",
    "ax = fig.add_subplot(111, projection='3d')\n",
    "\n",
    "# 軸ラベルを設定\n",
    "ax.set_xlabel(\"x\", size = 14)\n",
    "ax.set_ylabel(\"z\", size = 14)\n",
    "ax.set_zlabel(\"y\", size = 14)\n",
    "ax.set_box_aspect((1,1,1))\n",
    "#ax.set_xticks(np.arange(-4,4,1))\n",
    "#ax.set_yticks(np.arange(-4,4,1))\n",
    "#ax.set_zticks(np.arange(-2,9,1))\n",
    "\n",
    "plot_graph()"
   ]
  },
  {
   "cell_type": "code",
   "execution_count": null,
   "metadata": {},
   "outputs": [],
   "source": [
    "import itertools\n",
    "\n",
    "import open3d as o3d"
   ]
  },
  {
   "cell_type": "markdown",
   "metadata": {},
   "source": [
    "flatten_curve_frag = np.array(list(itertools.chain.from_iterable(_curve_fragment)))\n",
    "pcd = o3d.geometry.PointCloud()\n",
    "pcd.points = o3d.utility.Vector3dVector(flatten_curve_frag)"
   ]
  },
  {
   "cell_type": "markdown",
   "metadata": {},
   "source": [
    "o3d.visualization.draw_geometries([pcd])"
   ]
  },
  {
   "cell_type": "markdown",
   "metadata": {
    "scrolled": false
   },
   "source": [
    "from scipy import interpolate\n",
    "import numpy as np\n",
    "import matplotlib.pyplot as plt\n",
    "from matplotlib.animation import FuncAnimation\n",
    "from mpl_toolkits.mplot3d import Axes3D\n",
    "%matplotlib notebook\n",
    "\n",
    "fig = plt.figure(figsize = (12, 12))\n",
    "fig.patch.set_alpha(0.)\n",
    "# 3DAxesを追加\n",
    "ax = fig.add_subplot(111, projection='3d')\n",
    "\n",
    "# 軸ラベルを設定\n",
    "ax.set_xlabel(\"x\", size = 14)\n",
    "ax.set_ylabel(\"z\", size = 14)\n",
    "ax.set_zlabel(\"y\", size = 14)\n",
    "ax.set_box_aspect((1,1,1))\n",
    "\n",
    "def plot_graph():\n",
    "    i = 0\n",
    "    for c_f in curve_fragment:\n",
    "        for frag in c_f:\n",
    "            if frag.size == 0:\n",
    "                continue\n",
    "            #print(frag)\n",
    "            \n",
    "            if i%100 == 0:\n",
    "                x = frag[:,0]\n",
    "                y = frag[:,1]\n",
    "                z = frag[:,2]\n",
    "                data = [x,y,z]\n",
    "                try:\n",
    "                    tck, u= interpolate.splprep(data, k=3)\n",
    "                except ValueError:\n",
    "                    pass\n",
    "                except TypeError:\n",
    "                    pass\n",
    "                new = interpolate.splev(u, tck, der=0)\n",
    "\n",
    "                ax.plot(new[0], new[2], new[1],\"-\")\n",
    "                    #ax.plot(x, z, y,\"-\")\n",
    "            i += 1\n",
    "\n",
    "def plt_graph3d(angle):\n",
    "    ax.view_init(azim=angle*5)\n",
    "    \n",
    "# アニメーションを作成\n",
    "ani = FuncAnimation(\n",
    "    fig,\n",
    "    func=plt_graph3d,\n",
    "    frames=72,\n",
    "    init_func=plot_graph,\n",
    "    interval=200\n",
    ")\n",
    "\n",
    "# imagemagickで作成したアニメーションをGIFで書き出す\n",
    "ani.save(\"48_rolling.gif\", writer=\"pillow\", savefig_kwargs={'transparent': True, 'facecolor': 'none'})\n",
    "#ani.save('48_anim.mp4', writer=\"ffmpeg\", savefig_kwargs={'transparent': True, 'facecolor': 'none'})"
   ]
  },
  {
   "cell_type": "code",
   "execution_count": null,
   "metadata": {},
   "outputs": [],
   "source": [
    "import pickle\n",
    "with open(\"one_hole_leaf.curves\",\"wb\") as f:\n",
    "    pickle.dump(curve_fragment, f)"
   ]
  },
  {
   "cell_type": "code",
   "execution_count": null,
   "metadata": {},
   "outputs": [],
   "source": []
  }
 ],
 "metadata": {
  "kernelspec": {
   "display_name": "Python 3",
   "language": "python",
   "name": "python3"
  },
  "language_info": {
   "codemirror_mode": {
    "name": "ipython",
    "version": 3
   },
   "file_extension": ".py",
   "mimetype": "text/x-python",
   "name": "python",
   "nbconvert_exporter": "python",
   "pygments_lexer": "ipython3",
   "version": "3.7.10"
  },
  "vscode": {
   "interpreter": {
    "hash": "8baeaee9d41a9ede74577397e936a2336300ab3dde63496ecc21a0a5b3548eb3"
   }
  }
 },
 "nbformat": 4,
 "nbformat_minor": 4
}
