{
 "cells": [
  {
   "cell_type": "code",
   "execution_count": 1,
   "id": "cc1256de",
   "metadata": {},
   "outputs": [],
   "source": [
    "import pathlib\n",
    "import numpy as np\n",
    "import os\n"
   ]
  },
  {
   "cell_type": "code",
   "execution_count": 2,
   "id": "eca03ad8",
   "metadata": {},
   "outputs": [],
   "source": [
    "ori_view_path = pathlib.Path(\"q_e/\")\n",
    "ori_view_num_pathes = list(ori_view_path.glob(\"*\"))"
   ]
  },
  {
   "cell_type": "code",
   "execution_count": 3,
   "id": "805c1318",
   "metadata": {
    "scrolled": true
   },
   "outputs": [],
   "source": [
    "output = \"q_e_noise_1mm\"\n",
    "rng = np.random.default_rng()\n",
    "one_mm = 2.5/1500\n",
    "sd = one_mm*3\n",
    "\n",
    "d_a = 0\n",
    "for i in range(len(ori_view_num_pathes)):\n",
    "    tsvs = list(ori_view_num_pathes[i].glob(\"*.csv\"))\n",
    "    for j in range(len(tsvs)):\n",
    "        P_mat = np.loadtxt(str(tsvs[j]), delimiter=\"\\t\")\n",
    "        a = -np.dot(P_mat[0:3, 0:3].T, P_mat[0:3, 3])\n",
    "        diff = np.random.multivariate_normal((0,0,0), np.diag((1,1,1))*sd**2)\n",
    "        P_mat[:3,3] += diff\n",
    "        os.makedirs(os.path.join(output, ori_view_num_pathes[i].name), exist_ok=True)\n",
    "        np.savetxt(os.path.join(output, ori_view_num_pathes[i].name, tsvs[j].name), P_mat, delimiter=\"\\t\")\n"
   ]
  },
  {
   "cell_type": "code",
   "execution_count": null,
   "id": "4d5a5672",
   "metadata": {},
   "outputs": [],
   "source": []
  },
  {
   "cell_type": "code",
   "execution_count": 94,
   "id": "d09e77a3",
   "metadata": {},
   "outputs": [
    {
     "data": {
      "text/plain": [
       "'q_e_noise_1mm\\\\view_mat_64'"
      ]
     },
     "execution_count": 94,
     "metadata": {},
     "output_type": "execute_result"
    }
   ],
   "source": [
    "os.path.join(output, ori_view_num_pathes[i].name)"
   ]
  },
  {
   "cell_type": "code",
   "execution_count": 81,
   "id": "54c50578",
   "metadata": {},
   "outputs": [
    {
     "data": {
      "text/plain": [
       "array([ True,  True,  True])"
      ]
     },
     "execution_count": 81,
     "metadata": {},
     "output_type": "execute_result"
    }
   ],
   "source": [
    "np.abs(diff) < sd*2"
   ]
  },
  {
   "cell_type": "code",
   "execution_count": 19,
   "id": "f966a795",
   "metadata": {},
   "outputs": [
    {
     "data": {
      "text/plain": [
       "array([-0.30038239,  0.08103092,  0.05822081])"
      ]
     },
     "execution_count": 19,
     "metadata": {},
     "output_type": "execute_result"
    }
   ],
   "source": [
    "np.random.multivariate_normal((0,0,0), np.diag((1,1,1)))"
   ]
  },
  {
   "cell_type": "code",
   "execution_count": 20,
   "id": "cbcdef4a",
   "metadata": {},
   "outputs": [
    {
     "data": {
      "text/plain": [
       "array([[0.00027778, 0.        , 0.        ],\n",
       "       [0.        , 0.00027778, 0.        ],\n",
       "       [0.        , 0.        , 0.00027778]])"
      ]
     },
     "execution_count": 20,
     "metadata": {},
     "output_type": "execute_result"
    }
   ],
   "source": [
    "np.diag((1,1,1))*one_mm**2"
   ]
  },
  {
   "cell_type": "code",
   "execution_count": null,
   "id": "23939828",
   "metadata": {},
   "outputs": [],
   "source": []
  },
  {
   "cell_type": "code",
   "execution_count": null,
   "id": "a025f8f1",
   "metadata": {},
   "outputs": [],
   "source": []
  }
 ],
 "metadata": {
  "kernelspec": {
   "display_name": "Python 3 (ipykernel)",
   "language": "python",
   "name": "python3"
  },
  "language_info": {
   "codemirror_mode": {
    "name": "ipython",
    "version": 3
   },
   "file_extension": ".py",
   "mimetype": "text/x-python",
   "name": "python",
   "nbconvert_exporter": "python",
   "pygments_lexer": "ipython3",
   "version": "3.7.13"
  }
 },
 "nbformat": 4,
 "nbformat_minor": 5
}
