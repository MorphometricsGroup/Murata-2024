{
 "cells": [
  {
   "cell_type": "code",
   "execution_count": 1,
   "metadata": {
    "code_folding": []
   },
   "outputs": [],
   "source": [
    "import sys, os\n",
    "import pathlib\n",
    "import time\n",
    "import importlib\n",
    "\n",
    "import numpy as np\n",
    "from scipy.linalg import null_space\n",
    "# import sympy\n",
    "import matplotlib.pyplot as plt\n",
    "\n",
    "import cv2"
   ]
  },
  {
   "cell_type": "code",
   "execution_count": 10,
   "metadata": {},
   "outputs": [
    {
     "data": {
      "text/plain": [
       "['/Users/noshita/working_dir/curve_sketch/simlation_data',\n",
       " '/Users/noshita/.pyenv/versions/3.9.9/lib/python39.zip',\n",
       " '/Users/noshita/.pyenv/versions/3.9.9/lib/python3.9',\n",
       " '/Users/noshita/.pyenv/versions/3.9.9/lib/python3.9/lib-dynload',\n",
       " '',\n",
       " '/Users/noshita/Library/Caches/pypoetry/virtualenvs/curve-sketch-CVtvuAS6-py3.9/lib/python3.9/site-packages',\n",
       " '/Users/noshita/working_dir/curve_sketch',\n",
       " '/Users/noshita/working_dir/curve_sketch/src']"
      ]
     },
     "execution_count": 10,
     "metadata": {},
     "output_type": "execute_result"
    }
   ],
   "source": [
    "sys.path"
   ]
  },
  {
   "cell_type": "code",
   "execution_count": 52,
   "metadata": {},
   "outputs": [
    {
     "name": "stdout",
     "output_type": "stream",
     "text": [
      "The autoreload extension is already loaded. To reload it, use:\n",
      "  %reload_ext autoreload\n"
     ]
    }
   ],
   "source": [
    "%load_ext autoreload\n",
    "%autoreload 2\n",
    "\n",
    "if not os.path.abspath(\"../src\") in sys.path:\n",
    "    sys.path.append(os.path.abspath(\"../src\"))\n",
    "\n",
    "from src import normalization\n",
    "from src import Camera\n",
    "from src import camera_correspondence, FF_mat, epipole_angle, pair_and_key_gen, coll_dict_gen\n",
    "from src import pt_pair, FR_frags, FR_check\n",
    "from src import min_dist, tri, excluded_Parray, dot_P_frag, gen_support_dict\n",
    "from src import all_D, frag_list_fraged"
   ]
  },
  {
   "cell_type": "markdown",
   "metadata": {},
   "source": [
    "## 関数定義"
   ]
  },
  {
   "cell_type": "code",
   "execution_count": 14,
   "metadata": {},
   "outputs": [],
   "source": []
  },
  {
   "cell_type": "markdown",
   "metadata": {},
   "source": [
    "### 保存"
   ]
  },
  {
   "cell_type": "code",
   "execution_count": 2,
   "metadata": {},
   "outputs": [],
   "source": [
    "# 曲線分割\n",
    "def split_list(contour_length, max_frag_len=100, min_frag_len=40, min_overrap=20):\n",
    "    \n",
    "    # 輪郭のフラグメントの位置を指定(最小40 pixl)\n",
    "    if contour_length > max_frag_len:\n",
    "        pass\n",
    "    \n",
    "    elif contour_length < min_frag_len:\n",
    "        return None\n",
    "    \n",
    "    elif contour_length == min_frag_len:\n",
    "        return [[0,min_frag_len-1]]\n",
    "    \n",
    "    else:\n",
    "        max_frag_len = contour_length\n",
    "    \n",
    "    step0 = np.random.randint(min_frag_len, max_frag_len) # 一つ目のフラグメントの長さ（40から100）\n",
    "    sep_list = [[0,step0]]\n",
    "    back = np.random.randint(min_overrap, step0-1) # フラグメントを重ねるために戻す分を決める（最小10 pixl）\n",
    "    next_start = step0 - back\n",
    "    \n",
    "    while True:\n",
    "        \n",
    "        # 戻った分(back)より進む\n",
    "        if back+1 > min_frag_len:\n",
    "            step = np.random.randint(back+1, max_frag_len)\n",
    "        else:\n",
    "            step = np.random.randint(min_frag_len, max_frag_len)\n",
    "\n",
    "        full_length = next_start + step\n",
    "        sept = [next_start, full_length]\n",
    "        sep_list.append(sept)\n",
    "        back = np.random.randint(min_overrap, step-1)\n",
    "        next_start = full_length - back\n",
    "\n",
    "        # 終了判定\n",
    "        if full_length > contour_length:\n",
    "            break\n",
    "    \n",
    "    # 超過した分戻す（長さはそのまま）\n",
    "    difference = sep_list[-1][1] - (contour_length-1)\n",
    "    sep_list[-1][0] -= difference\n",
    "    sep_list[-1][1] -= difference\n",
    "    \n",
    "    return sep_list\n",
    "\n",
    "\n",
    "def contours_split(contour):\n",
    "    \n",
    "    #contour.shape == (N, 2)\n",
    "    contour_length = contour.shape[0]\n",
    "    sp_list = split_list(contour_length)\n",
    "    \n",
    "    if sp_list == None:\n",
    "        return None\n",
    "    \n",
    "    frag_list = []\n",
    "    # 位置のリスト通りにスライス\n",
    "    for sp in sp_list:\n",
    "        #print(sp)\n",
    "        frag_list.append(contour[sp[0]:sp[1],:])\n",
    "\n",
    "    return frag_list\n",
    "\n",
    "\n",
    "def all_fraged(contours_list):\n",
    "    \n",
    "    # 輪郭のリストからフラグメントのリストを得る\n",
    "    frags_list = []\n",
    "\n",
    "    #for i in contours_list:\n",
    "    #temp_list = []\n",
    "    frags = []\n",
    "    for j in contours_list:\n",
    "        temp_frags = contours_split(j.squeeze())\n",
    "            \n",
    "        if temp_frags != None:\n",
    "            frags += temp_frags\n",
    "\n",
    "    #if frags != []:\n",
    "    #    frags_list.append(frags)\n",
    "    \n",
    "    return frags\n",
    "\n",
    "def frag_list_fraged(frags_list):# frags_list[色][輪郭][sep][座標]\n",
    "    img_frag_list = []\n",
    "    for frag in frags_list:\n",
    "        color_frag = all_fraged(frag)\n",
    "        img_frag_list.append(color_frag)\n",
    "    return img_frag_list"
   ]
  },
  {
   "cell_type": "code",
   "execution_count": 4,
   "metadata": {},
   "outputs": [],
   "source": [
    "# epipole取得\n",
    "\n",
    "def contour_disassembly(contour_list):\n",
    "    con_dis = []\n",
    "    for i in range(len(contour_list)):\n",
    "        if contour_list[i] == []:\n",
    "            continue\n",
    "        which_dis = np.concatenate(contour_list[i])\n",
    "        con_dis.append(which_dis)\n",
    "        \n",
    "    return np.concatenate(con_dis)"
   ]
  },
  {
   "cell_type": "code",
   "execution_count": 5,
   "metadata": {},
   "outputs": [],
   "source": [
    "# エピポーラ関係\n",
    "\n",
    "def para2line(parameter):\n",
    "    \n",
    "    # 一つのパラメータが渡された時を想定\n",
    "    line_coode = np.zeros((1920,2), dtype=np.int64)\n",
    "    para = np.squeeze(parameter)# 3次ベクトル\n",
    "    for x in range(1920):\n",
    "        y = int((-para[0]*x - para[2])/para[1])\n",
    "        line_coode[x,0] = x\n",
    "        line_coode[x,1] = y\n",
    "    \n",
    "    return line_coode\n",
    "\n",
    "\n",
    "def epiline_cal(frag_paras):\n",
    "    # 全ての色に対するエピポーラ線の帯の計算\n",
    "    # lines[色][フラグメント][線][座標]\n",
    "    lines = []\n",
    "    for color in frag_paras:\n",
    "        temp_color = []\n",
    "        \n",
    "        for frag in color:\n",
    "            temp_line = []\n",
    "\n",
    "            for point in frag:\n",
    "                line = para2line(point)\n",
    "                temp_line.append(line)\n",
    "\n",
    "            temp_color.append(temp_line)\n",
    "        lines.append(temp_color)\n",
    "        \n",
    "    return lines\n",
    "\n",
    "\n",
    "def frags_vs_line(img2_frags, frag_epiline):\n",
    "    \n",
    "    # frag_epiline shape(1920, 2)\n",
    "    surport = np.zeros(len(img2_frags))\n",
    "    for i in frag_epiline:\n",
    "        for j, frag in enumerate(img2_frags):\n",
    "            if i in frag:\n",
    "                surport[j] += 1\n",
    "    \n",
    "    return surport\n",
    "\n",
    "\n",
    "def pair_frag_idx(img2_frags, frag_epilines):\n",
    "    surport = np.zeros(len(img2_frags))\n",
    "    for epi in frag_epilines:\n",
    "        surport += frags_vs_line(img2_frags, epi)\n",
    "        \n",
    "    return surport, np.argmax(surport)\n"
   ]
  },
  {
   "cell_type": "code",
   "execution_count": 27,
   "metadata": {},
   "outputs": [],
   "source": []
  },
  {
   "cell_type": "markdown",
   "metadata": {},
   "source": [
    "pt1 = [1920-741,758] # 0\n",
    "pt2 = [1920-858,834] # 2\n",
    "F = cam_pairs_F[(0,2)] #0to2\n",
    "pt2, pt1 = min_dist(F, pt2, pt1)\n",
    "print(pt1,pt2)"
   ]
  },
  {
   "cell_type": "markdown",
   "metadata": {},
   "source": [
    "pt1 = np.array([pt1[0],pt1[1],1]) # 0\n",
    "pt2 = np.array([pt2[0],pt2[1],1]) # 2"
   ]
  },
  {
   "cell_type": "markdown",
   "metadata": {},
   "source": [
    "np.dot(np.dot(pt2, F),pt1)"
   ]
  },
  {
   "cell_type": "markdown",
   "metadata": {},
   "source": [
    "tri(cam_list[0].P, cam_list[2].P, pt1, pt2)"
   ]
  },
  {
   "cell_type": "markdown",
   "metadata": {},
   "source": [
    "## カメラ"
   ]
  },
  {
   "cell_type": "code",
   "execution_count": 12,
   "metadata": {},
   "outputs": [],
   "source": [
    "cam_list = [Camera(i) for i in range(48)]\n",
    "for i in range(len(cam_list)):\n",
    "    cam_list[i].img_load()\n",
    "    cam_list[i].contour_extraction()\n",
    "    cam_list[i].para_load()\n",
    "#cam_pairs = camera_correspondence(cam_list)"
   ]
  },
  {
   "cell_type": "code",
   "execution_count": 15,
   "metadata": {},
   "outputs": [],
   "source": [
    "# エピポール取得\n",
    "cam_pairs = camera_correspondence(cam_list)\n",
    "\n",
    "epipole_dict = {i:[] for i in range(len(cam_list))}\n",
    "cam_pairs_F = {}\n",
    "for i in cam_pairs:\n",
    "    epipole1, epipole2, F = FF_mat(cam_list[i[0]].A, cam_list[i[1]].A, cam_list[i[0]].Rt, cam_list[i[1]].Rt)\n",
    "    epipole_dict[i[0]].append(normalization(epipole1))\n",
    "    epipole_dict[i[1]].append(normalization(epipole2))\n",
    "    cam_pairs_F[i] = F"
   ]
  },
  {
   "cell_type": "code",
   "execution_count": 17,
   "metadata": {},
   "outputs": [],
   "source": [
    "\n",
    "\n",
    "def expand(idx_l, list_length):\n",
    "    del_list = []\n",
    "    for i in idx_l:\n",
    "        if np.isnan(i):\n",
    "            continue\n",
    "        if i-2 < 0:\n",
    "            del_list.append(list_length + i-2)\n",
    "        else:\n",
    "            del_list.append(i-2)\n",
    "        \n",
    "        if i-1 < 0:\n",
    "            del_list.append(list_length + i-1)\n",
    "        else:\n",
    "            del_list.append(i-1)\n",
    "        \n",
    "        del_list.append(i)\n",
    "        \n",
    "        if i+1 > list_length-1:\n",
    "            del_list.append(i+1-list_length)\n",
    "        else:\n",
    "            del_list.append(i+1)\n",
    "        if i+2 > list_length-1:\n",
    "            del_list.append(i+2-list_length)\n",
    "        else:\n",
    "            del_list.append(i+2)\n",
    "    return sorted(list(set(del_list)))\n",
    "\n",
    "def differential(angles):\n",
    "    # エピポーラ線に平行な接線をもつ点(前後方微分の正負を比べたほうが良い)\n",
    "    del_idx = []\n",
    "    for i in range(len(angles)):\n",
    "        if np.isnan(angles[i]):\n",
    "            continue\n",
    "        if i == len(angles)-1:\n",
    "            if np.sign(angles[i]-angles[i-1]) != np.sign(angles[0]-angles[i]): #or abs(angles[0]-angles[i-1])/2 < 0.001:\n",
    "                del_idx.append(i)\n",
    "        else:\n",
    "            if np.sign(angles[i]-angles[i-1]) != np.sign(angles[i+1]-angles[i]):# or abs(angles[i+1]-angles[i-1])/2 < 0.001:\n",
    "                del_idx.append(i)\n",
    "    #del_idx = expand(del_idx, len(angles))\n",
    "    \n",
    "    return del_idx\n",
    "\n",
    "def marge_del(epi_del_list):\n",
    "    im_del_list = []\n",
    "    for i, col in enumerate(epi_del_list[0]):\n",
    "        color_list = []\n",
    "        for j, con in enumerate(col):\n",
    "            color_list.append(list(set(epi_del_list[0][i][j] + epi_del_list[1][i][j])))\n",
    "        im_del_list.append(color_list)\n",
    "    return im_del_list\n",
    "\n",
    "def all_D(angles_list):\n",
    "    # 画像1枚に対して削除リストを作成\n",
    "    all_del_list = []\n",
    "    for epi in angles_list:\n",
    "        epi_del_list = []\n",
    "        for color in epi:\n",
    "            color_del_list = []\n",
    "            for contour in color:\n",
    "                #if len(contour)<40:\n",
    "                #    continue\n",
    "                del_idx = differential(contour)\n",
    "                color_del_list.append(del_idx)\n",
    "            epi_del_list.append(color_del_list)\n",
    "        all_del_list.append(epi_del_list)\n",
    "    all_del_list = marge_del(all_del_list)\n",
    "    return all_del_list"
   ]
  },
  {
   "cell_type": "code",
   "execution_count": 18,
   "metadata": {},
   "outputs": [],
   "source": [
    "# エピポーラ線との接線で分割\n",
    "def separate(contour, del_idx):\n",
    "    # 一つの輪郭に対し削除リストから削除\n",
    "    start = 0\n",
    "    newArray = []\n",
    "    for d in del_idx:\n",
    "        if contour[start:d] != []:\n",
    "            if contour[start:d].size != 0:\n",
    "                newArray.append(contour[start:d])\n",
    "        start = d+1\n",
    "\n",
    "    if contour[start:].size != 0:\n",
    "        newArray.append(contour[start:])\n",
    "    return newArray\n",
    "\n",
    "def all_sep(con_list, del_list):\n",
    "    n_list = []\n",
    "    for col, del_col in zip(con_list, del_list):\n",
    "        n_col_list = []\n",
    "        for con, del_con in zip(col, del_col) :\n",
    "            n_con = separate(con, del_con)\n",
    "            for frag in n_con:\n",
    "                n_col_list.append(frag)\n",
    "        n_list.append(n_col_list)\n",
    "    return n_list"
   ]
  },
  {
   "cell_type": "code",
   "execution_count": 16,
   "metadata": {},
   "outputs": [
    {
     "name": "stderr",
     "output_type": "stream",
     "text": [
      "/Users/noshita/working_dir/curve_sketch/src/epipolar.py:88: RuntimeWarning: divide by zero encountered in double_scalars\n",
      "  tilt = (y - epi_y) / (x - epi_x)\n"
     ]
    }
   ],
   "source": [
    "# フラグメントのリストを作る\n",
    "for i in range(len(cam_list)):\n",
    "    im_del_list = all_D(epipole_angle(i, epipole_dict, cam_list=cam_list))# im_del_list[color][contour][del_idx]\n",
    "    #newCon = all_sep(cam_list[i].contour_list, im_del_list)# newCon[color][fragment][coordination]\n",
    "    cam_list[i].frag_list = frag_list_fraged(cam_list[i].contour_list)"
   ]
  },
  {
   "cell_type": "code",
   "execution_count": 17,
   "metadata": {},
   "outputs": [],
   "source": [
    "cnum = 4\n",
    "new_img = np.zeros((cam_list[0].img.shape[0],cam_list[0].img.shape[1]),dtype=np.bool8)\n",
    "\n",
    "for j in range(len(cam_list[cnum].frag_list)):\n",
    "    for i in range(len(cam_list[cnum].frag_list[j])):\n",
    "        curve = cam_list[cnum].frag_list[j][i][~np.isnan(cam_list[cnum].frag_list[j][i])].reshape((-1,2)).astype(int)\n",
    "        new_img[curve[:,1],curve[:,0]]=True"
   ]
  },
  {
   "cell_type": "code",
   "execution_count": 18,
   "metadata": {},
   "outputs": [
    {
     "data": {
      "text/plain": [
       "<matplotlib.image.AxesImage at 0x1281e64f0>"
      ]
     },
     "execution_count": 18,
     "metadata": {},
     "output_type": "execute_result"
    },
    {
     "data": {
      "image/png": "[encoded data removed]",
      "text/plain": [
       "<Figure size 1440x1440 with 1 Axes>"
      ]
     },
     "metadata": {
      "needs_background": "light"
     },
     "output_type": "display_data"
    }
   ],
   "source": [
    "# %matplotlib inline\n",
    "fig = plt.figure(figsize = (20, 20))\n",
    "fig.patch.set_alpha(0.)\n",
    "# 3DAxesを追加\n",
    "ax = fig.add_subplot(111)\n",
    "plt.imshow(new_img)"
   ]
  },
  {
   "cell_type": "code",
   "execution_count": 19,
   "metadata": {},
   "outputs": [
    {
     "name": "stderr",
     "output_type": "stream",
     "text": [
      "/Users/noshita/working_dir/curve_sketch/src/epipolar.py:126: RuntimeWarning: divide by zero encountered in float_scalars\n",
      "  return np.array([[0, -c / b] for a, b, c in para_list])\n",
      "/Users/noshita/working_dir/curve_sketch/src/epipolar.py:130: RuntimeWarning: divide by zero encountered in double_scalars\n",
      "  return np.array([[img_width, -(img_width * a + c) / b] for a, b, c in para_list])\n",
      "/Users/noshita/Library/Caches/pypoetry/virtualenvs/curve-sketch-CVtvuAS6-py3.9/lib/python3.9/site-packages/numpy/core/numeric.py:1642: RuntimeWarning: invalid value encountered in multiply\n",
      "  cp -= a1 * b0\n",
      "/Users/noshita/working_dir/curve_sketch/src/epipolar.py:159: RuntimeWarning: invalid value encountered in divide\n",
      "  t1 = np.cross(v, v2) / np.cross(v1, v2)\n",
      "/Users/noshita/Library/Caches/pypoetry/virtualenvs/curve-sketch-CVtvuAS6-py3.9/lib/python3.9/site-packages/numpy/core/numeric.py:1642: RuntimeWarning: invalid value encountered in subtract\n",
      "  cp -= a1 * b0\n"
     ]
    },
    {
     "name": "stdout",
     "output_type": "stream",
     "text": [
      "CPU times: user 5.22 s, sys: 578 ms, total: 5.8 s\n",
      "Wall time: 7.13 s\n"
     ]
    }
   ],
   "source": [
    "%%time\n",
    "import joblib\n",
    "result = joblib.Parallel(n_jobs=-1)(joblib.delayed(pair_and_key_gen)(i, cam_list, cam_pairs_F) for i in cam_pairs_F)"
   ]
  },
  {
   "cell_type": "code",
   "execution_count": 20,
   "metadata": {},
   "outputs": [],
   "source": [
    "pair_list = {}\n",
    "for i in result:\n",
    "    pair_list.update(i)"
   ]
  },
  {
   "cell_type": "code",
   "execution_count": 26,
   "metadata": {},
   "outputs": [],
   "source": [
    "#pair_list[key][color][curve][pair]"
   ]
  },
  {
   "cell_type": "code",
   "execution_count": 21,
   "metadata": {},
   "outputs": [
    {
     "name": "stderr",
     "output_type": "stream",
     "text": [
      "/Users/noshita/working_dir/curve_sketch/src/epipolar.py:126: RuntimeWarning: divide by zero encountered in float_scalars\n",
      "  return np.array([[0, -c / b] for a, b, c in para_list])\n",
      "/Users/noshita/working_dir/curve_sketch/src/epipolar.py:130: RuntimeWarning: divide by zero encountered in double_scalars\n",
      "  return np.array([[img_width, -(img_width * a + c) / b] for a, b, c in para_list])\n",
      "/Users/noshita/working_dir/curve_sketch/src/epipolar.py:244: RuntimeWarning: invalid value encountered in divide\n",
      "  v1 = v1 / v1_n\n",
      "/Users/noshita/working_dir/curve_sketch/src/epipolar.py:256: RuntimeWarning: invalid value encountered in divide\n",
      "  v2 = v2 / v2_n\n"
     ]
    },
    {
     "name": "stdout",
     "output_type": "stream",
     "text": [
      "CPU times: user 51.3 s, sys: 4.7 s, total: 56 s\n",
      "Wall time: 58.3 s\n"
     ]
    }
   ],
   "source": [
    "%%time\n",
    "result = joblib.Parallel(n_jobs=-1)(joblib.delayed(coll_dict_gen)(i, pair_list, cam_list, cam_pairs_F) for i in pair_list)\n"
   ]
  },
  {
   "cell_type": "code",
   "execution_count": 22,
   "metadata": {},
   "outputs": [],
   "source": [
    "coll_dict = {}\n",
    "for i in result:\n",
    "    coll_dict.update(i)"
   ]
  },
  {
   "cell_type": "code",
   "execution_count": 25,
   "metadata": {},
   "outputs": [],
   "source": [
    "# 点の一対一対応\n",
    "pair_pt = {}\n",
    "for i in coll_dict:\n",
    "    im_list = []\n",
    "    for col in coll_dict[i]:\n",
    "        col_list = []\n",
    "        for frag in col:\n",
    "            f_list = []\n",
    "            for each_frag in frag:\n",
    "                new_pair = pt_pair(each_frag)\n",
    "                f_list.append(new_pair)\n",
    "            col_list.append(f_list)\n",
    "        im_list.append(col_list)\n",
    "    pair_pt[i] = im_list"
   ]
  },
  {
   "cell_type": "code",
   "execution_count": 34,
   "metadata": {},
   "outputs": [],
   "source": [
    "def cv2_circle_array(img, co, size, color, r):\n",
    "    for i in range(len(co)):\n",
    "        img = cv2.circle(img, co[i], 10, (0,100,0), -1)\n",
    "    return img"
   ]
  },
  {
   "cell_type": "markdown",
   "metadata": {},
   "source": [
    "cnum = 0\n",
    "new_img = np.zeros((cam_list[0].img.shape[0],cam_list[0].img.shape[1]),dtype=np.bool8)\n",
    "copy_img = np.copy(cam_list[cnum].img)\n",
    "for j in range(len(cam_list[cnum].frag_list)):\n",
    "    for i in range(len(cam_list[cnum].frag_list[j])):\n",
    "        curve = cam_list[cnum].frag_list[j][i][~np.isnan(cam_list[cnum].frag_list[j][i])].reshape((-1,2)).astype(int)\n",
    "        if i == 6:\n",
    "            img = cv2_circle_array(copy_img, curve, 10, (0,0,255), -1)\n",
    "        #new_img[curve[:,1],curve[:,0]]=True\n",
    "            break\n",
    "    break"
   ]
  },
  {
   "cell_type": "markdown",
   "metadata": {},
   "source": [
    "%matplotlib inline\n",
    "fig = plt.figure(figsize = (20, 20))\n",
    "fig.patch.set_alpha(0.)\n",
    "# 3DAxesを追加\n",
    "ax = fig.add_subplot(111)\n",
    "plt.imshow(img)"
   ]
  },
  {
   "cell_type": "markdown",
   "metadata": {},
   "source": [
    "cnum = 1\n",
    "new_img = np.zeros((cam_list[0].img.shape[0],cam_list[0].img.shape[1]),dtype=np.bool8)\n",
    "copy_img = np.copy(cam_list[cnum].img)\n",
    "for j in range(len(cam_list[cnum].frag_list)):\n",
    "    for i in range(len(cam_list[cnum].frag_list[j])):\n",
    "        curve = cam_list[cnum].frag_list[j][i][~np.isnan(cam_list[cnum].frag_list[j][i])].reshape((-1,2)).astype(int)\n",
    "        if i == 27:\n",
    "            img = cv2_circle_array(copy_img, curve, 10, (0,0,255), -1)\n",
    "        #new_img[curve[:,1],curve[:,0]]=True\n",
    "            break\n",
    "    break"
   ]
  },
  {
   "cell_type": "markdown",
   "metadata": {},
   "source": [
    "%matplotlib inline\n",
    "fig = plt.figure(figsize = (20, 20))\n",
    "fig.patch.set_alpha(0.)\n",
    "# 3DAxesを追加\n",
    "ax = fig.add_subplot(111)\n",
    "\n",
    "plt.imshow(img)#new_img)"
   ]
  },
  {
   "cell_type": "code",
   "execution_count": 31,
   "metadata": {},
   "outputs": [],
   "source": [
    "# 座標でdictを作る\n",
    "coordinate_dict = {}\n",
    "for i in pair_list:\n",
    "    pair_coordinate = []\n",
    "    part, counterpart = FR_frags(i, cam_list=cam_list)\n",
    "    for part_col, cpart_col, pair_col, PtPair_col in zip(part, counterpart, pair_list[i], pair_pt[i]):\n",
    "        col_list = []\n",
    "        for part_frag, pair, pt_idx in zip(part_col, pair_col, PtPair_col):\n",
    "            for each_pair, each_pt_idx in zip(pair, pt_idx):\n",
    "                if each_pt_idx[0].size != 0:\n",
    "                    col_list.append((np.array([part_frag[each_pt_idx[0]], cpart_col[each_pair][each_pt_idx[1]]])))\n",
    "        pair_coordinate.append(col_list)\n",
    "    coordinate_dict[i] = pair_coordinate"
   ]
  },
  {
   "cell_type": "code",
   "execution_count": 37,
   "metadata": {},
   "outputs": [],
   "source": [
    "def connect_points(pts_list):\n",
    "    sep_list = []\n",
    "    root = np.transpose(pts_list[0], (1, 0, 2))\n",
    "    length = len(root)-1\n",
    "    sep_list.append(length)\n",
    "    for i, pt in enumerate(pts_list):\n",
    "        pt = np.transpose(pt, (1, 0, 2))\n",
    "        if i == 0:\n",
    "            continue\n",
    "        root = np.concatenate([root, pt], 0)\n",
    "        length += len(pt)\n",
    "        sep_list.append(length)\n",
    "    return root, sep_list\n",
    "\n",
    "def sep_array(tri_pts, sep_list):\n",
    "    # 一つの輪郭に対し削除リストから削除\n",
    "    start = 0\n",
    "    newArray = []\n",
    "    for d in sep_list:\n",
    "        if tri_pts[start:d].size != 0:\n",
    "            newArray.append(tri_pts[start:d])\n",
    "        start = d\n",
    "\n",
    "    if tri_pts[start:].size != 0:\n",
    "        newArray.append(tri_pts[start:])\n",
    "    return newArray"
   ]
  },
  {
   "cell_type": "markdown",
   "metadata": {},
   "source": [
    "TDlines = []\n",
    "for i, j in enumerate(coordinate_dict):\n",
    "    \n",
    "    pts = coordinate_dict[j]\n",
    "    P1_ori, P2_ori, F_ori = FR_check(j)\n",
    "    #pt, sep_list = connect_points(pts)\n",
    "    temp_TDlines = []\n",
    "    for pt in pts:\n",
    "        pt = np.transpose(pt, (1, 0, 2))\n",
    "        F = np.broadcast_to(F_ori, (pt.shape[0],3,3))\n",
    "        P1 = np.broadcast_to(P1_ori, (pt.shape[0],3,4))\n",
    "        P2 = np.broadcast_to(P2_ori, (pt.shape[0],3,4))\n",
    "        newcoords= np.array(list(map(min_dist, F, pt[:,1,:], pt[:,0,:])))\n",
    "        tri_pt = np.array(list(map(tri, P1, P2, newcoords[:,1,:], newcoords[:,0,:])))\n",
    "        #pts_array = sep_array(tri_pt, sep_list)\n",
    "        temp_TDlines.append(tri_pt)\n",
    "    TDlines.append(temp_TDlines)\n",
    "    print((i+1)/len(coordinate_dict)*100)\n",
    "    break"
   ]
  },
  {
   "cell_type": "code",
   "execution_count": 41,
   "metadata": {
    "scrolled": true
   },
   "outputs": [
    {
     "name": "stdout",
     "output_type": "stream",
     "text": [
      "0.3787878787878788\n",
      "0.7575757575757576\n",
      "1.1363636363636365\n",
      "1.5151515151515151\n",
      "1.893939393939394\n",
      "2.272727272727273\n",
      "2.6515151515151514\n",
      "3.0303030303030303\n",
      "3.4090909090909087\n",
      "3.787878787878788\n",
      "4.166666666666666\n",
      "4.545454545454546\n",
      "4.924242424242424\n",
      "5.303030303030303\n",
      "5.681818181818182\n",
      "6.0606060606060606\n",
      "6.4393939393939394\n",
      "6.8181818181818175\n",
      "7.196969696969697\n",
      "7.575757575757576\n",
      "7.954545454545454\n",
      "8.333333333333332\n",
      "8.712121212121213\n",
      "9.090909090909092\n",
      "9.469696969696969\n",
      "9.848484848484848\n",
      "10.227272727272728\n",
      "10.606060606060606\n",
      "10.984848484848484\n",
      "11.363636363636363\n",
      "11.742424242424242\n",
      "12.121212121212121\n",
      "12.5\n",
      "12.878787878787879\n",
      "13.257575757575758\n",
      "13.636363636363635\n",
      "14.015151515151514\n",
      "14.393939393939394\n",
      "14.772727272727273\n",
      "15.151515151515152\n",
      "15.530303030303031\n",
      "15.909090909090908\n",
      "16.28787878787879\n",
      "16.666666666666664\n",
      "17.045454545454543\n",
      "17.424242424242426\n",
      "17.803030303030305\n",
      "18.181818181818183\n",
      "18.560606060606062\n",
      "18.939393939393938\n",
      "19.318181818181817\n",
      "19.696969696969695\n",
      "20.075757575757574\n",
      "20.454545454545457\n",
      "20.833333333333336\n",
      "21.21212121212121\n",
      "21.59090909090909\n",
      "21.96969696969697\n",
      "22.348484848484848\n",
      "22.727272727272727\n",
      "23.106060606060606\n",
      "23.484848484848484\n",
      "23.863636363636363\n",
      "24.242424242424242\n",
      "24.62121212121212\n",
      "25.0\n",
      "25.37878787878788\n",
      "25.757575757575758\n",
      "26.136363636363637\n",
      "26.515151515151516\n",
      "26.89393939393939\n",
      "27.27272727272727\n",
      "27.65151515151515\n",
      "28.030303030303028\n",
      "28.40909090909091\n",
      "28.78787878787879\n",
      "29.166666666666668\n",
      "29.545454545454547\n",
      "29.924242424242426\n",
      "30.303030303030305\n",
      "30.681818181818183\n",
      "31.060606060606062\n",
      "31.439393939393938\n",
      "31.818181818181817\n",
      "32.196969696969695\n",
      "32.57575757575758\n",
      "32.95454545454545\n",
      "33.33333333333333\n",
      "33.71212121212121\n",
      "34.090909090909086\n",
      "34.46969696969697\n",
      "34.84848484848485\n",
      "35.22727272727273\n",
      "35.60606060606061\n",
      "35.984848484848484\n",
      "36.36363636363637\n",
      "36.74242424242424\n",
      "37.121212121212125\n",
      "37.5\n",
      "37.878787878787875\n",
      "38.25757575757576\n",
      "38.63636363636363\n",
      "39.015151515151516\n",
      "39.39393939393939\n",
      "39.77272727272727\n",
      "40.15151515151515\n",
      "40.53030303030303\n",
      "40.909090909090914\n",
      "41.28787878787879\n",
      "41.66666666666667\n",
      "42.04545454545455\n",
      "42.42424242424242\n",
      "42.803030303030305\n",
      "43.18181818181818\n",
      "43.56060606060606\n",
      "43.93939393939394\n",
      "44.31818181818182\n",
      "44.696969696969695\n",
      "45.07575757575758\n",
      "45.45454545454545\n",
      "45.83333333333333\n",
      "46.21212121212121\n",
      "46.590909090909086\n",
      "46.96969696969697\n",
      "47.34848484848485\n",
      "47.72727272727273\n",
      "48.10606060606061\n",
      "48.484848484848484\n",
      "48.86363636363637\n",
      "49.24242424242424\n",
      "49.621212121212125\n",
      "50.0\n",
      "50.378787878787875\n",
      "50.75757575757576\n",
      "51.13636363636363\n",
      "51.515151515151516\n",
      "51.89393939393939\n",
      "52.27272727272727\n",
      "52.65151515151515\n",
      "53.03030303030303\n",
      "53.40909090909091\n",
      "53.78787878787878\n",
      "54.166666666666664\n",
      "54.54545454545454\n",
      "54.92424242424242\n",
      "55.3030303030303\n",
      "55.68181818181818\n",
      "56.060606060606055\n",
      "56.439393939393945\n",
      "56.81818181818182\n",
      "57.1969696969697\n",
      "57.57575757575758\n",
      "57.95454545454546\n",
      "58.333333333333336\n",
      "58.71212121212122\n",
      "59.09090909090909\n",
      "59.46969696969697\n",
      "59.84848484848485\n",
      "60.22727272727273\n",
      "60.60606060606061\n",
      "60.984848484848484\n",
      "61.36363636363637\n",
      "61.74242424242424\n",
      "62.121212121212125\n",
      "62.5\n",
      "62.878787878787875\n",
      "63.25757575757576\n",
      "63.63636363636363\n",
      "64.01515151515152\n",
      "64.39393939393939\n",
      "64.77272727272727\n",
      "65.15151515151516\n",
      "65.53030303030303\n",
      "65.9090909090909\n",
      "66.28787878787878\n",
      "66.66666666666666\n",
      "67.04545454545455\n",
      "67.42424242424242\n",
      "67.8030303030303\n",
      "68.18181818181817\n",
      "68.56060606060606\n",
      "68.93939393939394\n",
      "69.31818181818183\n",
      "69.6969696969697\n",
      "70.07575757575758\n",
      "70.45454545454545\n",
      "70.83333333333334\n",
      "71.21212121212122\n",
      "71.5909090909091\n",
      "71.96969696969697\n",
      "72.34848484848484\n",
      "72.72727272727273\n",
      "73.10606060606061\n",
      "73.48484848484848\n",
      "73.86363636363636\n",
      "74.24242424242425\n",
      "74.62121212121212\n",
      "75.0\n",
      "75.37878787878788\n",
      "75.75757575757575\n",
      "76.13636363636364\n",
      "76.51515151515152\n",
      "76.89393939393939\n",
      "77.27272727272727\n",
      "77.65151515151516\n",
      "78.03030303030303\n",
      "78.4090909090909\n",
      "78.78787878787878\n",
      "79.16666666666666\n",
      "79.54545454545455\n",
      "79.92424242424242\n",
      "80.3030303030303\n",
      "80.68181818181817\n",
      "81.06060606060606\n",
      "81.43939393939394\n",
      "81.81818181818183\n",
      "82.1969696969697\n",
      "82.57575757575758\n",
      "82.95454545454545\n",
      "83.33333333333334\n",
      "83.71212121212122\n",
      "84.0909090909091\n",
      "84.46969696969697\n",
      "84.84848484848484\n",
      "85.22727272727273\n",
      "85.60606060606061\n",
      "85.98484848484848\n",
      "86.36363636363636\n",
      "86.74242424242425\n",
      "87.12121212121212\n",
      "87.5\n",
      "87.87878787878788\n",
      "88.25757575757575\n",
      "88.63636363636364\n",
      "89.01515151515152\n",
      "89.39393939393939\n",
      "89.77272727272727\n",
      "90.15151515151516\n",
      "90.53030303030303\n",
      "90.9090909090909\n",
      "91.28787878787878\n",
      "91.66666666666666\n",
      "92.04545454545455\n",
      "92.42424242424242\n",
      "92.8030303030303\n",
      "93.18181818181817\n",
      "93.56060606060606\n",
      "93.93939393939394\n",
      "94.31818181818183\n",
      "94.6969696969697\n",
      "95.07575757575758\n",
      "95.45454545454545\n",
      "95.83333333333334\n",
      "96.21212121212122\n",
      "96.5909090909091\n",
      "96.96969696969697\n",
      "97.34848484848484\n",
      "97.72727272727273\n",
      "98.10606060606061\n",
      "98.48484848484848\n",
      "98.86363636363636\n",
      "99.24242424242425\n",
      "99.62121212121212\n",
      "100.0\n"
     ]
    }
   ],
   "source": [
    "TDlines = {}\n",
    "for i, j in enumerate(coordinate_dict):\n",
    "    \n",
    "    pts = coordinate_dict[j]\n",
    "    P1_ori, P2_ori, F_ori = FR_check(j, cam_list=cam_list, cam_pairs_F=cam_pairs_F)\n",
    "    #pt, sep_list = connect_points(pts)\n",
    "    temp_TDlines = []\n",
    "    for pts_col in pts:\n",
    "        col_list = []\n",
    "        for pt in pts_col:\n",
    "            pt = np.transpose(pt, (1, 0, 2))\n",
    "            F = np.broadcast_to(F_ori, (pt.shape[0],3,3))\n",
    "            P1 = np.broadcast_to(P1_ori, (pt.shape[0],3,4))\n",
    "            P2 = np.broadcast_to(P2_ori, (pt.shape[0],3,4))\n",
    "            newcoords= np.array(list(map(min_dist, F, pt[:,1,:], pt[:,0,:])))\n",
    "            tri_pt = np.array(list(map(tri, P1, P2, newcoords[:,1,:], newcoords[:,0,:])))\n",
    "            #pts_array = sep_array(tri_pt, sep_list)\n",
    "            col_list.append(tri_pt)\n",
    "        temp_TDlines.append(col_list)\n",
    "    TDlines[j] = temp_TDlines\n",
    "    print((i+1)/len(coordinate_dict)*100)\n"
   ]
  },
  {
   "cell_type": "code",
   "execution_count": 51,
   "metadata": {},
   "outputs": [],
   "source": [
    "reprojection_dict = {}\n",
    "for tag in TDlines:\n",
    "    temp_reprojection_dict = {}\n",
    "    P_dict = excluded_Parray(tag[0], cam_list=cam_list)\n",
    "    for P_tag in P_dict:\n",
    "        P = P_dict[P_tag]\n",
    "        P_list = []\n",
    "        for col in TDlines[tag]:\n",
    "            col_list = []\n",
    "            for i, frag in enumerate(col):\n",
    "                frag = frag.reshape((-1,3))\n",
    "                frag = np.concatenate([frag, np.ones(len(frag)).reshape((len(frag), 1))],1) # 末尾に1を追加 (X, Y, Z, 1)\n",
    "                reprojection = dot_P_frag(P, frag)\n",
    "                col_list.append(reprojection)\n",
    "            P_list.append(col_list)\n",
    "        temp_reprojection_dict[P_tag] = P_list\n",
    "    reprojection_dict[tag] = temp_reprojection_dict"
   ]
  },
  {
   "cell_type": "code",
   "execution_count": 53,
   "metadata": {
    "scrolled": true
   },
   "outputs": [
    {
     "name": "stderr",
     "output_type": "stream",
     "text": [
      "/Users/noshita/working_dir/curve_sketch/src/curve_based_reconstruction.py:215: VisibleDeprecationWarning: Creating an ndarray from ragged nested sequences (which is a list-or-tuple of lists-or-tuples-or ndarrays with different lengths or shapes) is deprecated. If you meant to do this, you must specify 'dtype=object' when creating the ndarray.\n"
     ]
    }
   ],
   "source": [
    "support_dict = gen_support_dict(reprojection_dict, cam_list=cam_list)"
   ]
  },
  {
   "cell_type": "code",
   "execution_count": 54,
   "metadata": {},
   "outputs": [],
   "source": [
    "sup_th = 10# サポート数\n",
    "curve_fragment = []\n",
    "for tag in TDlines:\n",
    "    #if tag[1] == \"R\":\n",
    "    #    continue\n",
    "    lines_list = TDlines[tag]\n",
    "    support_list, support_ac = support_dict[tag][0], support_dict[tag][1]\n",
    "    tag_list = []\n",
    "    for col, sup_col, ac_col in zip(lines_list, support_list, support_ac):\n",
    "        col_curve_fragment = []\n",
    "        for frag, sup, sup_ac in zip(col, sup_col, ac_col):\n",
    "            if sup > 11:\n",
    "                frag = np.reshape(frag,(-1, 3))\n",
    "                frag = np.array([i for i,j in zip(frag, sup_ac >sup_th) if j])\n",
    "                col_curve_fragment.append(frag)\n",
    "        tag_list.append(col_curve_fragment)\n",
    "    curve_fragment.append(tag_list)"
   ]
  },
  {
   "cell_type": "code",
   "execution_count": 55,
   "metadata": {},
   "outputs": [],
   "source": [
    "cfs = [[],[],[],[],[],[],[],[],[]]\n",
    "for cols in curve_fragment:\n",
    "    for i in range(len(cols)):\n",
    "        if i == 0:\n",
    "            cfs[0] += cols[i]\n",
    "        if i == 1:\n",
    "            cfs[1] += cols[i]\n",
    "        if i == 2:\n",
    "            cfs[2] += cols[i]\n",
    "        if i == 3:\n",
    "            cfs[3] += cols[i]\n",
    "        if i == 4:\n",
    "            cfs[4] += cols[i]\n",
    "        if i == 5:\n",
    "            cfs[5] += cols[i]\n",
    "        if i == 6:\n",
    "            cfs[6] += cols[i]\n",
    "        if i == 7:\n",
    "            cfs[7] += cols[i]\n",
    "        if i == 8:\n",
    "            cfs[8] += cols[i]"
   ]
  },
  {
   "cell_type": "code",
   "execution_count": 59,
   "metadata": {},
   "outputs": [],
   "source": [
    "from scipy import interpolate\n",
    "import numpy as np\n",
    "import matplotlib.pyplot as plt\n",
    "from matplotlib.animation import FuncAnimation\n",
    "from mpl_toolkits.mplot3d import Axes3D\n",
    "# %matplotlib notebook\n",
    "\n",
    "def plot_graph():\n",
    "    color_arr = np.array([[255,0,0],[0,255,0],[0,0,255],\n",
    "                             [255,255,0],[255,0,255],[0,255,255],\n",
    "                             [127,127,127],[127,0,127],[0,127,127]],dtype = np.int16)\n",
    "    j = 0\n",
    "    for i in range(len(cfs)):\n",
    "        for frag in cfs[i]:\n",
    "            if frag.size == 0:\n",
    "                continue\n",
    "            #print(frag)\n",
    "            \n",
    "            \n",
    "            x = frag[:,0]\n",
    "            y = frag[:,1]\n",
    "            z = frag[:,2]\n",
    "            data = [x,y,z]\n",
    "            try:\n",
    "                tck, u= interpolate.splprep(data, k=3)\n",
    "            except ValueError:\n",
    "                pass\n",
    "            except TypeError:\n",
    "                pass\n",
    "            new = interpolate.splev(u, tck, der=0)\n",
    "            c = color_arr[i]/255\n",
    "            if j % 100 == 0:\n",
    "                ax.plot(new[0], new[2], new[1],\"-\",color=c)\n",
    "            \n",
    "            j+=1\n"
   ]
  },
  {
   "cell_type": "code",
   "execution_count": 61,
   "metadata": {},
   "outputs": [],
   "source": [
    "%matplotlib inline"
   ]
  },
  {
   "cell_type": "code",
   "execution_count": 62,
   "metadata": {},
   "outputs": [
    {
     "data": {
      "image/png": "[encoded data removed]",
      "text/plain": [
       "<Figure size 864x864 with 1 Axes>"
      ]
     },
     "metadata": {
      "needs_background": "light"
     },
     "output_type": "display_data"
    }
   ],
   "source": [
    "fig = plt.figure(figsize = (12, 12))\n",
    "fig.patch.set_alpha(0.)\n",
    "# 3DAxesを追加\n",
    "ax = fig.add_subplot(111, projection='3d')\n",
    "\n",
    "# 軸ラベルを設定\n",
    "ax.set_xlabel(\"x\", size = 14)\n",
    "ax.set_ylabel(\"z\", size = 14)\n",
    "ax.set_zlabel(\"y\", size = 14)\n",
    "ax.set_box_aspect((1,1,1))\n",
    "#ax.set_xticks(np.arange(-4,4,1))\n",
    "#ax.set_yticks(np.arange(-4,4,1))\n",
    "#ax.set_zticks(np.arange(-2,9,1))\n",
    "\n",
    "plot_graph()"
   ]
  },
  {
   "cell_type": "code",
   "execution_count": null,
   "metadata": {},
   "outputs": [],
   "source": [
    "import itertools\n",
    "\n",
    "import open3d as o3d"
   ]
  },
  {
   "cell_type": "markdown",
   "metadata": {},
   "source": [
    "flatten_curve_frag = np.array(list(itertools.chain.from_iterable(_curve_fragment)))\n",
    "pcd = o3d.geometry.PointCloud()\n",
    "pcd.points = o3d.utility.Vector3dVector(flatten_curve_frag)"
   ]
  },
  {
   "cell_type": "markdown",
   "metadata": {},
   "source": [
    "o3d.visualization.draw_geometries([pcd])"
   ]
  },
  {
   "cell_type": "markdown",
   "metadata": {},
   "source": [
    "from scipy import interpolate\n",
    "import numpy as np\n",
    "import matplotlib.pyplot as plt\n",
    "from matplotlib.animation import FuncAnimation\n",
    "from mpl_toolkits.mplot3d import Axes3D\n",
    "%matplotlib notebook\n",
    "\n",
    "fig = plt.figure(figsize = (12, 12))\n",
    "fig.patch.set_alpha(0.)\n",
    "# 3DAxesを追加\n",
    "ax = fig.add_subplot(111, projection='3d')\n",
    "\n",
    "# 軸ラベルを設定\n",
    "ax.set_xlabel(\"x\", size = 14)\n",
    "ax.set_ylabel(\"z\", size = 14)\n",
    "ax.set_zlabel(\"y\", size = 14)\n",
    "ax.set_box_aspect((1,1,1))\n",
    "\n",
    "def plot_graph():\n",
    "    i = 0\n",
    "    for c_f in curve_fragment:\n",
    "        for frag in c_f:\n",
    "            if frag.size == 0:\n",
    "                continue\n",
    "            #print(frag)\n",
    "            \n",
    "            if i%100 == 0:\n",
    "                x = frag[:,0]\n",
    "                y = frag[:,1]\n",
    "                z = frag[:,2]\n",
    "                data = [x,y,z]\n",
    "                try:\n",
    "                    tck, u= interpolate.splprep(data, k=3)\n",
    "                except ValueError:\n",
    "                    pass\n",
    "                except TypeError:\n",
    "                    pass\n",
    "                new = interpolate.splev(u, tck, der=0)\n",
    "\n",
    "                ax.plot(new[0], new[2], new[1],\"-\")\n",
    "                    #ax.plot(x, z, y,\"-\")\n",
    "            i += 1\n",
    "\n",
    "def plt_graph3d(angle):\n",
    "    ax.view_init(azim=angle*5)\n",
    "    \n",
    "# アニメーションを作成\n",
    "ani = FuncAnimation(\n",
    "    fig,\n",
    "    func=plt_graph3d,\n",
    "    frames=72,\n",
    "    init_func=plot_graph,\n",
    "    interval=200\n",
    ")\n",
    "\n",
    "# imagemagickで作成したアニメーションをGIFで書き出す\n",
    "ani.save(\"48_rolling.gif\", writer=\"pillow\", savefig_kwargs={'transparent': True, 'facecolor': 'none'})\n",
    "#ani.save('48_anim.mp4', writer=\"ffmpeg\", savefig_kwargs={'transparent': True, 'facecolor': 'none'})"
   ]
  },
  {
   "cell_type": "code",
   "execution_count": 49,
   "metadata": {},
   "outputs": [],
   "source": [
    "import pickle\n",
    "with open(\"one_hole_leaf.curves\",\"wb\") as f:\n",
    "    pickle.dump(curve_fragment, f)"
   ]
  },
  {
   "cell_type": "code",
   "execution_count": null,
   "metadata": {},
   "outputs": [],
   "source": []
  }
 ],
 "metadata": {
  "kernelspec": {
   "display_name": "Python 3 (ipykernel)",
   "language": "python",
   "name": "python3"
  },
  "language_info": {
   "codemirror_mode": {
    "name": "ipython",
    "version": 3
   },
   "file_extension": ".py",
   "mimetype": "text/x-python",
   "name": "python",
   "nbconvert_exporter": "python",
   "pygments_lexer": "ipython3",
   "version": "3.9.9"
  }
 },
 "nbformat": 4,
 "nbformat_minor": 4
}
