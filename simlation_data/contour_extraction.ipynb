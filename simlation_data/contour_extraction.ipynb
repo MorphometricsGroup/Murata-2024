{
 "cells": [
  {
   "cell_type": "code",
   "execution_count": null,
   "metadata": {
    "code_folding": []
   },
   "outputs": [],
   "source": [
    "import sys, os\n",
    "import pathlib\n",
    "import time\n",
    "import importlib\n",
    "import joblib\n",
    "import pickle\n",
    "from tqdm import tqdm\n",
    "\n",
    "import numpy as np\n",
    "\n",
    "from scipy.linalg import null_space\n",
    "from scipy.sparse import csr_matrix\n",
    "\n",
    "import matplotlib.pyplot as plt\n",
    "\n",
    "import cv2"
   ]
  },
  {
   "cell_type": "code",
   "execution_count": null,
   "metadata": {},
   "outputs": [],
   "source": [
    "sys.path"
   ]
  },
  {
   "cell_type": "code",
   "execution_count": null,
   "metadata": {},
   "outputs": [],
   "source": [
    "%load_ext autoreload\n",
    "%autoreload 2\n",
    "\n",
    "if not os.path.abspath(\"../\") in sys.path:\n",
    "    sys.path.append(os.path.abspath(\"../\"))\n",
    "    sys.path.append(os.path.abspath(\"../src\"))\n",
    "\n",
    "from src import normalization\n",
    "from src import Camera, metashape_Camera\n",
    "from src import camera_correspondence, FF_mat, epipole_angle, pair_and_key_gen, coll_dict_gen, pair_pt_gen\n",
    "from src import FR_check, coordinate_dict_gen\n",
    "from src import min_dist, tri, TDlines_gen, reprojection_gen, gen_support_dict, gen_support\n",
    "from src import all_D, frag_list_fraged, all_sep"
   ]
  },
  {
   "cell_type": "markdown",
   "metadata": {},
   "source": [
    "## パイプライン"
   ]
  },
  {
   "cell_type": "code",
   "execution_count": null,
   "metadata": {},
   "outputs": [],
   "source": [
    "cam_list = [Camera(i) for i in range(112)]\n",
    "for i in range(len(cam_list)):\n",
    "    cam_list[i].img_load(\"images/quantitative/3\")\n",
    "    cam_list[i].contour_extraction()\n",
    "    cam_list[i].para_load(\"view_mats/view_mat_112/{}.csv\".format(str(i)))\n"
   ]
  },
  {
   "cell_type": "code",
   "execution_count": null,
   "metadata": {},
   "outputs": [],
   "source": [
    "kernel = np.ones((3,3),np.uint8)\n",
    "\n",
    "for cnum in range(len(cam_list)):\n",
    "    sparse_mats_list = []\n",
    "    for j in range(len(cam_list[cnum].contour_list)):\n",
    "        new_img = np.zeros((cam_list[0].img.shape[0],cam_list[0].img.shape[1]),dtype=np.uint8)\n",
    "        for i in range(len(cam_list[cnum].contour_list[j])):\n",
    "            curve = cam_list[cnum].contour_list[j][i][~np.isnan(cam_list[cnum].contour_list[j][i])].reshape((-1,2)).astype(int)\n",
    "            new_img[curve[:,1],curve[:,0]]=True\n",
    "        dilation = cv2.dilate(new_img, kernel, iterations = 10)\n",
    "        new_img = csr_matrix(dilation, dtype=np.uint8)\n",
    "        sparse_mats_list.append(new_img)\n",
    "        \n",
    "    cam_list[cnum].contour_img = sparse_mats_list"
   ]
  },
  {
   "cell_type": "code",
   "execution_count": null,
   "metadata": {},
   "outputs": [],
   "source": [
    "# エピポール取得\n",
    "cam_pairs = camera_correspondence(cam_list,angle_upper=20 / 180 * np.pi)\n",
    "\n",
    "epipole_dict = {i:[] for i in range(len(cam_list))}\n",
    "cam_pairs_F = {}\n",
    "for i in cam_pairs:\n",
    "    epipole1, epipole2, F = FF_mat(cam_list[i[0]].A, cam_list[i[1]].A, cam_list[i[0]].Rt, cam_list[i[1]].Rt)\n",
    "    epipole_dict[i[0]].append(normalization(epipole1))\n",
    "    epipole_dict[i[1]].append(normalization(epipole2))\n",
    "    cam_pairs_F[i] = F\n",
    "print(len(cam_pairs))"
   ]
  },
  {
   "cell_type": "code",
   "execution_count": null,
   "metadata": {},
   "outputs": [],
   "source": [
    "# フラグメントのリストを作る\n",
    "for i in range(len(cam_list)):\n",
    "    im_del_list = all_D(epipole_angle(i, epipole_dict, cam_list=cam_list))# im_del_list[color][contour][del_idx]\n",
    "    newCon = all_sep(cam_list[i].contour_list, im_del_list)# newCon[color][fragment][coordination]\n",
    "    cam_list[i].frag_list = frag_list_fraged(newCon)\n",
    "\n",
    "del epipole_dict"
   ]
  },
  {
   "cell_type": "code",
   "execution_count": null,
   "metadata": {},
   "outputs": [],
   "source": [
    "#cnum = 4\n",
    "#new_img = np.zeros((cam_list[0].img.shape[0],cam_list[0].img.shape[1]),dtype=np.bool8)\n",
    "#\n",
    "#for j in range(len(cam_list[cnum].frag_list)):\n",
    "#    for i in range(len(cam_list[cnum].frag_list[j])):\n",
    "#        curve = cam_list[cnum].frag_list[j][i][~np.isnan(cam_list[cnum].frag_list[j][i])].reshape((-1,2)).astype(int)\n",
    "#        new_img[curve[:,1],curve[:,0]]=True"
   ]
  },
  {
   "cell_type": "code",
   "execution_count": null,
   "metadata": {},
   "outputs": [],
   "source": [
    "#%matplotlib inline\n",
    "#fig = plt.figure(figsize = (20, 20))\n",
    "#fig.patch.set_alpha(0.)\n",
    "## 3DAxesを追加\n",
    "#ax = fig.add_subplot(111)\n",
    "#plt.imshow(new_img)"
   ]
  },
  {
   "cell_type": "markdown",
   "metadata": {},
   "source": [
    "## ペア生成"
   ]
  },
  {
   "cell_type": "code",
   "execution_count": null,
   "metadata": {
    "scrolled": true
   },
   "outputs": [],
   "source": [
    "%%time\n",
    "_ = joblib.Parallel(n_jobs=-1, verbose=10)(joblib.delayed(pair_and_key_gen)(i, cam_list, cam_pairs_F) for i in cam_pairs_F)"
   ]
  },
  {
   "cell_type": "code",
   "execution_count": null,
   "metadata": {},
   "outputs": [],
   "source": [
    "temp_path = pathlib.Path(\"temp/\")\n",
    "tags_path = list(temp_path.glob(\"*.pair_list\"))\n",
    "\n",
    "tags = []\n",
    "for tag_path in tags_path:\n",
    "    tag_sp = tag_path.stem.split(\"_\")\n",
    "    tag_arr = ((int(tag_sp[0]), int(tag_sp[1])), tag_sp[2])\n",
    "    tags.append(tag_arr)"
   ]
  },
  {
   "cell_type": "code",
   "execution_count": null,
   "metadata": {
    "scrolled": true
   },
   "outputs": [],
   "source": [
    "%%time\n",
    "_ = joblib.Parallel(n_jobs=-1, verbose=10)(joblib.delayed(coll_dict_gen)(i, cam_list, cam_pairs_F) for i in tags)\n"
   ]
  },
  {
   "cell_type": "code",
   "execution_count": null,
   "metadata": {
    "scrolled": true
   },
   "outputs": [],
   "source": [
    "_ = joblib.Parallel(n_jobs=-1, verbose=10)(joblib.delayed(pair_pt_gen)(i) for i in tags)"
   ]
  },
  {
   "cell_type": "code",
   "execution_count": null,
   "metadata": {
    "scrolled": false
   },
   "outputs": [],
   "source": [
    "_ = joblib.Parallel(n_jobs=-1, verbose=10)(joblib.delayed(coordinate_dict_gen)(i, cam_list=cam_list) for i in tags)"
   ]
  },
  {
   "cell_type": "markdown",
   "metadata": {},
   "source": [
    "## 3次元再構築"
   ]
  },
  {
   "cell_type": "code",
   "execution_count": null,
   "metadata": {
    "scrolled": true
   },
   "outputs": [],
   "source": [
    "result = joblib.Parallel(n_jobs=-1,verbose=10)(joblib.delayed(TDlines_gen)(\n",
    "    tag, cam_list=cam_list, cam_pairs_F=cam_pairs_F) for tag in tags)"
   ]
  },
  {
   "cell_type": "code",
   "execution_count": null,
   "metadata": {},
   "outputs": [],
   "source": [
    "%%time\n",
    "result = joblib.Parallel(n_jobs=-1,verbose=10)(joblib.delayed(reprojection_gen)(tag, cam_list=cam_list) for tag in tags)"
   ]
  },
  {
   "cell_type": "code",
   "execution_count": null,
   "metadata": {},
   "outputs": [],
   "source": [
    "temp_path = pathlib.Path(\"temp/\")\n",
    "tags_path = list(temp_path.glob(\"*.reprojection_dict\"))\n",
    "\n",
    "tags = []\n",
    "for tag_path in tags_path:\n",
    "    tag_sp = tag_path.stem.split(\"_\")\n",
    "    tag_arr = ((int(tag_sp[0]), int(tag_sp[1])), tag_sp[2])\n",
    "    tags.append(tag_arr)"
   ]
  },
  {
   "cell_type": "code",
   "execution_count": null,
   "metadata": {
    "scrolled": true
   },
   "outputs": [],
   "source": [
    "result = joblib.Parallel(n_jobs=-1,verbose=10)(joblib.delayed(gen_support)(tag, cam_list=cam_list) for tag in tags)\n",
    "#4.1min finished"
   ]
  },
  {
   "cell_type": "code",
   "execution_count": null,
   "metadata": {},
   "outputs": [],
   "source": [
    "sup_th = 60# サポート数\n",
    "curve_fragment = []\n",
    "for tag in tags:\n",
    "    if tag[1] == \"R\":\n",
    "        continue\n",
    "    \n",
    "    with open(r\"temp/{0}_{1}_{2}.TDlines\".format(tag[0][0],tag[0][1],tag[1]), 'rb') as f:\n",
    "        lines_list = pickle.load(f)\n",
    "    #lines_list = TDlines[tag]\n",
    "        \n",
    "    with open(r\"temp/{0}_{1}_{2}.support_dict\".format(tag[0][0],tag[0][1],tag[1]), 'rb') as f:\n",
    "        support_list, support_ac = pickle.load(f)\n",
    "    #support_list, support_ac = support_dict[tag][0], support_dict[tag][1]\n",
    "    tag_list = []\n",
    "    for col, sup_col, ac_col in zip(lines_list, support_list, support_ac):\n",
    "        col_curve_fragment = []\n",
    "        for frag, sup, sup_ac in zip(col, sup_col, ac_col):\n",
    "            if sup > sup_th:\n",
    "                frag = np.reshape(frag,(-1, 3))\n",
    "                frag = np.array([i for i,j in zip(frag, sup_ac >sup_th) if j])\n",
    "                col_curve_fragment.append(frag)\n",
    "        tag_list.append(col_curve_fragment)\n",
    "    curve_fragment.append(tag_list)"
   ]
  },
  {
   "cell_type": "code",
   "execution_count": null,
   "metadata": {},
   "outputs": [],
   "source": [
    "cfs = [[],[],[],[],[],[],[],[],[]]\n",
    "for cols in curve_fragment:\n",
    "    for i in range(len(cols)):\n",
    "        if i == 0:\n",
    "            cfs[0] += cols[i]\n",
    "        if i == 1:\n",
    "            cfs[1] += cols[i]\n",
    "        if i == 2:\n",
    "            cfs[2] += cols[i]\n",
    "        if i == 3:\n",
    "            cfs[3] += cols[i]\n",
    "        if i == 4:\n",
    "            cfs[4] += cols[i]\n",
    "        if i == 5:\n",
    "            cfs[5] += cols[i]\n",
    "        if i == 6:\n",
    "            cfs[6] += cols[i]\n",
    "        if i == 7:\n",
    "            cfs[7] += cols[i]\n",
    "        if i == 8:\n",
    "            cfs[8] += cols[i]"
   ]
  },
  {
   "cell_type": "code",
   "execution_count": null,
   "metadata": {},
   "outputs": [],
   "source": [
    "from scipy import interpolate\n",
    "import numpy as np\n",
    "import matplotlib.pyplot as plt\n",
    "from matplotlib.animation import FuncAnimation\n",
    "from mpl_toolkits.mplot3d import Axes3D\n",
    "# %matplotlib notebook\n",
    "\n",
    "def plot_graph():\n",
    "    color_arr = np.array([[255,0,0],[0,255,0],[0,0,255],\n",
    "                             [255,255,0],[255,0,255],[0,255,255],\n",
    "                             [127,127,127],[127,0,127],[0,127,127]],dtype = np.int16)\n",
    "    j = 0\n",
    "    for i in range(len(cfs)):\n",
    "        for frag in cfs[i]:\n",
    "            #if i != 2:\n",
    "            #    continue\n",
    "            \n",
    "            if frag.size < 10:\n",
    "                continue\n",
    "            #print(frag)\n",
    "            \n",
    "            \n",
    "            x = frag[:,0]\n",
    "            y = frag[:,1]\n",
    "            z = frag[:,2]\n",
    "            data = [x,y,z]\n",
    "            try:\n",
    "                tck, u= interpolate.splprep(data, k=3)\n",
    "            except ValueError:\n",
    "                pass\n",
    "            except TypeError:\n",
    "                pass\n",
    "            except UnboundLocalError:\n",
    "                pass\n",
    "            new = interpolate.splev(u, tck, der=0)\n",
    "            c = color_arr[i]/255\n",
    "            if j % 100 == 0:\n",
    "                ax.plot(new[0], new[2], new[1],\"-\",color=c)\n",
    "            \n",
    "            j+=1\n"
   ]
  },
  {
   "cell_type": "code",
   "execution_count": null,
   "metadata": {},
   "outputs": [],
   "source": [
    "%matplotlib notebook"
   ]
  },
  {
   "cell_type": "code",
   "execution_count": null,
   "metadata": {
    "scrolled": false
   },
   "outputs": [],
   "source": [
    "fig = plt.figure(figsize = (12, 12))\n",
    "fig.patch.set_alpha(0.)\n",
    "# 3DAxesを追加\n",
    "ax = fig.add_subplot(111, projection='3d')\n",
    "\n",
    "# 軸ラベルを設定\n",
    "ax.set_xlabel(\"x\", size = 14)\n",
    "ax.set_ylabel(\"z\", size = 14)\n",
    "ax.set_zlabel(\"y\", size = 14)\n",
    "ax.set_box_aspect((1,1,1))\n",
    "#ax.set_xticks(np.arange(-4,4,1))\n",
    "#ax.set_yticks(np.arange(-4,4,1))\n",
    "#ax.set_zticks(np.arange(-2,9,1))\n",
    "\n",
    "plot_graph()"
   ]
  },
  {
   "cell_type": "code",
   "execution_count": null,
   "metadata": {},
   "outputs": [],
   "source": [
    "import itertools\n",
    "\n",
    "import open3d as o3d"
   ]
  },
  {
   "cell_type": "markdown",
   "metadata": {},
   "source": [
    "flatten_curve_frag = np.array(list(itertools.chain.from_iterable(_curve_fragment)))\n",
    "pcd = o3d.geometry.PointCloud()\n",
    "pcd.points = o3d.utility.Vector3dVector(flatten_curve_frag)"
   ]
  },
  {
   "cell_type": "markdown",
   "metadata": {},
   "source": [
    "o3d.visualization.draw_geometries([pcd])"
   ]
  },
  {
   "cell_type": "code",
   "execution_count": null,
   "metadata": {},
   "outputs": [],
   "source": [
    "from scipy import interpolate\n",
    "import numpy as np\n",
    "import matplotlib.pyplot as plt\n",
    "from matplotlib.animation import FuncAnimation\n",
    "from mpl_toolkits.mplot3d import Axes3D\n",
    "%matplotlib notebook\n",
    "\n",
    "fig = plt.figure(figsize = (12, 12))\n",
    "fig.patch.set_alpha(0.)\n",
    "### 3DAxesを追加\n",
    "ax = fig.add_subplot(111, projection='3d')\n",
    "\n",
    "### 軸ラベルを設定\n",
    "ax.set_xlabel(\"x\", size = 14)\n",
    "ax.set_ylabel(\"z\", size = 14)\n",
    "ax.set_zlabel(\"y\", size = 14)\n",
    "ax.set_box_aspect((1,1,1))\n",
    "\n",
    "def plot_graph():\n",
    "    i = 0\n",
    "    for c_f in curve_fragment:\n",
    "        for frag in c_f:\n",
    "            if frag.size == 0:\n",
    "                continue\n",
    "            #print(frag)\n",
    "            \n",
    "            if i%100 == 0:\n",
    "                x = frag[:,0]\n",
    "                y = frag[:,1]\n",
    "                z = frag[:,2]\n",
    "                data = [x,y,z]\n",
    "                try:\n",
    "                    tck, u= interpolate.splprep(data, k=3)\n",
    "                except ValueError:\n",
    "                    pass\n",
    "                except TypeError:\n",
    "                    pass\n",
    "                new = interpolate.splev(u, tck, der=0)\n",
    "\n",
    "                ax.plot(new[0], new[2], new[1],\"-\")\n",
    "                    #ax.plot(x, z, y,\"-\")\n",
    "            i += 1\n",
    "\n",
    "def plt_graph3d(angle):\n",
    "    ax.view_init(azim=angle*5)\n",
    "    \n",
    "### アニメーションを作成\n",
    "ani = FuncAnimation(\n",
    "    fig,\n",
    "    func=plt_graph3d,\n",
    "    frames=72,\n",
    "    init_func=plot_graph,\n",
    "    interval=200\n",
    ")\n",
    "\n",
    "### imagemagickで作成したアニメーションをGIFで書き出す\n",
    "ani.save(\"48_rolling.gif\", writer=\"pillow\", savefig_kwargs={'transparent': True, 'facecolor': 'none'})\n",
    "#ani.save('48_anim.mp4', writer=\"ffmpeg\", savefig_kwargs={'transparent': True, 'facecolor': 'none'})"
   ]
  },
  {
   "cell_type": "code",
   "execution_count": null,
   "metadata": {},
   "outputs": [],
   "source": [
    "import pickle\n",
    "with open(\"q_3.curves\",\"wb\") as f:\n",
    "    pickle.dump(curve_fragment, f)"
   ]
  },
  {
   "cell_type": "code",
   "execution_count": null,
   "metadata": {},
   "outputs": [],
   "source": []
  }
 ],
 "metadata": {
  "kernelspec": {
   "display_name": "Python 3 (ipykernel)",
   "language": "python",
   "name": "python3"
  },
  "language_info": {
   "codemirror_mode": {
    "name": "ipython",
    "version": 3
   },
   "file_extension": ".py",
   "mimetype": "text/x-python",
   "name": "python",
   "nbconvert_exporter": "python",
   "pygments_lexer": "ipython3",
   "version": "3.7.13"
  },
  "vscode": {
   "interpreter": {
    "hash": "8baeaee9d41a9ede74577397e936a2336300ab3dde63496ecc21a0a5b3548eb3"
   }
  }
 },
 "nbformat": 4,
 "nbformat_minor": 4
}
