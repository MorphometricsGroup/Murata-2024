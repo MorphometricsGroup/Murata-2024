{
 "cells": [
  {
   "cell_type": "code",
   "execution_count": 2,
   "id": "5d7783ea",
   "metadata": {},
   "outputs": [],
   "source": [
    "import pickle\n",
    "import itertools\n",
    "import open3d as o3d\n",
    "import numpy as np"
   ]
  },
  {
   "cell_type": "code",
   "execution_count": 3,
   "id": "60bf8d3c",
   "metadata": {},
   "outputs": [],
   "source": [
    "with open(\"48_args.curves\", \"rb\") as pickle_file:\n",
    "    curve_fragment = pickle.load(pickle_file)"
   ]
  },
  {
   "cell_type": "code",
   "execution_count": 4,
   "id": "a296e40d",
   "metadata": {},
   "outputs": [],
   "source": [
    "mesh = o3d.io.read_triangle_mesh(\"plant3.ply\")\n",
    "edges = mesh.get_non_manifold_edges(allow_boundary_edges=False)"
   ]
  },
  {
   "cell_type": "code",
   "execution_count": 5,
   "id": "5166c85b",
   "metadata": {},
   "outputs": [],
   "source": [
    "def edges_to_lineset(mesh, edges, color):\n",
    "    ls = o3d.geometry.LineSet()\n",
    "    ls.points = mesh.vertices\n",
    "    ls.lines = edges\n",
    "    colors = np.empty((np.asarray(edges).shape[0], 3))\n",
    "    colors[:] = color\n",
    "    ls.colors = o3d.utility.Vector3dVector(colors)\n",
    "    return ls"
   ]
  },
  {
   "cell_type": "code",
   "execution_count": 6,
   "id": "6c141f1c",
   "metadata": {},
   "outputs": [],
   "source": [
    "def rotation_mat(angle):\n",
    "    Rx = np.array([[1,0,0],\n",
    "                 [0, np.cos(angle[0]), -np.sin(angle[0])],\n",
    "                 [0, np.sin(angle[0]), np.cos(angle[0])]])\n",
    "\n",
    "    Ry = np.array([[np.cos(angle[1]), 0, np.sin(angle[1])],\n",
    "                 [0,1,0],\n",
    "                 [-np.sin(angle[1]), 0, np.cos(angle[1])]])\n",
    "\n",
    "    Rz = np.array([[np.cos(angle[2]), -np.sin(angle[2]), 0],\n",
    "                 [np.sin(angle[2]), np.cos(angle[2]), 0],\n",
    "                 [0,0,1]])\n",
    "    return Rz@Rx@Ry\n"
   ]
  },
  {
   "cell_type": "code",
   "execution_count": 50,
   "id": "9d9251e5",
   "metadata": {},
   "outputs": [],
   "source": [
    "geoms = [mesh]\n",
    "geoms.append(edges_to_lineset(mesh, edges, (1, 0, 0)))"
   ]
  },
  {
   "cell_type": "code",
   "execution_count": 51,
   "id": "6318827d",
   "metadata": {},
   "outputs": [],
   "source": [
    "#o3d.visualization.draw_geometries(geoms)"
   ]
  },
  {
   "cell_type": "code",
   "execution_count": 52,
   "id": "82f27c85",
   "metadata": {},
   "outputs": [],
   "source": [
    "#angle = [np.pi/2, -np.pi/2, np.pi/2] # pcd.rotate()\n",
    "angle = [-np.pi/2, np.pi/2, np.pi/2]\n",
    "R = rotation_mat(angle)\n",
    "R_mirror = np.array([[-1,0,0],\n",
    "                    [0,1,0],\n",
    "                    [0,0,1]])"
   ]
  },
  {
   "cell_type": "code",
   "execution_count": 53,
   "id": "280541f4",
   "metadata": {},
   "outputs": [],
   "source": [
    "flatten_curve_frag = np.array(list(itertools.chain.from_iterable(curve_fragment)))\n",
    "flatten_curve_frag = (np.linalg.inv(R_mirror)@np.linalg.inv(R)@flatten_curve_frag.T).T\n",
    "\n",
    "point_num = flatten_curve_frag.shape[0]\n",
    "pcd = o3d.geometry.PointCloud()\n",
    "pcd.points = o3d.utility.Vector3dVector(flatten_curve_frag)\n",
    "pcd.colors = o3d.utility.Vector3dVector(np.repeat(np.array((0, 1, 0)).reshape(1,-1), point_num, axis=0))\n",
    "#pcd.rotate(R_mirror,(0,0,0))\n",
    "#pcd.rotate(R,(0,0,0))\n",
    "pcd.scale(10,(0,0,0))\n",
    "geoms.append(pcd)"
   ]
  },
  {
   "cell_type": "code",
   "execution_count": 54,
   "id": "399994e9",
   "metadata": {},
   "outputs": [],
   "source": [
    "o3d.visualization.draw_geometries(geoms)"
   ]
  },
  {
   "cell_type": "code",
   "execution_count": 13,
   "id": "9c73d2c8",
   "metadata": {},
   "outputs": [
    {
     "data": {
      "text/plain": [
       "array([[-0.07272509, -0.78590161,  3.87891568],\n",
       "       [-0.07274501, -0.7773458 ,  3.87893287],\n",
       "       [-0.10040024, -0.76781375,  3.88996609],\n",
       "       ...,\n",
       "       [-0.15372069, -1.72558039,  4.63847169],\n",
       "       [-0.15419293, -1.72505646,  4.63771314],\n",
       "       [-0.1546651 , -1.72453261,  4.63695474]])"
      ]
     },
     "execution_count": 13,
     "metadata": {},
     "output_type": "execute_result"
    }
   ],
   "source": [
    "np.asarray(pcd.points)"
   ]
  },
  {
   "cell_type": "code",
   "execution_count": null,
   "id": "14388a6d",
   "metadata": {},
   "outputs": [],
   "source": []
  }
 ],
 "metadata": {
  "kernelspec": {
   "display_name": "Python 3",
   "language": "python",
   "name": "python3"
  },
  "language_info": {
   "codemirror_mode": {
    "name": "ipython",
    "version": 3
   },
   "file_extension": ".py",
   "mimetype": "text/x-python",
   "name": "python",
   "nbconvert_exporter": "python",
   "pygments_lexer": "ipython3",
   "version": "3.7.10"
  }
 },
 "nbformat": 4,
 "nbformat_minor": 5
}
