{
 "cells": [
  {
   "cell_type": "code",
   "execution_count": 4,
   "id": "792178e0",
   "metadata": {},
   "outputs": [],
   "source": [
    "import pickle\n",
    "import itertools\n",
    "import open3d as o3d\n",
    "import numpy as np\n",
    "from scipy import interpolate\n",
    "import numpy as np\n",
    "import matplotlib.pyplot as plt\n",
    "from matplotlib.animation import FuncAnimation\n",
    "from mpl_toolkits.mplot3d import Axes3D\n",
    "from scipy import interpolate\n",
    "from scipy import ndimage\n",
    "import sklearn\n",
    "from sklearn.decomposition import PCA\n",
    "import numpy as np\n",
    "from scipy.optimize import linear_sum_assignment\n",
    "from scipy.spatial.distance import cdist\n"
   ]
  },
  {
   "cell_type": "code",
   "execution_count": 5,
   "id": "9fb94d82",
   "metadata": {},
   "outputs": [],
   "source": [
    "def edges_to_lineset(mesh, edges, color):\n",
    "    ls = o3d.geometry.LineSet()\n",
    "    ls.points = mesh.vertices\n",
    "    ls.lines = edges\n",
    "    colors = np.empty((np.asarray(edges).shape[0], 3))\n",
    "    colors[:] = color\n",
    "    ls.colors = o3d.utility.Vector3dVector(colors)\n",
    "    return ls\n",
    "\n",
    "def rotation_mat(angle):\n",
    "    Rx = np.array([[1,0,0],\n",
    "                 [0, np.cos(angle[0]), -np.sin(angle[0])],\n",
    "                 [0, np.sin(angle[0]), np.cos(angle[0])]])\n",
    "\n",
    "    Ry = np.array([[np.cos(angle[1]), 0, np.sin(angle[1])],\n",
    "                 [0,1,0],\n",
    "                 [-np.sin(angle[1]), 0, np.cos(angle[1])]])\n",
    "\n",
    "    Rz = np.array([[np.cos(angle[2]), -np.sin(angle[2]), 0],\n",
    "                 [np.sin(angle[2]), np.cos(angle[2]), 0],\n",
    "                 [0,0,1]])\n",
    "    return Rz@Rx@Ry\n",
    "angle = [np.pi, np.pi, 0] # pcd.rotate()\n",
    "#angle = [-np.pi/2, np.pi/2, np.pi/2]\n",
    "R = rotation_mat(angle)\n",
    "R_mirror = np.array([[-1,0,0],\n",
    "                    [0,1,0],\n",
    "                    [0,0,1]])\n",
    "\n",
    "def get_com(mesh, edges):\n",
    "    length = 500\n",
    "    vertices = np.asarray(mesh.vertices)\n",
    "    edges = np.asarray(edges)\n",
    "\n",
    "    for i in range(len(vertices[edges])):\n",
    "        start = vertices[edges][i][0]/100\n",
    "        end = vertices[edges][i][1]/100\n",
    "\n",
    "        _com = end + np.repeat(np.arange(length+1),3).reshape((length+1,3)) * (start - end)/length\n",
    "\n",
    "        if i == 0:\n",
    "            com = np.copy(_com)\n",
    "            continue\n",
    "        com = np.concatenate([com, _com])\n",
    "    return com"
   ]
  },
  {
   "cell_type": "code",
   "execution_count": 98,
   "id": "4ac3611a",
   "metadata": {},
   "outputs": [],
   "source": [
    "def get_pts(mesh, edges, max_point_num=50000):\n",
    "    vertices = np.asarray(mesh.vertices)\n",
    "    edges = np.asarray(edges)\n",
    "    dist = 0\n",
    "    for i in range(len(vertices[edges])):\n",
    "        start = vertices[edges][i][0]\n",
    "        end = vertices[edges][i][1]\n",
    "        dist_part = np.sqrt(np.sum(np.square(start - end)))\n",
    "        dist += dist_part\n",
    "    unit_dist = dist/max_point_num\n",
    "    next_start_length = 0\n",
    "    next_start_partation = 0\n",
    "    pts_list = []\n",
    "    for i in range(len(vertices[edges])):\n",
    "        start = vertices[edges][i][0]\n",
    "        end = vertices[edges][i][1]\n",
    "        next_st_pt = start + (end - start)*next_start_partation\n",
    "        dist_part = np.sqrt(np.sum(np.square(start - end)))\n",
    "        dist_nx = np.sqrt(np.sum(np.square(next_st_pt - end)))\n",
    "        pts_num = int(dist_nx/unit_dist)+1\n",
    "        pts = next_st_pt + np.repeat(np.arange(pts_num),3).reshape((pts_num,3)) * (end - next_st_pt)/(pts_num-1)\n",
    "        end_pts = pts[-1]\n",
    "        next_start_length = pts_num*unit_dist - dist_part + next_start_length\n",
    "        next_start_partation = next_start_length/dist_part\n",
    "        pts_list.append(pts)\n",
    "\n",
    "    pts_array = np.concatenate(pts_list)\n",
    "\n",
    "    return pts_array\n",
    "\n",
    "def cal_emd(ind, s_curve_list):\n",
    "    rng = np.random.default_rng(123)\n",
    "    mesh = o3d.io.read_triangle_mesh(\"polygon/quan_e_a/{}.ply\".format(ind))\n",
    "    y_emd = []\n",
    "    x_area = []\n",
    "    for i in range(np.max(np.asarray(mesh.cluster_connected_triangles()[0]))+1):\n",
    "        mesh = o3d.io.read_triangle_mesh(\"polygon/quan_e_a/{}.ply\".format(ind))\n",
    "        mesh.triangles = o3d.utility.Vector3iVector(np.asarray(mesh.triangles)[np.asarray(mesh.cluster_connected_triangles()[0])==i])\n",
    "\n",
    "        _, _, area = mesh.cluster_connected_triangles()\n",
    "        edges = mesh.get_non_manifold_edges(allow_boundary_edges=False)\n",
    "        com = get_pts(mesh, edges)\n",
    "        emd_list = []\n",
    "        for j in range(8):\n",
    "            x1 = s_curve_list[j]\n",
    "            #x1 = x1[np.round(np.arange(500) * len(x1)/500).astype(\"int64\")]\n",
    "\n",
    "            pcd = o3d.geometry.PointCloud()\n",
    "            pcd.points = o3d.utility.Vector3dVector(x1)\n",
    "            pcd.rotate(np.linalg.inv(R),(0,0,0))\n",
    "            pcd.scale(10,(0,0,0))\n",
    "            x1 = np.asarray(pcd.points)\n",
    "            x2 = com\n",
    "            d = cdist(x1, x2)\n",
    "            assignment = linear_sum_assignment(d)\n",
    "            emd = d[assignment].sum() / x1.shape[0]\n",
    "            emd_list.append(emd)\n",
    "        emd = np.min(emd_list)\n",
    "        y_emd.append(emd)\n",
    "        x_area.append(area[0])\n",
    "    return y_emd, x_area"
   ]
  },
  {
   "cell_type": "code",
   "execution_count": 115,
   "id": "108ad961",
   "metadata": {},
   "outputs": [],
   "source": [
    "curve_list=[\n",
    "    \"curves_by/legacy/s_no_hole_leaf.curves\"\n",
    "    \"curves_by/fixed/smoothed/s_112_b20_s105_lmin40_lmax_100_o15_one_hole_leaf.curves\",\n",
    "    \"curves_by/fixed/smoothed/s_112_b20_s105_lmin40_lmax_100_o15_two_hole_leaf.curves\",\n",
    "    \"curves_by/fixed/smoothed/s_112_b20_s105_lmin40_lmax_100_o15_three_hole_leaf.curves\",\n",
    "    \"curves_by/fixed/smoothed/s_112_b20_s105_lmin40_lmax_100_o15_four_hole_leaf.curves\",\n",
    "    \"curves_by/fixed/smoothed/s_112_b20_s105_lmin40_lmax_100_o15_five_hole_leaf.curves\",\n",
    "    \"curves_by/fixed/smoothed/s_112_b20_s100_lmin40_lmax_100_o15_six_hole_leaf.curves\"\n",
    "]\n",
    "\n",
    "ply_list = [\n",
    "    \"\",\n",
    "    \"polygon/fix/hole1/one_hole_leaf.ply\",\n",
    "    \"polygon/fix/hole1/two_hole_leaf.ply\",\n",
    "    \"polygon/fix/hole1/three_hole_leaf.ply\",\n",
    "    \"polygon/fix/hole1/four_hole_leaf.ply\",\n",
    "    \"polygon/fix/hole1/five_hole_leaf.ply\",\n",
    "    \"polygon/fix/hole1/six_hole_leaf.ply\",\n",
    "]"
   ]
  },
  {
   "cell_type": "code",
   "execution_count": 116,
   "id": "d941f49f",
   "metadata": {},
   "outputs": [],
   "source": [
    "def cal_emd(hole_num):\n",
    "    with open(curve_list[hole_num], \"rb\") as pickle_file:\n",
    "        s_curve_list = pickle.load(pickle_file)\n",
    "\n",
    "    s_curve_list = s_curve_list[1:]\n",
    "\n",
    "    mesh = o3d.io.read_triangle_mesh(ply_list[hole_num])\n",
    "    mesh.scale(1/100,(0,0,0))\n",
    "    mesh.triangles = o3d.utility.Vector3iVector(np.asarray(mesh.triangles))\n",
    "    edges = mesh.get_non_manifold_edges(allow_boundary_edges=False)\n",
    "    com = get_pts(mesh, edges)\n",
    "\n",
    "    x1 = np.concatenate([i.T for i in s_curve_list])\n",
    "\n",
    "    rng = np.random.default_rng()\n",
    "    rng.shuffle(x1, axis=0)\n",
    "    x1 = x1[:1500*hole_num]\n",
    "    pcd = o3d.geometry.PointCloud()\n",
    "    pcd.points = o3d.utility.Vector3dVector(x1)\n",
    "    pcd.rotate(np.linalg.inv(R),(0,0,0))\n",
    "    pcd.scale(10,(0,0,0))\n",
    "    x1 = np.asarray(pcd.points)\n",
    "\n",
    "    pcd_ = o3d.geometry.PointCloud()\n",
    "    pcd_.points = o3d.utility.Vector3dVector(com)\n",
    "    o3d.visualization.draw_geometries([pcd,pcd_])\n",
    "\n",
    "    x2 = com\n",
    "    d = cdist(x1, x2)\n",
    "    assignment = linear_sum_assignment(d)\n",
    "    emd = d[assignment].sum() / x1.shape[0]\n",
    "    return emd"
   ]
  },
  {
   "cell_type": "code",
   "execution_count": 119,
   "id": "41e7afef",
   "metadata": {},
   "outputs": [
    {
     "data": {
      "text/plain": [
       "0.13777602544748443"
      ]
     },
     "execution_count": 119,
     "metadata": {},
     "output_type": "execute_result"
    }
   ],
   "source": [
    "cal_emd(2)"
   ]
  },
  {
   "cell_type": "code",
   "execution_count": 109,
   "id": "ea071129",
   "metadata": {},
   "outputs": [
    {
     "data": {
      "text/plain": [
       "0.012479665171195855"
      ]
     },
     "execution_count": 109,
     "metadata": {},
     "output_type": "execute_result"
    }
   ],
   "source": [
    "emd"
   ]
  },
  {
   "cell_type": "code",
   "execution_count": null,
   "id": "9fd902bc",
   "metadata": {},
   "outputs": [],
   "source": []
  }
 ],
 "metadata": {
  "kernelspec": {
   "display_name": "Python 3 (ipykernel)",
   "language": "python",
   "name": "python3"
  },
  "language_info": {
   "codemirror_mode": {
    "name": "ipython",
    "version": 3
   },
   "file_extension": ".py",
   "mimetype": "text/x-python",
   "name": "python",
   "nbconvert_exporter": "python",
   "pygments_lexer": "ipython3",
   "version": "3.7.13"
  }
 },
 "nbformat": 4,
 "nbformat_minor": 5
}
