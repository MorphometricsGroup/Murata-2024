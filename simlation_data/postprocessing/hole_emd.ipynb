{
 "cells": [
  {
   "cell_type": "code",
   "execution_count": 172,
   "id": "792178e0",
   "metadata": {},
   "outputs": [],
   "source": [
    "import pickle\n",
    "import itertools\n",
    "import open3d as o3d\n",
    "import numpy as np\n",
    "from scipy import interpolate\n",
    "import numpy as np\n",
    "import matplotlib.pyplot as plt\n",
    "from matplotlib.animation import FuncAnimation\n",
    "from mpl_toolkits.mplot3d import Axes3D\n",
    "from scipy import interpolate\n",
    "from scipy import ndimage\n",
    "import sklearn\n",
    "from sklearn.decomposition import PCA\n",
    "import numpy as np\n",
    "from scipy.optimize import linear_sum_assignment\n",
    "from scipy.spatial.distance import cdist\n"
   ]
  },
  {
   "cell_type": "code",
   "execution_count": 353,
   "id": "9fb94d82",
   "metadata": {},
   "outputs": [],
   "source": [
    "def edges_to_lineset(mesh, edges, color):\n",
    "    ls = o3d.geometry.LineSet()\n",
    "    ls.points = mesh.vertices\n",
    "    ls.lines = edges\n",
    "    colors = np.empty((np.asarray(edges).shape[0], 3))\n",
    "    colors[:] = color\n",
    "    ls.colors = o3d.utility.Vector3dVector(colors)\n",
    "    return ls\n",
    "\n",
    "def rotation_mat(angle):\n",
    "    Rx = np.array([[1,0,0],\n",
    "                 [0, np.cos(angle[0]), -np.sin(angle[0])],\n",
    "                 [0, np.sin(angle[0]), np.cos(angle[0])]])\n",
    "\n",
    "    Ry = np.array([[np.cos(angle[1]), 0, np.sin(angle[1])],\n",
    "                 [0,1,0],\n",
    "                 [-np.sin(angle[1]), 0, np.cos(angle[1])]])\n",
    "\n",
    "    Rz = np.array([[np.cos(angle[2]), -np.sin(angle[2]), 0],\n",
    "                 [np.sin(angle[2]), np.cos(angle[2]), 0],\n",
    "                 [0,0,1]])\n",
    "    return Rz@Rx@Ry\n",
    "angle = [np.pi, np.pi, 0] # pcd.rotate()\n",
    "#angle = [-np.pi/2, np.pi/2, np.pi/2]\n",
    "R = rotation_mat(angle)\n",
    "R_mirror = np.array([[-1,0,0],\n",
    "                    [0,1,0],\n",
    "                    [0,0,1]])\n",
    "\n",
    "def get_com(mesh, edges):\n",
    "    length = 500\n",
    "    vertices = np.asarray(mesh.vertices)\n",
    "    edges = np.asarray(edges)\n",
    "\n",
    "    for i in range(len(vertices[edges])):\n",
    "        start = vertices[edges][i][0]/100\n",
    "        end = vertices[edges][i][1]/100\n",
    "\n",
    "        _com = end + np.repeat(np.arange(length+1),3).reshape((length+1,3)) * (start - end)/length\n",
    "\n",
    "        if i == 0:\n",
    "            com = np.copy(_com)\n",
    "            continue\n",
    "        com = np.concatenate([com, _com])\n",
    "    return com\n",
    "\n"
   ]
  },
  {
   "cell_type": "code",
   "execution_count": 354,
   "id": "108ad961",
   "metadata": {},
   "outputs": [],
   "source": [
    "curve_list=[\"curves_by/fixed/smoothed/s_112_b20_s105_lmin40_lmax_100_o15_one_hole_leaf.curves\",\n",
    "           \"curves_by/fixed/smoothed/s_112_b20_s105_lmin40_lmax_100_o15_two_hole_leaf.curves\",\n",
    "           \"curves_by/fixed/smoothed/s_112_b20_s105_lmin40_lmax_100_o15_three_hole_leaf.curves\",\n",
    "           \"curves_by/fixed/smoothed/s_112_b20_s105_lmin40_lmax_100_o15_four_hole_leaf.curves\",\n",
    "           \"curves_by/fixed/smoothed/s_112_b20_s105_lmin40_lmax_100_o15_five_hole_leaf.curves\",\n",
    "           \"curves_by/fixed/smoothed/s_112_b20_s100_lmin40_lmax_100_o15_six_hole_leaf.curves\"]"
   ]
  },
  {
   "cell_type": "code",
   "execution_count": 355,
   "id": "34de1efc",
   "metadata": {},
   "outputs": [],
   "source": [
    "with open(curve_list[0], \"rb\") as pickle_file:\n",
    "    s_curve_list = pickle.load(pickle_file)"
   ]
  },
  {
   "cell_type": "code",
   "execution_count": 356,
   "id": "aa974402",
   "metadata": {},
   "outputs": [],
   "source": [
    "mesh = o3d.io.read_triangle_mesh(\"polygon/fix/one_hole_leaf.ply\")\n",
    "mesh.triangles = o3d.utility.Vector3iVector(np.asarray(mesh.triangles))\n",
    "edges = mesh.get_non_manifold_edges(allow_boundary_edges=False)\n",
    "com = get_com(mesh, edges)\n",
    "rng = np.random.default_rng()\n",
    "rng.shuffle(com, axis=0)\n"
   ]
  },
  {
   "cell_type": "code",
   "execution_count": 357,
   "id": "5c4d9f52",
   "metadata": {},
   "outputs": [],
   "source": [
    "x1 = np.concatenate([i.T for i in s_curve_list])\n",
    "rng = np.random.default_rng()\n",
    "rng.shuffle(x1, axis=0)\n",
    "x1 = x1[:1500]\n",
    "pcd = o3d.geometry.PointCloud()\n",
    "pcd.points = o3d.utility.Vector3dVector(x1)\n",
    "pcd.rotate(np.linalg.inv(R),(0,0,0))\n",
    "pcd.scale(10,(0,0,0))\n",
    "x1 = np.asarray(pcd.points)"
   ]
  },
  {
   "cell_type": "code",
   "execution_count": 358,
   "id": "8ee9ec1b",
   "metadata": {},
   "outputs": [],
   "source": [
    "pcd_ = o3d.geometry.PointCloud()\n",
    "pcd_.points = o3d.utility.Vector3dVector(com)"
   ]
  },
  {
   "cell_type": "code",
   "execution_count": 359,
   "id": "a87903cd",
   "metadata": {},
   "outputs": [],
   "source": [
    "o3d.visualization.draw_geometries([pcd,pcd_])"
   ]
  },
  {
   "cell_type": "code",
   "execution_count": 348,
   "id": "a1988256",
   "metadata": {},
   "outputs": [
    {
     "data": {
      "text/plain": [
       "(1500, 3)"
      ]
     },
     "execution_count": 348,
     "metadata": {},
     "output_type": "execute_result"
    }
   ],
   "source": [
    "x1.shape"
   ]
  },
  {
   "cell_type": "code",
   "execution_count": 349,
   "id": "5a3cdcf5",
   "metadata": {},
   "outputs": [
    {
     "data": {
      "text/plain": [
       "(37575, 3)"
      ]
     },
     "execution_count": 349,
     "metadata": {},
     "output_type": "execute_result"
    }
   ],
   "source": [
    "com.shape"
   ]
  },
  {
   "cell_type": "code",
   "execution_count": null,
   "id": "e133eeef",
   "metadata": {},
   "outputs": [],
   "source": []
  },
  {
   "cell_type": "code",
   "execution_count": 350,
   "id": "41e7afef",
   "metadata": {},
   "outputs": [],
   "source": [
    "x2 = com\n",
    "d = cdist(x1, x2)\n",
    "assignment = linear_sum_assignment(d)\n",
    "emd = d[assignment].sum() / x1.shape[0]"
   ]
  },
  {
   "cell_type": "code",
   "execution_count": 351,
   "id": "ea071129",
   "metadata": {},
   "outputs": [
    {
     "data": {
      "text/plain": [
       "0.01322443046679697"
      ]
     },
     "execution_count": 351,
     "metadata": {},
     "output_type": "execute_result"
    }
   ],
   "source": [
    "emd"
   ]
  },
  {
   "cell_type": "code",
   "execution_count": null,
   "id": "9fd902bc",
   "metadata": {},
   "outputs": [],
   "source": []
  }
 ],
 "metadata": {
  "kernelspec": {
   "display_name": "Python 3 (ipykernel)",
   "language": "python",
   "name": "python3"
  },
  "language_info": {
   "codemirror_mode": {
    "name": "ipython",
    "version": 3
   },
   "file_extension": ".py",
   "mimetype": "text/x-python",
   "name": "python",
   "nbconvert_exporter": "python",
   "pygments_lexer": "ipython3",
   "version": "3.7.13"
  }
 },
 "nbformat": 4,
 "nbformat_minor": 5
}
