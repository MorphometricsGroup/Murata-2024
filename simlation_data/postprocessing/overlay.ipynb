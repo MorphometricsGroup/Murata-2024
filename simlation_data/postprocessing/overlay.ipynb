{
 "cells": [
  {
   "cell_type": "code",
   "execution_count": 1,
   "id": "5d7783ea",
   "metadata": {},
   "outputs": [
    {
     "name": "stdout",
     "output_type": "stream",
     "text": [
      "Jupyter environment detected. Enabling Open3D WebVisualizer.\n",
      "[Open3D INFO] WebRTC GUI backend enabled.\n",
      "[Open3D INFO] WebRTCWindowSystem: HTTP handshake server disabled.\n"
     ]
    }
   ],
   "source": [
    "import pickle\n",
    "import itertools\n",
    "import open3d as o3d\n",
    "import numpy as np"
   ]
  },
  {
   "cell_type": "code",
   "execution_count": 342,
   "id": "60bf8d3c",
   "metadata": {},
   "outputs": [],
   "source": [
    "with open(\"curves_by/one_leaf.curves\", \"rb\") as pickle_file:\n",
    "    curve_fragment = pickle.load(pickle_file)"
   ]
  },
  {
   "cell_type": "code",
   "execution_count": 343,
   "id": "b795ff86",
   "metadata": {},
   "outputs": [],
   "source": [
    "cfs = [[],[],[],[],[],[],[],[]]\n",
    "for cols in curve_fragment:\n",
    "    for i in range(len(cols)):\n",
    "        if i == 0:\n",
    "            cfs[0] += cols[i]\n",
    "        if i == 1:\n",
    "            cfs[1] += cols[i]\n",
    "        if i == 2:\n",
    "            cfs[2] += cols[i]\n",
    "        if i == 3:\n",
    "            cfs[3] += cols[i]\n",
    "        if i == 4:\n",
    "            cfs[4] += cols[i]\n",
    "        if i == 5:\n",
    "            cfs[5] += cols[i]\n",
    "        if i == 6:\n",
    "            cfs[6] += cols[i]\n",
    "        if i == 7:\n",
    "            cfs[7] += cols[i]"
   ]
  },
  {
   "cell_type": "code",
   "execution_count": 354,
   "id": "4205f8c7",
   "metadata": {},
   "outputs": [],
   "source": [
    "from scipy import interpolate\n",
    "color_arr = np.array([[0,255,0],[0,255,0],[0,0,255],\n",
    "                             [255,255,0],[255,0,255],[0,255,255],\n",
    "                             [127,127,127],[127,0,127],[0,127,127]],dtype = np.int16)\n",
    "\n",
    "_cfs = []\n",
    "\n",
    "for i in range(len(cfs)):\n",
    "    color_cfs = []\n",
    "    for j, frag in enumerate(cfs[i]):\n",
    "        if frag.size == 0:\n",
    "            continue\n",
    "        #print(frag)\n",
    "        x = frag[:,0]\n",
    "        y = frag[:,1]\n",
    "        z = frag[:,2]\n",
    "        data = [x,y,z]\n",
    "        try:\n",
    "            tck, u= interpolate.splprep(data, k=3)\n",
    "        except ValueError:\n",
    "            pass\n",
    "        except TypeError:\n",
    "            pass\n",
    "        new = interpolate.splev(u, tck, der=0)\n",
    "        c = color_arr[i]/255\n",
    "        if j % 20 == 0:\n",
    "            color_cfs.append(np.array([new[0], new[2], new[1]]).transpose(1,0))\n",
    "    _cfs.append(color_cfs)"
   ]
  },
  {
   "cell_type": "code",
   "execution_count": 355,
   "id": "a296e40d",
   "metadata": {},
   "outputs": [],
   "source": [
    "mesh = o3d.io.read_triangle_mesh(\"polygon/plant3.ply\")\n",
    "edges = mesh.get_non_manifold_edges(allow_boundary_edges=False)"
   ]
  },
  {
   "cell_type": "code",
   "execution_count": 356,
   "id": "5166c85b",
   "metadata": {},
   "outputs": [],
   "source": [
    "def edges_to_lineset(mesh, edges, color):\n",
    "    ls = o3d.geometry.LineSet()\n",
    "    ls.points = mesh.vertices\n",
    "    ls.lines = edges\n",
    "    colors = np.empty((np.asarray(edges).shape[0], 3))\n",
    "    colors[:] = color\n",
    "    ls.colors = o3d.utility.Vector3dVector(colors)\n",
    "    return ls"
   ]
  },
  {
   "cell_type": "code",
   "execution_count": 357,
   "id": "6c141f1c",
   "metadata": {},
   "outputs": [],
   "source": [
    "def rotation_mat(angle):\n",
    "    Rx = np.array([[1,0,0],\n",
    "                 [0, np.cos(angle[0]), -np.sin(angle[0])],\n",
    "                 [0, np.sin(angle[0]), np.cos(angle[0])]])\n",
    "\n",
    "    Ry = np.array([[np.cos(angle[1]), 0, np.sin(angle[1])],\n",
    "                 [0,1,0],\n",
    "                 [-np.sin(angle[1]), 0, np.cos(angle[1])]])\n",
    "\n",
    "    Rz = np.array([[np.cos(angle[2]), -np.sin(angle[2]), 0],\n",
    "                 [np.sin(angle[2]), np.cos(angle[2]), 0],\n",
    "                 [0,0,1]])\n",
    "    return Rz@Rx@Ry\n"
   ]
  },
  {
   "cell_type": "code",
   "execution_count": 358,
   "id": "9d9251e5",
   "metadata": {},
   "outputs": [],
   "source": [
    "geoms = [mesh]\n",
    "geoms.append(edges_to_lineset(mesh, edges, (1, 0, 0)))"
   ]
  },
  {
   "cell_type": "code",
   "execution_count": 359,
   "id": "6318827d",
   "metadata": {},
   "outputs": [],
   "source": [
    "#o3d.visualization.draw_geometries(geoms)"
   ]
  },
  {
   "cell_type": "code",
   "execution_count": 360,
   "id": "82f27c85",
   "metadata": {},
   "outputs": [],
   "source": [
    "angle = [np.pi, np.pi, 0] # pcd.rotate()\n",
    "#angle = [-np.pi/2, np.pi/2, np.pi/2]\n",
    "R = rotation_mat(angle)\n",
    "R_mirror = np.array([[-1,0,0],\n",
    "                    [0,1,0],\n",
    "                    [0,0,1]])"
   ]
  },
  {
   "cell_type": "code",
   "execution_count": 361,
   "id": "91752e51",
   "metadata": {},
   "outputs": [
    {
     "data": {
      "text/plain": [
       "8"
      ]
     },
     "execution_count": 361,
     "metadata": {},
     "output_type": "execute_result"
    }
   ],
   "source": [
    "len(_cfs)"
   ]
  },
  {
   "cell_type": "code",
   "execution_count": 362,
   "id": "c8d7a4f0",
   "metadata": {},
   "outputs": [],
   "source": [
    "geo = []\n",
    "for j, color in enumerate(_cfs):\n",
    "    for l_c in color:\n",
    "        points = l_c\n",
    "        lines = [[i,i+1] for i in range(len(points)-1)]\n",
    "        colors = [color_arr[j]/255 for i in range(len(lines))]\n",
    "        #print(len(points),len(lines),len(colors))\n",
    "\n",
    "        line_set = o3d.geometry.LineSet(\n",
    "            points=o3d.utility.Vector3dVector(points),\n",
    "            lines=o3d.utility.Vector2iVector(lines),\n",
    "        )\n",
    "        line_set.colors = o3d.utility.Vector3dVector(colors)\n",
    "        line_set.rotate(np.linalg.inv(R),(0,0,0))\n",
    "        line_set.scale(10,(0,0,0))\n",
    "        geo.append(line_set)\n",
    "\n",
    "o3d.visualization.draw_geometries(geo)"
   ]
  },
  {
   "cell_type": "code",
   "execution_count": 341,
   "id": "f9e231ce",
   "metadata": {},
   "outputs": [],
   "source": [
    "geo.append(mesh)\n",
    "o3d.visualization.draw_geometries(geo)"
   ]
  },
  {
   "cell_type": "code",
   "execution_count": 195,
   "id": "280541f4",
   "metadata": {},
   "outputs": [],
   "source": [
    "flatten_curve_frag = np.array(list(itertools.chain.from_iterable(_cfs)))\n",
    "#flatten_curve_frag = (np.linalg.inv(R_mirror)@np.linalg.inv(R)@flatten_curve_frag.T).T\n",
    "\n",
    "point_num = flatten_curve_frag.shape[0]\n",
    "pcd = o3d.geometry.PointCloud()\n",
    "pcd.points = o3d.utility.Vector3dVector(flatten_curve_frag)\n",
    "pcd.colors = o3d.utility.Vector3dVector(np.repeat(np.array((0, 1, 0)).reshape(1,-1), point_num, axis=0))\n",
    "#pcd.rotate(R_mirror,(0,0,0))\n",
    "pcd.rotate(np.linalg.inv(R),(0,0,0))\n",
    "pcd.scale(10,(0,0,0))\n",
    "geoms.append(pcd)"
   ]
  },
  {
   "cell_type": "code",
   "execution_count": 196,
   "id": "399994e9",
   "metadata": {},
   "outputs": [],
   "source": [
    "o3d.visualization.draw_geometries(geoms)"
   ]
  },
  {
   "cell_type": "code",
   "execution_count": 182,
   "id": "64cdbf07",
   "metadata": {},
   "outputs": [
    {
     "name": "stdout",
     "output_type": "stream",
     "text": [
      "[Open3D WARNING] [ViewControl] SetViewPoint() failed because window height and width are not set.\n"
     ]
    }
   ],
   "source": [
    "o3d.visualization.draw_geometries([pcd])"
   ]
  },
  {
   "cell_type": "code",
   "execution_count": 167,
   "id": "9c73d2c8",
   "metadata": {},
   "outputs": [
    {
     "data": {
      "text/plain": [
       "array([[2.48615587, 2.2975443 , 1.07655068],\n",
       "       [2.49763071, 2.28802732, 1.09351589],\n",
       "       [2.50086806, 2.28528549, 1.09794999],\n",
       "       ...,\n",
       "       [2.14656379, 2.26655423, 1.34958684],\n",
       "       [2.12544096, 2.26875637, 1.36164059],\n",
       "       [2.10515791, 2.27130045, 1.37321302]])"
      ]
     },
     "execution_count": 167,
     "metadata": {},
     "output_type": "execute_result"
    }
   ],
   "source": [
    "np.asarray(pcd.points)"
   ]
  },
  {
   "cell_type": "code",
   "execution_count": null,
   "id": "14388a6d",
   "metadata": {},
   "outputs": [],
   "source": []
  }
 ],
 "metadata": {
  "kernelspec": {
   "display_name": "Python 3",
   "language": "python",
   "name": "python3"
  },
  "language_info": {
   "codemirror_mode": {
    "name": "ipython",
    "version": 3
   },
   "file_extension": ".py",
   "mimetype": "text/x-python",
   "name": "python",
   "nbconvert_exporter": "python",
   "pygments_lexer": "ipython3",
   "version": "3.7.10"
  }
 },
 "nbformat": 4,
 "nbformat_minor": 5
}
