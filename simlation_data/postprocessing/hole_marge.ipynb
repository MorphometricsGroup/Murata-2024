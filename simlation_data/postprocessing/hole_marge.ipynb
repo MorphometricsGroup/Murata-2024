{
 "cells": [
  {
   "cell_type": "code",
   "execution_count": 8,
   "metadata": {
    "executionInfo": {
     "elapsed": 395,
     "status": "ok",
     "timestamp": 1636096972872,
     "user": {
      "displayName": "Hidekazu Murata",
      "photoUrl": "https://lh3.googleusercontent.com/a-/AOh14GhU8pJWi_Devqzhz9yBgZqqzpoQ4mFusjKRolcFJw=s64",
      "userId": "06517409026383919794"
     },
     "user_tz": -540
    },
    "id": "7DlK5HhB9xNB"
   },
   "outputs": [],
   "source": [
    "import pickle\n",
    "import open3d as o3d\n",
    "import numpy as np\n",
    "import matplotlib.pyplot as plt"
   ]
  },
  {
   "cell_type": "code",
   "execution_count": 9,
   "metadata": {},
   "outputs": [],
   "source": [
    "curve_fragment_list = [(0, \"curves_by/fixed/112_b20_s105_lmin40_lmax_100_o15_no_hole_leaf.curves\"),\n",
    "                        (1, \"curves_by/fixed/112_b20_s105_lmin40_lmax_100_o15_one_hole_leaf.curves\"),\n",
    "                        (2, \"curves_by/fixed/112_b20_s105_lmin40_lmax_100_o15_two_hole_leaf.curves\"),\n",
    "                        (3, \"curves_by/fixed/112_b20_s105_lmin40_lmax_100_o15_three_hole_leaf.curves\"),\n",
    "                        (4, \"curves_by/fixed/112_b20_s105_lmin40_lmax_100_o15_four_hole_leaf.curves\"),\n",
    "                        (5, \"curves_by/fixed/112_b20_s105_lmin40_lmax_100_o15_five_hole_leaf.curves\"),\n",
    "                        (6, \"curves_by/fixed/112_b20_s100_lmin40_lmax_100_o15_six_hole_leaf.curves\")]"
   ]
  },
  {
   "cell_type": "code",
   "execution_count": 20,
   "metadata": {
    "executionInfo": {
     "elapsed": 324,
     "status": "ok",
     "timestamp": 1636097168472,
     "user": {
      "displayName": "Hidekazu Murata",
      "photoUrl": "https://lh3.googleusercontent.com/a-/AOh14GhU8pJWi_Devqzhz9yBgZqqzpoQ4mFusjKRolcFJw=s64",
      "userId": "06517409026383919794"
     },
     "user_tz": -540
    },
    "id": "HHG4w20V9xHw"
   },
   "outputs": [
    {
     "name": "stdout",
     "output_type": "stream",
     "text": [
      "[Open3D DEBUG] Precompute neighbors.\n",
      "[Open3D DEBUG] Done Precompute neighbors.\n",
      "[Open3D DEBUG] Compute Clusters\n",
      "[Open3D DEBUG] Done Compute Clusters: 8\n",
      "point cloud has 8 clusters\n"
     ]
    }
   ],
   "source": [
    "idx = 6\n",
    "hole_num, path = curve_fragment_list[idx]\n",
    "\n",
    "with open(path, 'rb') as pickle_file:\n",
    "    curve_fragment = pickle.load(pickle_file)\n",
    "        \n",
    "cfs = [[] for i in range(len(curve_fragment[0]))]\n",
    "for cols in curve_fragment:\n",
    "    for i in range(len(cols)):\n",
    "        cfs[i] += cols[i]\n",
    "\n",
    "flatten_curve_frag = np.concatenate(cfs[0])\n",
    "pcd = o3d.geometry.PointCloud()\n",
    "pcd.points = o3d.utility.Vector3dVector(flatten_curve_frag)\n",
    "\n",
    "with o3d.utility.VerbosityContextManager(\n",
    "        o3d.utility.VerbosityLevel.Debug) as cm:\n",
    "    labels = np.array(\n",
    "        pcd.cluster_dbscan(eps=0.0035, min_points=1000, print_progress=True))\n",
    "\n",
    "max_label = labels.max()\n",
    "print(f\"point cloud has {max_label + 1} clusters\")\n",
    "colors = plt.get_cmap(\"tab20\")(labels / (max_label if max_label > 0 else 1))\n",
    "colors[labels < 0] = 0\n",
    "pcd.colors = o3d.utility.Vector3dVector(colors[:, :3])\n",
    "o3d.visualization.draw_geometries([pcd])"
   ]
  },
  {
   "cell_type": "code",
   "execution_count": null,
   "metadata": {},
   "outputs": [],
   "source": [
    "np.unique(labels, return_counts=True) # 0,1,4,5,7,8,9"
   ]
  },
  {
   "cell_type": "code",
   "execution_count": null,
   "metadata": {},
   "outputs": [],
   "source": [
    "flatten_curve_frag = np.concatenate(cfs[0])\n",
    "pcd = o3d.geometry.PointCloud()\n",
    "pcd.points = o3d.utility.Vector3dVector(flatten_curve_frag)\n",
    "\n",
    "with o3d.utility.VerbosityContextManager(\n",
    "        o3d.utility.VerbosityLevel.Debug) as cm:\n",
    "    labels = np.array(\n",
    "        pcd.cluster_dbscan(eps=0.0045, min_points=10, print_progress=True))\n",
    "\n",
    "max_label = labels.max()\n",
    "print(f\"point cloud has {max_label + 1} clusters\")\n",
    "colors = plt.get_cmap(\"tab20\")(labels / (max_label if max_label > 0 else 1))\n",
    "colors[labels < 0] = 0\n",
    "pcd.colors = o3d.utility.Vector3dVector(colors[:, :3])\n",
    "o3d.visualization.draw_geometries([pcd])"
   ]
  },
  {
   "cell_type": "code",
   "execution_count": null,
   "metadata": {
    "executionInfo": {
     "elapsed": 304,
     "status": "ok",
     "timestamp": 1636099471257,
     "user": {
      "displayName": "Hidekazu Murata",
      "photoUrl": "https://lh3.googleusercontent.com/a-/AOh14GhU8pJWi_Devqzhz9yBgZqqzpoQ4mFusjKRolcFJw=s64",
      "userId": "06517409026383919794"
     },
     "user_tz": -540
    },
    "id": "lvYyPzy4Ft4Y"
   },
   "outputs": [],
   "source": [
    "flatten_curve_frag = np.array(list(itertools.chain.from_iterable(cfs[0][::50])))\n",
    "pcd = o3d.geometry.PointCloud()\n",
    "pcd.points = o3d.utility.Vector3dVector(flatten_curve_frag)"
   ]
  },
  {
   "cell_type": "code",
   "execution_count": null,
   "metadata": {
    "id": "VxLqBXe5If_2"
   },
   "outputs": [],
   "source": [
    "with o3d.utility.VerbosityContextManager(\n",
    "        o3d.utility.VerbosityLevel.Debug) as cm:\n",
    "    labels = np.array(\n",
    "        pcd.cluster_dbscan(eps=0.0045, min_points=10, print_progress=True))\n",
    "\n",
    "max_label = labels.max()\n",
    "print(f\"point cloud has {max_label + 1} clusters\")\n",
    "colors = plt.get_cmap(\"tab20\")(labels / (max_label if max_label > 0 else 1))\n",
    "colors[labels < 0] = 0\n",
    "pcd.colors = o3d.utility.Vector3dVector(colors[:, :3])\n",
    "o3d.visualization.draw_geometries([pcd])"
   ]
  },
  {
   "cell_type": "code",
   "execution_count": null,
   "metadata": {},
   "outputs": [],
   "source": [
    "np.unique(labels, return_counts=True) # 0,1,4,5,7,8,9"
   ]
  },
  {
   "cell_type": "code",
   "execution_count": null,
   "metadata": {},
   "outputs": [],
   "source": [
    "import pickle\n",
    "with open(\"curves_by/fixed/smoothed/s_112_b20_s100_lmin40_lmax_100_o15_six_hole_leaf.curves\",\"wb\") as f:\n",
    "    pickle.dump(p_list, f)"
   ]
  },
  {
   "cell_type": "code",
   "execution_count": null,
   "metadata": {},
   "outputs": [],
   "source": []
  },
  {
   "cell_type": "code",
   "execution_count": null,
   "metadata": {},
   "outputs": [],
   "source": []
  }
 ],
 "metadata": {
  "colab": {
   "authorship_tag": "ABX9TyPFiXXfSCeO4jYN8tlSj2jB",
   "collapsed_sections": [],
   "mount_file_id": "105DDatjhqhi2TfOm_LHgXZ-ZhxsnKmVB",
   "name": "curve_open3D.ipynb",
   "provenance": []
  },
  "kernelspec": {
   "display_name": "Python 3 (ipykernel)",
   "language": "python",
   "name": "python3"
  },
  "language_info": {
   "codemirror_mode": {
    "name": "ipython",
    "version": 3
   },
   "file_extension": ".py",
   "mimetype": "text/x-python",
   "name": "python",
   "nbconvert_exporter": "python",
   "pygments_lexer": "ipython3",
   "version": "3.7.13"
  }
 },
 "nbformat": 4,
 "nbformat_minor": 1
}
