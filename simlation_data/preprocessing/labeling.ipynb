{
 "cells": [
  {
   "cell_type": "code",
   "execution_count": 1,
   "id": "03ce1b6b",
   "metadata": {},
   "outputs": [
    {
     "name": "stdout",
     "output_type": "stream",
     "text": [
      "Jupyter environment detected. Enabling Open3D WebVisualizer.\n",
      "[Open3D INFO] WebRTC GUI backend enabled.\n",
      "[Open3D INFO] WebRTCWindowSystem: HTTP handshake server disabled.\n"
     ]
    }
   ],
   "source": [
    "import pickle\n",
    "import itertools\n",
    "import open3d as o3d\n",
    "import numpy as np\n",
    "import matplotlib.pyplot as plt\n",
    "import os\n",
    "import cv2\n",
    "import pathlib"
   ]
  },
  {
   "cell_type": "code",
   "execution_count": 2,
   "id": "b50b13c7",
   "metadata": {},
   "outputs": [],
   "source": [
    "## mask.csvように書き換える\n",
    "class Camera:\n",
    "    def __init__(self, img_num, f=8000 / 3, cx=1920 / 2, cy=1080 / 2):\n",
    "        self.img_num = img_num  # カメラ番号（int;コンストラクタ）\n",
    "\n",
    "        A = np.array([[f, 0, cx], [0, f, cy], [0, 0, 1]])\n",
    "\n",
    "        self.A = A  # 内部パラメータ(ndarray)後から更新\n",
    "\n",
    "    def img_load(self, dir_path):\n",
    "        \"\"\"_summary_\n",
    "\n",
    "        Args:\n",
    "            file_path (_type_): _description_\n",
    "\n",
    "        TODO: 画像を1チャネルに変える\n",
    "        \"\"\"\n",
    "        img_list = []\n",
    "        for i in range(8):\n",
    "            file_path = os.path.join(dir_path, \"{}_{}.png\".format(self.img_num, i))\n",
    "            img = cv2.imread(file_path, 1)  # BGRで読み込み\n",
    "            img = cv2.cvtColor(img, cv2.COLOR_BGR2RGB)\n",
    "            img = cv2.flip(img, 1)\n",
    "            img_list.append(img)\n",
    "        self.img = img_list  # 画像(ndarray)\n",
    "        self.img_shape = img.shape\n",
    "\n",
    "    def contour_extraction(\n",
    "        self,\n",
    "        labels=[\n",
    "            [255, 0, 0],\n",
    "            [0, 255, 0],\n",
    "            [0, 0, 255],\n",
    "            [255, 255, 0],\n",
    "            [255, 0, 255],\n",
    "            [0, 255, 255],\n",
    "            [127, 127, 127],\n",
    "            [127, 0, 127]\n",
    "        ],\n",
    "    ):\n",
    "        \"\"\"Extract contours based on their labels (colors)\n",
    "\n",
    "        Args:\n",
    "            labels (_type_): _description_\n",
    "\n",
    "        TODO: 画像を1チャネルに変える\n",
    "        \"\"\"\n",
    "\n",
    "        n_labels = len(labels)\n",
    "        color_arr = np.array(labels, dtype=np.int16)\n",
    "        masks = np.ones(\n",
    "            (self.img[0].shape[0], self.img[0].shape[1], n_labels), dtype=np.uint8\n",
    "        )\n",
    "\n",
    "        for i, color in enumerate(color_arr):\n",
    "            lower = np.clip(color, 0, 255)\n",
    "            upper = np.clip(color, 0, 255)\n",
    "            img_mask = cv2.inRange(self.img[i], lower, upper)\n",
    "            masks[:, :, i] = img_mask\n",
    "\n",
    "        self.masks = masks # 色ごとのマスク(nd.array)\n",
    "\n",
    "        contour_list = []\n",
    "\n",
    "        # 色ごとに輪郭（閉曲線）を抽出\n",
    "        for i in range(masks.shape[2]):\n",
    "            contours, hierarchy = cv2.findContours(\n",
    "                masks[:, :, i], cv2.RETR_TREE, cv2.CHAIN_APPROX_NONE\n",
    "            )\n",
    "            contour_list.append(contours)\n",
    "        self.contour_list = contour_list  # 輪郭のリスト(list,ndarray)\n",
    "\n",
    "    def para_load(self, file_path):\n",
    "        self.Rt = np.loadtxt(file_path, delimiter=\"\\t\")\n",
    "        self.P = np.dot(self.A, self.Rt[0:3, 0:4])\n",
    "        self.cam_world_cood = -np.dot(self.Rt[0:3, 0:3].T, self.Rt[0:3, 3])\n"
   ]
  },
  {
   "cell_type": "code",
   "execution_count": 3,
   "id": "503e482f",
   "metadata": {},
   "outputs": [],
   "source": [
    "def norm(vec):\n",
    "    s_vec = np.square(vec)\n",
    "    sume = np.sum(s_vec)\n",
    "    ss = np.sqrt(sume)\n",
    "    return vec/ss"
   ]
  },
  {
   "cell_type": "code",
   "execution_count": 4,
   "id": "74ad2fba",
   "metadata": {},
   "outputs": [],
   "source": [
    "class LabelProp:\n",
    "    \n",
    "    def __init__(self, val, pcd, labels, img_folder_path, view_mat_folder_path):\n",
    "        self.num = val\n",
    "        self.LABELS = labels\n",
    "        self.PCD = pcd\n",
    "        self.im_path = img_folder_path\n",
    "        self.view_path = view_mat_folder_path\n",
    "        \n",
    "    def cam_load(self):\n",
    "        test = Camera(self.num)\n",
    "        test.img_load(self.im_path)\n",
    "\n",
    "        test.contour_extraction()\n",
    "        test.para_load(os.path.join(self.view_path, \"{}.csv\".format(str(self.num))))\n",
    "        self.cam = test\n",
    "    \n",
    "    def point_cloud_load(self):\n",
    "        self.pcd = self.PCD\n",
    "        self.labels = self.LABELS\n",
    "    \n",
    "    def pc_prop(self):\n",
    "        # 点群加工\n",
    "        camera = self.cam.cam_world_cood   \n",
    "        diameter = np.linalg.norm(\n",
    "            np.asarray(self.pcd.get_max_bound()) - np.asarray(self.pcd.get_min_bound()))\n",
    "        #camera = cam_world_cood\n",
    "        radius = diameter*10000\n",
    "\n",
    "        _, pt_map = self.pcd.hidden_point_removal(camera, radius)\n",
    "        self.pcd = self.pcd.select_by_index(sorted(pt_map))\n",
    "\n",
    "        self.TD_points = np.concatenate([np.asarray(self.pcd.points), np.ones((np.asarray(self.pcd.points).shape[0],1))], axis=1)\n",
    "        self.labels = self.labels[np.array(sorted(pt_map))]\n",
    "        \n",
    "    def pc_labeling(self):\n",
    "        repro_points = normalization((self.cam.P@self.TD_points.T).T)\n",
    "        repro_points = np.round(repro_points).astype(np.int64)\n",
    "        \n",
    "        idx = (repro_points[:,0]>0) & (repro_points[:,0]<self.cam.img_shape[1]) & (repro_points[:,1]>0) & (repro_points[:,1]<self.cam.img_shape[0])\n",
    "        \n",
    "        self.repro_points = repro_points[idx]\n",
    "        self.labels = self.labels[idx]\n",
    "        \n",
    "    def labeling(self):\n",
    "        overrap_list = np.zeros((labels.max().astype(int)+1 , self.cam.masks.shape[2]))\n",
    "        for j in np.unique(self.labels):\n",
    "            temp_overrap_list = []\n",
    "            zero_mask = np.zeros([self.cam.masks.shape[0],self.cam.masks.shape[1]])\n",
    "            zero_mask[self.repro_points[self.labels==j][:,1], self.repro_points[self.labels==j][:,0]] = 1\n",
    "            for i in range(self.cam.masks.shape[2]):\n",
    "                temp_overrap_list.append(np.sum((zero_mask>0) * (self.cam.masks[:,:,i]>0)))\n",
    "            overrap_list[int(j),:] = np.array(temp_overrap_list)\n",
    "        self.output_label = np.argmax(overrap_list,axis=0)\n",
    "\n",
    "def normalization(vec3):\n",
    "    return np.array([vec3[:,0]/vec3[:,2], vec3[:,1]/vec3[:,2]]).T\n",
    "\n",
    "        \n",
    "def prop_all(num, pcd, labels, img_folder_path, view_mat_folder_path):\n",
    "    lp = LabelProp(num, pcd, labels, img_folder_path, view_mat_folder_path)\n",
    "    lp.cam_load()\n",
    "    lp.point_cloud_load()\n",
    "    lp.pc_prop()\n",
    "    lp.pc_labeling()\n",
    "    lp.labeling()\n",
    "    return lp.output_label"
   ]
  },
  {
   "cell_type": "code",
   "execution_count": 5,
   "id": "a57fdef2",
   "metadata": {},
   "outputs": [],
   "source": [
    "def rotation_mat(angle):\n",
    "    Rx = np.array([[1,0,0],\n",
    "                 [0, np.cos(angle[0]), -np.sin(angle[0])],\n",
    "                 [0, np.sin(angle[0]), np.cos(angle[0])]])\n",
    "\n",
    "    Ry = np.array([[np.cos(angle[1]), 0, np.sin(angle[1])],\n",
    "                 [0,1,0],\n",
    "                 [-np.sin(angle[1]), 0, np.cos(angle[1])]])\n",
    "\n",
    "    Rz = np.array([[np.cos(angle[2]), -np.sin(angle[2]), 0],\n",
    "                 [np.sin(angle[2]), np.cos(angle[2]), 0],\n",
    "                 [0,0,1]])\n",
    "    return Rz@Rx@Ry\n",
    "angle = [np.pi, np.pi, 0] # pcd.rotate()\n",
    "#angle = [-np.pi/2, np.pi/2, np.pi/2]\n",
    "R = rotation_mat(angle)\n",
    "R_mirror = np.array([[-1,0,0],\n",
    "                    [0,1,0],\n",
    "                    [0,0,1]])\n",
    "\n",
    "def clustering(mesh_path):\n",
    "    mesh = o3d.io.read_triangle_mesh(mesh_path)\n",
    "    pcd = mesh.sample_points_uniformly(number_of_points=50000)\n",
    "    pcd.rotate(R,(0,0,0))\n",
    "    points = np.asarray(pcd.points)\n",
    "    points = points[:,[0,2,1]]\n",
    "    pcd.points = o3d.utility.Vector3dVector(points)\n",
    "\n",
    "    labels = np.array(pcd.cluster_dbscan(eps=0.17, min_points=100))\n",
    "    \n",
    "    pcd.scale(0.1,(0,0,0))\n",
    "    #pcd.points = o3d.utility.Vector3dVector((np.asarray(pcd.points)/10))\n",
    "    max_label = labels.max()\n",
    "    colors = plt.get_cmap(\"tab20\")(labels / (max_label if max_label > 0 else 1))\n",
    "    colors[labels < 0] = 0\n",
    "    pcd.colors = o3d.utility.Vector3dVector(colors[:, :3])\n",
    "    return labels, pcd\n",
    "#o3d.visualization.draw_geometries([pcd])"
   ]
  },
  {
   "cell_type": "code",
   "execution_count": 6,
   "id": "ca7cee3e",
   "metadata": {},
   "outputs": [],
   "source": [
    "import pathlib"
   ]
  },
  {
   "cell_type": "code",
   "execution_count": 7,
   "id": "ab70dfab",
   "metadata": {},
   "outputs": [],
   "source": [
    "folder_path = pathlib.Path(\"polygon/quan_e_a\")\n",
    "mesh_path = list(folder_path.glob(\"*.ply\"))"
   ]
  },
  {
   "cell_type": "code",
   "execution_count": null,
   "id": "42d7e94d",
   "metadata": {},
   "outputs": [],
   "source": [
    "output = \"labels/q_e_l_noise_3mm/\"\n",
    "\n",
    "for mesh in mesh_path:\n",
    "    labels, pcd = clustering(str(mesh))\n",
    "    image_folder = pathlib.Path(\"C:/home/study/git_test/curve_sketch/simlation_data/images/quan_equidistant/{}\".format(mesh.stem))\n",
    "    image_num_folder = list(image_folder.glob(\"*\"))\n",
    "    os.makedirs(os.path.join(output, mesh.stem), exist_ok=True)\n",
    "    \n",
    "    for image_num_path in image_num_folder:\n",
    "        img_num = int(image_num_path.stem)\n",
    "        view_mat_path = pathlib.Path(\"C:/home/study/git_test/curve_sketch/simlation_data/view_mats/q_e_noise_3mm/view_mat_{}\".format(str(img_num)))\n",
    "        l = []\n",
    "        for i in range(img_num): \n",
    "            label = prop_all(i, pcd, labels, str(image_num_path), str(view_mat_path))\n",
    "            l.append(label)\n",
    "            #print(label)\n",
    "        with open(os.path.join(output, '{}/{}_{}_label.pickle'.format(\n",
    "            mesh.stem, mesh.stem, str(img_num))), 'wb') as f:\n",
    "            pickle.dump(l, f)\n",
    "        "
   ]
  },
  {
   "cell_type": "code",
   "execution_count": null,
   "id": "0b19b863",
   "metadata": {},
   "outputs": [],
   "source": []
  },
  {
   "cell_type": "code",
   "execution_count": null,
   "id": "ffb1bf10",
   "metadata": {},
   "outputs": [],
   "source": []
  },
  {
   "cell_type": "code",
   "execution_count": 45,
   "id": "cd9373fe",
   "metadata": {},
   "outputs": [],
   "source": [
    "for i in range(16): \n",
    "    labels, pcd = clustering('polygon/quan/q_1.ply')\n",
    "    label = prop_all(i, pcd, labels, \n",
    "                     \"C:/home/study/git_test/curve_sketch/simlation_data/images/quan_equidistant/q_1/16/\",\n",
    "                     \"C:/home/study/git_test/curve_sketch/simlation_data/view_mats/quan_e/view_mat_16_e/\")\n",
    "    l.append(label)"
   ]
  },
  {
   "cell_type": "code",
   "execution_count": 46,
   "id": "94645905",
   "metadata": {},
   "outputs": [],
   "source": [
    "with open(os.path.join(output, 'q_1/q_1_16_e_label.pickle'), 'wb') as f:\n",
    "    pickle.dump(l, f)"
   ]
  },
  {
   "cell_type": "code",
   "execution_count": null,
   "id": "878e212a",
   "metadata": {},
   "outputs": [],
   "source": []
  },
  {
   "cell_type": "code",
   "execution_count": null,
   "id": "b0e4163f",
   "metadata": {},
   "outputs": [],
   "source": []
  },
  {
   "cell_type": "code",
   "execution_count": null,
   "id": "c97fe6b8",
   "metadata": {},
   "outputs": [],
   "source": []
  },
  {
   "cell_type": "code",
   "execution_count": null,
   "id": "c65d7fd5",
   "metadata": {},
   "outputs": [],
   "source": [
    "# 以下検証用（シミュレーションデータの回転検証のために取っておく）"
   ]
  },
  {
   "cell_type": "code",
   "execution_count": 268,
   "id": "5f6d7534",
   "metadata": {},
   "outputs": [],
   "source": [
    "i = 0\n",
    "test = Camera(i)\n",
    "test.img_load(\"C:/home/study/git_test/curve_sketch/simlation_data/images/quantitative/q_1/16/{}.png\".format(str(i)))\n",
    "test.contour_extraction()\n",
    "test.para_load(\"C:/home/study/git_test/curve_sketch/simlation_data/view_mats/view_mat_16/{}.csv\".format(str(i)))"
   ]
  },
  {
   "cell_type": "code",
   "execution_count": 269,
   "id": "152ffc9d",
   "metadata": {},
   "outputs": [],
   "source": [
    "# クラスタリング\n",
    "labels, pcd = clustering('polygon/quan/q_1.ply')\n",
    "\n",
    "max_label = labels.max()\n",
    "colors = plt.get_cmap(\"tab20\")(labels / (max_label if max_label > 0 else 1))\n",
    "colors[labels < 0] = 0\n",
    "pcd.colors = o3d.utility.Vector3dVector(colors[:, :3])\n",
    "#o3d.visualization.draw_geometries([pcd])"
   ]
  },
  {
   "cell_type": "code",
   "execution_count": 270,
   "id": "d9f3a6c3",
   "metadata": {},
   "outputs": [],
   "source": [
    "# 点群加工\n",
    "#camera = np.array((test.cam_world_cood[0], test.cam_world_cood[2], test.cam_world_cood[1]))\n",
    "camera = test.cam_world_cood\n",
    "diameter = np.linalg.norm(\n",
    "    np.asarray(pcd.get_max_bound()) - np.asarray(pcd.get_min_bound()))\n",
    "\n",
    "#camera = cam_world_cood\n",
    "radius = diameter*10000\n",
    "\n",
    "_, pt_map = pcd.hidden_point_removal(camera, radius)\n",
    "pcd = pcd.select_by_index(sorted(pt_map))\n",
    "\n",
    "TD_points = np.concatenate([np.asarray(pcd.points), np.ones((np.asarray(pcd.points).shape[0],1))], axis=1)\n",
    "\n",
    "labels = labels[np.array(sorted(pt_map))]\n",
    "o3d.visualization.draw_geometries([pcd,])"
   ]
  },
  {
   "cell_type": "code",
   "execution_count": 271,
   "id": "c4cd3bdf",
   "metadata": {},
   "outputs": [
    {
     "data": {
      "text/plain": [
       "array([ 2.49998715,  2.50000126, -0.        ])"
      ]
     },
     "execution_count": 271,
     "metadata": {},
     "output_type": "execute_result"
    }
   ],
   "source": [
    "test.cam_world_cood"
   ]
  },
  {
   "cell_type": "code",
   "execution_count": 272,
   "id": "6d28e3fa",
   "metadata": {},
   "outputs": [],
   "source": [
    "repro_points = normalization((test.P@TD_points.T).T)\n",
    "repro_points = np.round(repro_points).astype(np.int64)"
   ]
  },
  {
   "cell_type": "code",
   "execution_count": 273,
   "id": "4d16220e",
   "metadata": {},
   "outputs": [],
   "source": [
    "idx = (repro_points[:,0]>0) & (repro_points[:,0]<test.img_shape[1]) & (repro_points[:,1]>0) & (repro_points[:,1]<test.img_shape[0])"
   ]
  },
  {
   "cell_type": "code",
   "execution_count": 274,
   "id": "1d03f3f5",
   "metadata": {},
   "outputs": [],
   "source": [
    "repro_points = repro_points[idx]\n",
    "labels = labels[idx]"
   ]
  },
  {
   "cell_type": "code",
   "execution_count": 275,
   "id": "8a7f2074",
   "metadata": {},
   "outputs": [
    {
     "data": {
      "text/plain": [
       "<matplotlib.image.AxesImage at 0x26ed5606b88>"
      ]
     },
     "execution_count": 275,
     "metadata": {},
     "output_type": "execute_result"
    },
    {
     "data": {
      "image/png": "[encoded data removed]",
      "text/plain": [
       "<Figure size 640x480 with 1 Axes>"
      ]
     },
     "metadata": {},
     "output_type": "display_data"
    }
   ],
   "source": [
    "zero_mask = np.zeros([test.masks.shape[0],test.masks.shape[1]])\n",
    "zero_mask[repro_points[:,1], repro_points[:,0]] = 1\n",
    "kernel = np.ones((5,5),np.uint8)\n",
    "dilation = cv2.dilate(zero_mask*255,kernel,iterations = 1)\n",
    "plt.imshow(dilation)"
   ]
  },
  {
   "cell_type": "code",
   "execution_count": 276,
   "id": "66aa0837",
   "metadata": {},
   "outputs": [
    {
     "data": {
      "image/png": "[encoded data removed]",
      "text/plain": [
       "<Figure size 640x480 with 1 Axes>"
      ]
     },
     "metadata": {},
     "output_type": "display_data"
    }
   ],
   "source": [
    "overrap_list = []\n",
    "for j in np.unique(labels):\n",
    "    temp_overrap_list = []\n",
    "    zero_mask = np.zeros([test.masks.shape[0],test.masks.shape[1]])\n",
    "    zero_mask[repro_points[labels==j][:,1], repro_points[labels==j][:,0]] = 1\n",
    "\n",
    "    for i in range(test.masks.shape[2]):\n",
    "        #print(np.sum((zero_mask.flatten()>0) * (masks[:,:,i].flatten()>0)))\n",
    "        temp_overrap_list.append(np.sum((zero_mask.flatten()>0) * (test.masks[:,:,i].flatten()>0)))\n",
    "    overrap_list.append(temp_overrap_list)"
   ]
  },
  {
   "cell_type": "code",
   "execution_count": 277,
   "id": "4b0112a1",
   "metadata": {},
   "outputs": [
    {
     "data": {
      "image/png": "[encoded data removed]",
      "text/plain": [
       "<Figure size 640x480 with 1 Axes>"
      ]
     },
     "metadata": {},
     "output_type": "display_data"
    }
   ],
   "source": [
    "import seaborn as sns\n",
    "ax = sns.heatmap(overrap_list, linewidth=0.3, cbar=False, annot=True, fmt=\"3g\")\n",
    "ax.set(ylabel='lables_num', xlabel='masks_num', aspect='equal')\n",
    "plt.show()"
   ]
  },
  {
   "cell_type": "code",
   "execution_count": null,
   "id": "5a9fefcc",
   "metadata": {},
   "outputs": [],
   "source": []
  }
 ],
 "metadata": {
  "kernelspec": {
   "display_name": "Python 3 (ipykernel)",
   "language": "python",
   "name": "python3"
  },
  "language_info": {
   "codemirror_mode": {
    "name": "ipython",
    "version": 3
   },
   "file_extension": ".py",
   "mimetype": "text/x-python",
   "name": "python",
   "nbconvert_exporter": "python",
   "pygments_lexer": "ipython3",
   "version": "3.7.13"
  }
 },
 "nbformat": 4,
 "nbformat_minor": 5
}
